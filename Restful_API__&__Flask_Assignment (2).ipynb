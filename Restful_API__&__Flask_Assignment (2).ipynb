{
  "nbformat": 4,
  "nbformat_minor": 0,
  "metadata": {
    "colab": {
      "provenance": [],
      "gpuType": "T4"
    },
    "kernelspec": {
      "name": "python3",
      "display_name": "Python 3"
    },
    "language_info": {
      "name": "python"
    },
    "accelerator": "GPU"
  },
  "cells": [
    {
      "cell_type": "markdown",
      "source": [
        "#1. What is a RESTful API?\n",
        "\n",
        "A **RESTful API** is like a messenger that lets apps or websites talk to each other over the internet. It uses simple rules to share data, like sending and receiving messages, usually in a format called JSON. Think of it as a way to ask a server for info (like a list of users) or tell it to do something (like add a new user).\n",
        "\n",
        "## Key Ideas\n",
        "- **REST**: Stands for Representational State Transfer, a set of rules for building APIs.\n",
        "- **HTTP Methods**: Commands like:\n",
        "  - **GET**: Get data (e.g., fetch a list of students).\n",
        "  - **POST**: Send new data (e.g., add a student).\n",
        "  - **PUT**: Update data (e.g., change a student’s name).\n",
        "  - **DELETE**: Remove data (e.g., delete a student).\n",
        "- **Endpoints**: URLs like /students or /students/1 where you send requests.\n",
        "- **Stateless**: Each request is independent; the server doesn’t remember past requests.\n",
        "- **JSON**: Data is usually sent as JSON, like {\"id\": 1, \"name\": \"Alice\"}."
      ],
      "metadata": {
        "id": "cOeega9ZHZah"
      }
    },
    {
      "cell_type": "markdown",
      "source": [
        "## 2. Explain the concept of API specification\n",
        "\n",
        "An **API specification** is a formal document defining an API's structure, endpoints, methods, parameters, responses, and authentication. It acts as a contract for developers to understand and interact with the API.\n",
        "\n",
        "## Key Components\n",
        "- **Endpoints**: URLs for resources (e.g., `/users`).\n",
        "- **HTTP Methods**: Actions like GET, POST, PUT, DELETE.\n",
        "- **Parameters**: Query, path, or body data.\n",
        "- **Responses**: Data format (e.g., JSON) and status codes.\n",
        "- **Schemas**: Data structure definitions.\n",
        "- **Authentication**: Methods like API keys or OAuth.\n",
        "- **Errors**: Standardized error codes/messages.\n",
        "\n",
        "## Why It Matters\n",
        "- Ensures clarity and consistency.\n",
        "- Enables automation (e.g., documentation, testing).\n",
        "- Simplifies integration and onboarding."
      ],
      "metadata": {
        "id": "4pYddO0YIB5K"
      }
    },
    {
      "cell_type": "markdown",
      "source": [
        "# 3.  What is Flask, and why is it popular for building APIs\n",
        "\n",
        "**Flask** is a super simple Python tool for building websites and APIs (ways for apps to talk to each other). It’s like a small toolbox that gives you just what you need to create web stuff, without extra fluff.\n",
        "\n",
        "## Why is Flask Cool for APIs?\n",
        "- **Easy to Learn**: You can start building with just a few lines of code.\n",
        "- **Flexible**: You pick how to build your API, like choosing your own Legos.\n",
        "- **Lightweight**: It’s not heavy, so it’s great for small projects or school assignments.\n",
        "- **Python Power**: Uses Python, which you might already know, making it fun to code.\n",
        "- **Fast to Build**: You can quickly make an API for a class project or app idea.\n",
        "- **Lots of Help**: Tons of tutorials and a big community to guide you."
      ],
      "metadata": {
        "id": "qGmbdvyvJH-Q"
      }
    },
    {
      "cell_type": "markdown",
      "source": [
        "#4. What is routing in Flask?\n",
        "\n",
        "Routing in Flask\n",
        "\n",
        "Routing in Flask is the process of mapping a URL (web address) to a specific function in your application.\n",
        "When a user visits a URL, Flask decides which function (called a view function) should handle the request based on the defined route.\n",
        "\n",
        "Routes are created using the @app.route() decorator.\n",
        "\n",
        "Each route tells Flask “if someone visits this URL, run this function.”\n",
        "\n",
        "## Key Aspects of Routing\n",
        "1. **URL Mapping**  \n",
        "   Routes define how URLs (e.g., `/`, `/about`) are linked to view functions using the `@app.route()` decorator.\n",
        "\n",
        "2. **HTTP Methods**  \n",
        "   Routes can specify allowed HTTP methods (e.g., GET, POST) to handle different types of requests:"
      ],
      "metadata": {
        "id": "aYW_rfIWzhXr"
      }
    },
    {
      "cell_type": "markdown",
      "source": [
        "# 5. How do you create a simple Flask application?\n",
        "\n",
        "## Creating a Simple Flask Application\n",
        "\n",
        "**Flask** is an easy-to-use Python tool for building web apps or APIs. Below is a step-by-step guide to create a simple Flask application that shows a webpage and an API endpoint.\n",
        "\n",
        "## Steps to Create a Flask App\n",
        "\n"
      ],
      "metadata": {
        "id": "iiykk1GeJskT"
      }
    },
    {
      "cell_type": "code",
      "source": [
        "!pip install -q flask pyngrok"
      ],
      "metadata": {
        "id": "Ju0jGptzebjr"
      },
      "execution_count": null,
      "outputs": []
    },
    {
      "cell_type": "code",
      "source": [
        "from pyngrok import ngrok, conf\n",
        "\n",
        "# Paste your token here\n",
        "ngrok.set_auth_token(\"32WXLZT2IbMP3xdz6h3EhpTH5Ah_5TBpM4FdjVf4BrRcBZa78\")\n"
      ],
      "metadata": {
        "id": "sUafuPQnuqLf"
      },
      "execution_count": null,
      "outputs": []
    },
    {
      "cell_type": "code",
      "source": [
        "# Simple Flask app + ngrok for Colab\n",
        "from flask import Flask\n",
        "from pyngrok import ngrok\n",
        "import threading\n",
        "import time\n",
        "\n",
        "app = Flask(__name__)\n",
        "\n",
        "@app.route(\"/\")\n",
        "def home():\n",
        "    return \"<h1>Hello PW Skills 👋</h1>\"\n",
        "\n",
        "# 1) Open an ngrok tunnel (port 5000)\n",
        "tunnel = ngrok.connect(5000)\n",
        "print(\"Public URL (open this in your browser):\", tunnel.public_url)\n",
        "\n",
        "# 2) Run Flask in a background thread so the notebook stays usable\n",
        "def run_app():\n",
        "    app.run(host=\"0.0.0.0\", port=5000, debug=False, use_reloader=False)\n",
        "\n",
        "thread = threading.Thread(target=run_app)\n",
        "thread.start()\n",
        "\n",
        "# give the server a moment to start\n",
        "time.sleep(1)\n",
        "print(\"Flask app should be running now.\")\n"
      ],
      "metadata": {
        "colab": {
          "base_uri": "https://localhost:8080/"
        },
        "id": "MqR2aIZvzV0U",
        "outputId": "47de90b1-1f29-473b-b808-d580f8b010f6"
      },
      "execution_count": null,
      "outputs": [
        {
          "output_type": "stream",
          "name": "stdout",
          "text": [
            "Public URL (open this in your browser): https://42ba89fd9ed8.ngrok-free.app\n",
            " * Serving Flask app '__main__'\n",
            " * Debug mode: off\n"
          ]
        },
        {
          "output_type": "stream",
          "name": "stderr",
          "text": [
            "Address already in use\n",
            "Port 5000 is in use by another program. Either identify and stop that program, or start the server with a different port.\n"
          ]
        },
        {
          "output_type": "stream",
          "name": "stdout",
          "text": [
            "Flask app should be running now.\n"
          ]
        }
      ]
    },
    {
      "cell_type": "code",
      "source": [
        "from google.colab import files\n",
        "from IPython.display import Image"
      ],
      "metadata": {
        "id": "vJurG8BS0ti3"
      },
      "execution_count": null,
      "outputs": []
    },
    {
      "cell_type": "code",
      "source": [
        "uploaded = files.upload()"
      ],
      "metadata": {
        "colab": {
          "base_uri": "https://localhost:8080/",
          "height": 71
        },
        "id": "bvSTi2Q50yJm",
        "outputId": "bdec6770-18f5-4e7c-b23d-5f77002a163f"
      },
      "execution_count": null,
      "outputs": [
        {
          "output_type": "display_data",
          "data": {
            "text/plain": [
              "<IPython.core.display.HTML object>"
            ],
            "text/html": [
              "\n",
              "     <input type=\"file\" id=\"files-d79b90bb-1721-4fd2-828e-f6804ac9c66c\" name=\"files[]\" multiple disabled\n",
              "        style=\"border:none\" />\n",
              "     <output id=\"result-d79b90bb-1721-4fd2-828e-f6804ac9c66c\">\n",
              "      Upload widget is only available when the cell has been executed in the\n",
              "      current browser session. Please rerun this cell to enable.\n",
              "      </output>\n",
              "      <script>// Copyright 2017 Google LLC\n",
              "//\n",
              "// Licensed under the Apache License, Version 2.0 (the \"License\");\n",
              "// you may not use this file except in compliance with the License.\n",
              "// You may obtain a copy of the License at\n",
              "//\n",
              "//      http://www.apache.org/licenses/LICENSE-2.0\n",
              "//\n",
              "// Unless required by applicable law or agreed to in writing, software\n",
              "// distributed under the License is distributed on an \"AS IS\" BASIS,\n",
              "// WITHOUT WARRANTIES OR CONDITIONS OF ANY KIND, either express or implied.\n",
              "// See the License for the specific language governing permissions and\n",
              "// limitations under the License.\n",
              "\n",
              "/**\n",
              " * @fileoverview Helpers for google.colab Python module.\n",
              " */\n",
              "(function(scope) {\n",
              "function span(text, styleAttributes = {}) {\n",
              "  const element = document.createElement('span');\n",
              "  element.textContent = text;\n",
              "  for (const key of Object.keys(styleAttributes)) {\n",
              "    element.style[key] = styleAttributes[key];\n",
              "  }\n",
              "  return element;\n",
              "}\n",
              "\n",
              "// Max number of bytes which will be uploaded at a time.\n",
              "const MAX_PAYLOAD_SIZE = 100 * 1024;\n",
              "\n",
              "function _uploadFiles(inputId, outputId) {\n",
              "  const steps = uploadFilesStep(inputId, outputId);\n",
              "  const outputElement = document.getElementById(outputId);\n",
              "  // Cache steps on the outputElement to make it available for the next call\n",
              "  // to uploadFilesContinue from Python.\n",
              "  outputElement.steps = steps;\n",
              "\n",
              "  return _uploadFilesContinue(outputId);\n",
              "}\n",
              "\n",
              "// This is roughly an async generator (not supported in the browser yet),\n",
              "// where there are multiple asynchronous steps and the Python side is going\n",
              "// to poll for completion of each step.\n",
              "// This uses a Promise to block the python side on completion of each step,\n",
              "// then passes the result of the previous step as the input to the next step.\n",
              "function _uploadFilesContinue(outputId) {\n",
              "  const outputElement = document.getElementById(outputId);\n",
              "  const steps = outputElement.steps;\n",
              "\n",
              "  const next = steps.next(outputElement.lastPromiseValue);\n",
              "  return Promise.resolve(next.value.promise).then((value) => {\n",
              "    // Cache the last promise value to make it available to the next\n",
              "    // step of the generator.\n",
              "    outputElement.lastPromiseValue = value;\n",
              "    return next.value.response;\n",
              "  });\n",
              "}\n",
              "\n",
              "/**\n",
              " * Generator function which is called between each async step of the upload\n",
              " * process.\n",
              " * @param {string} inputId Element ID of the input file picker element.\n",
              " * @param {string} outputId Element ID of the output display.\n",
              " * @return {!Iterable<!Object>} Iterable of next steps.\n",
              " */\n",
              "function* uploadFilesStep(inputId, outputId) {\n",
              "  const inputElement = document.getElementById(inputId);\n",
              "  inputElement.disabled = false;\n",
              "\n",
              "  const outputElement = document.getElementById(outputId);\n",
              "  outputElement.innerHTML = '';\n",
              "\n",
              "  const pickedPromise = new Promise((resolve) => {\n",
              "    inputElement.addEventListener('change', (e) => {\n",
              "      resolve(e.target.files);\n",
              "    });\n",
              "  });\n",
              "\n",
              "  const cancel = document.createElement('button');\n",
              "  inputElement.parentElement.appendChild(cancel);\n",
              "  cancel.textContent = 'Cancel upload';\n",
              "  const cancelPromise = new Promise((resolve) => {\n",
              "    cancel.onclick = () => {\n",
              "      resolve(null);\n",
              "    };\n",
              "  });\n",
              "\n",
              "  // Wait for the user to pick the files.\n",
              "  const files = yield {\n",
              "    promise: Promise.race([pickedPromise, cancelPromise]),\n",
              "    response: {\n",
              "      action: 'starting',\n",
              "    }\n",
              "  };\n",
              "\n",
              "  cancel.remove();\n",
              "\n",
              "  // Disable the input element since further picks are not allowed.\n",
              "  inputElement.disabled = true;\n",
              "\n",
              "  if (!files) {\n",
              "    return {\n",
              "      response: {\n",
              "        action: 'complete',\n",
              "      }\n",
              "    };\n",
              "  }\n",
              "\n",
              "  for (const file of files) {\n",
              "    const li = document.createElement('li');\n",
              "    li.append(span(file.name, {fontWeight: 'bold'}));\n",
              "    li.append(span(\n",
              "        `(${file.type || 'n/a'}) - ${file.size} bytes, ` +\n",
              "        `last modified: ${\n",
              "            file.lastModifiedDate ? file.lastModifiedDate.toLocaleDateString() :\n",
              "                                    'n/a'} - `));\n",
              "    const percent = span('0% done');\n",
              "    li.appendChild(percent);\n",
              "\n",
              "    outputElement.appendChild(li);\n",
              "\n",
              "    const fileDataPromise = new Promise((resolve) => {\n",
              "      const reader = new FileReader();\n",
              "      reader.onload = (e) => {\n",
              "        resolve(e.target.result);\n",
              "      };\n",
              "      reader.readAsArrayBuffer(file);\n",
              "    });\n",
              "    // Wait for the data to be ready.\n",
              "    let fileData = yield {\n",
              "      promise: fileDataPromise,\n",
              "      response: {\n",
              "        action: 'continue',\n",
              "      }\n",
              "    };\n",
              "\n",
              "    // Use a chunked sending to avoid message size limits. See b/62115660.\n",
              "    let position = 0;\n",
              "    do {\n",
              "      const length = Math.min(fileData.byteLength - position, MAX_PAYLOAD_SIZE);\n",
              "      const chunk = new Uint8Array(fileData, position, length);\n",
              "      position += length;\n",
              "\n",
              "      const base64 = btoa(String.fromCharCode.apply(null, chunk));\n",
              "      yield {\n",
              "        response: {\n",
              "          action: 'append',\n",
              "          file: file.name,\n",
              "          data: base64,\n",
              "        },\n",
              "      };\n",
              "\n",
              "      let percentDone = fileData.byteLength === 0 ?\n",
              "          100 :\n",
              "          Math.round((position / fileData.byteLength) * 100);\n",
              "      percent.textContent = `${percentDone}% done`;\n",
              "\n",
              "    } while (position < fileData.byteLength);\n",
              "  }\n",
              "\n",
              "  // All done.\n",
              "  yield {\n",
              "    response: {\n",
              "      action: 'complete',\n",
              "    }\n",
              "  };\n",
              "}\n",
              "\n",
              "scope.google = scope.google || {};\n",
              "scope.google.colab = scope.google.colab || {};\n",
              "scope.google.colab._files = {\n",
              "  _uploadFiles,\n",
              "  _uploadFilesContinue,\n",
              "};\n",
              "})(self);\n",
              "</script> "
            ]
          },
          "metadata": {}
        },
        {
          "output_type": "stream",
          "name": "stdout",
          "text": [
            "Saving Presentation1.png to Presentation1.png\n"
          ]
        }
      ]
    },
    {
      "cell_type": "code",
      "source": [
        "Image('Presentation1.png')"
      ],
      "metadata": {
        "colab": {
          "base_uri": "https://localhost:8080/",
          "height": 737
        },
        "id": "fVyRxjgj0-mv",
        "outputId": "93bdc4e3-c20a-43b0-8531-eb39ae808203"
      },
      "execution_count": null,
      "outputs": [
        {
          "output_type": "execute_result",
          "data": {
            "image/png": "[encoded data removed]",
            "text/plain": [
              "<IPython.core.display.Image object>"
            ]
          },
          "metadata": {},
          "execution_count": 20
        }
      ]
    },
    {
      "cell_type": "markdown",
      "source": [
        "#6. What are HTTP methods used in RESTful APIs?\n",
        "\n",
        ">RESTful APIs use HTTP methods to tell the server what action you want to do on a resource (like data).\n",
        "\n",
        ">>Think of it like talking to a robot waiter :\n",
        "\n",
        "- GET = “Bring me something”\n",
        "\n",
        "- POST = “Here’s a new dish, add it”\n",
        "\n",
        "- PUT = “Change this dish completely”\n",
        "\n",
        "- PATCH = “Fix/update just one part of this dish”\n",
        "\n",
        "- DELETE = “Take away this dish”\n",
        "\n",
        "\n",
        "\n",
        "| HTTP Method | Action  | Example Use Case                            |\n",
        "| ----------- | ------- | ------------------------------------------- |\n",
        "| **GET**     | Read    | Fetch a list of students                    |\n",
        "| **POST**    | Create  | Add a new student                           |\n",
        "| **PUT**     | Replace | Update all details of a student             |\n",
        "| **PATCH**   | Modify  | Update only one field (like student’s name) |\n",
        "| **DELETE**  | Remove  | Delete a student                            |\n"
      ],
      "metadata": {
        "id": "mw4n1Nnz5FrO"
      }
    },
    {
      "cell_type": "markdown",
      "source": [
        "#7. What is the purpose of the @app.route() decorator in Flask?\n",
        "\n",
        "The `@app.route()` decorator in Flask is used to bind a URL to a specific function, known as a view function, in a Flask web application. It tells Flask which URL should trigger the function and how to handle HTTP requests for that URL.\n",
        "\n",
        "### Key Purposes:\n",
        "1. **URL Routing**: It maps a URL path (e.g., `/`, `/about`) to a Python function that generates a response when the URL is accessed.\n",
        "2. **HTTP Method Handling**: It allows you to specify which HTTP methods (e.g., `GET`, `POST`) the function can handle for the given URL.\n",
        "3. **Dynamic Routing**: It supports dynamic URLs by allowing variable parts in the URL (e.g., `/user/<username>`) to capture parameters and pass them to the function.\n",
        "\n",
        "\n"
      ],
      "metadata": {
        "id": "4wJBgJBY7MGh"
      }
    },
    {
      "cell_type": "code",
      "source": [
        "#Example\n",
        "\n",
        "from flask import Flask\n",
        "app = Flask(__name__)\n",
        "\n",
        "@app.route('/')\n",
        "def home():\n",
        "    return 'Welcome!'\n",
        "\n",
        "@app.route('/user/<name>')\n",
        "def user(name):\n",
        "    return f'Hello, {name}!'"
      ],
      "metadata": {
        "id": "GPLEvOFr6H5v"
      },
      "execution_count": null,
      "outputs": []
    },
    {
      "cell_type": "markdown",
      "source": [
        "#8. What is the difference between GET and POST HTTP methods?\n",
        "\n",
        "## Difference Between GET and POST HTTP Methods\n",
        "\n",
        "| **Aspect**           | **GET**                                      | **POST**                                     |\n",
        "|----------------------|---------------------------------------------|---------------------------------------------|\n",
        "| **Purpose**          | Retrieve data from the server.              | Send data to the server for processing.     |\n",
        "| **Data in URL**      | Parameters in URL (query string).           | Data in request body (not visible in URL).  |\n",
        "| **Data Size**        | Limited by URL length (browser-dependent).  | Can handle larger data (no strict limit).   |\n",
        "| **Security**         | Less secure (data visible in URL).          | More secure (data in body, not URL).        |\n",
        "| **Caching**          | Can be cached by browsers.                 | Not cached by default.                     |\n",
        "| **Idempotency**      | Idempotent (repeated requests same result). | Non-idempotent (may change server state).   |\n",
        "| **Use Case**         | Fetching data (e.g., search queries).       | Submitting forms, uploading files.         |\n",
        "\n",
        "\n"
      ],
      "metadata": {
        "id": "fxa2gc_O74ao"
      }
    },
    {
      "cell_type": "code",
      "source": [
        "#**Example in Flask**:\n",
        "\n",
        "from flask import Flask, request\n",
        "app = Flask(__name__)\n",
        "\n",
        "@app.route('/get', methods=['GET'])\n",
        "def get_data():\n",
        "    return request.args.get('key', 'No data')\n",
        "\n",
        "@app.route('/post', methods=['POST'])\n",
        "def post_data():\n",
        "    return request.form.get('key', 'No data')\n"
      ],
      "metadata": {
        "id": "j_w9Ggwh8-lU"
      },
      "execution_count": null,
      "outputs": []
    },
    {
      "cell_type": "markdown",
      "source": [
        "#9. How do you handle errors in Flask APIs?\n",
        "\n",
        ">In Flask APIs, errors can happen when:\n",
        "\n",
        ">>A page or resource doesn’t exist (404 Not Found)\n",
        "\n",
        ">>The server crashes (500 Internal Server Error)\n",
        "\n",
        ">>The client sends bad data (400 Bad Request)\n",
        "\n",
        "**Instead of showing a boring error, we can handle errors nicely using @app.errorhandler() in Flask.**\n",
        "\n",
        "| Error Code | Meaning        | Custom Message Example    |\n",
        "| ---------- | -------------- | ------------------------- |\n",
        "| **404**    | Page not found | \"Page not found\"       |\n",
        "| **500**    | Internal error |  \"Something went wrong\" |\n",
        "| **400**    | Bad request    |  \"Bad request\"          |\n",
        "\n",
        "\n",
        ">Exception Handling:\n",
        "\n",
        ">>Use try-except blocks within routes to catch specific exceptions and return custom responses.\n",
        "\n",
        ">HTTPException:\n",
        "\n",
        ">>Use Flask’s abort to raise HTTP errors with custom messages.\n",
        "\n",
        ">Global Error Handling:\n",
        "\n",
        ">>Handle uncaught exceptions globally using @app.errorhandler(Exception).\n",
        "\n",
        "\n"
      ],
      "metadata": {
        "id": "sno7TnIC8yTk"
      }
    },
    {
      "cell_type": "markdown",
      "source": [
        "#10. How do you connect Flask to a SQL database?\n",
        "\n",
        "# Connecting Flask to a SQL Database\n",
        "\n",
        "To connect a Flask application to a SQL database, you can use **Flask-SQLAlchemy**, a popular extension that simplifies database integration. Below is a concise guide to set it up.\n",
        "\n",
        "## Steps to Connect Flask to a SQL Database\n",
        "\n",
        "1. **Install Required Packages**  \n",
        "   Install Flask and Flask-SQLAlchemy using pip:\n",
        "   ```bash\n",
        "   pip install flask flask-sqlalchemy"
      ],
      "metadata": {
        "id": "vcdeMqQNArCe"
      }
    },
    {
      "cell_type": "code",
      "source": [
        "pip install flask flask-sqlalchemy"
      ],
      "metadata": {
        "colab": {
          "base_uri": "https://localhost:8080/"
        },
        "id": "kXC-OgHCPi4a",
        "outputId": "df12ac5a-4149-4a7c-d3e4-b022c93b1abb"
      },
      "execution_count": null,
      "outputs": [
        {
          "output_type": "stream",
          "name": "stdout",
          "text": [
            "Requirement already satisfied: flask in /usr/local/lib/python3.12/dist-packages (3.1.2)\n",
            "Collecting flask-sqlalchemy\n",
            "  Downloading flask_sqlalchemy-3.1.1-py3-none-any.whl.metadata (3.4 kB)\n",
            "Requirement already satisfied: blinker>=1.9.0 in /usr/local/lib/python3.12/dist-packages (from flask) (1.9.0)\n",
            "Requirement already satisfied: click>=8.1.3 in /usr/local/lib/python3.12/dist-packages (from flask) (8.2.1)\n",
            "Requirement already satisfied: itsdangerous>=2.2.0 in /usr/local/lib/python3.12/dist-packages (from flask) (2.2.0)\n",
            "Requirement already satisfied: jinja2>=3.1.2 in /usr/local/lib/python3.12/dist-packages (from flask) (3.1.6)\n",
            "Requirement already satisfied: markupsafe>=2.1.1 in /usr/local/lib/python3.12/dist-packages (from flask) (3.0.2)\n",
            "Requirement already satisfied: werkzeug>=3.1.0 in /usr/local/lib/python3.12/dist-packages (from flask) (3.1.3)\n",
            "Requirement already satisfied: sqlalchemy>=2.0.16 in /usr/local/lib/python3.12/dist-packages (from flask-sqlalchemy) (2.0.43)\n",
            "Requirement already satisfied: greenlet>=1 in /usr/local/lib/python3.12/dist-packages (from sqlalchemy>=2.0.16->flask-sqlalchemy) (3.2.4)\n",
            "Requirement already satisfied: typing-extensions>=4.6.0 in /usr/local/lib/python3.12/dist-packages (from sqlalchemy>=2.0.16->flask-sqlalchemy) (4.15.0)\n",
            "Downloading flask_sqlalchemy-3.1.1-py3-none-any.whl (25 kB)\n",
            "Installing collected packages: flask-sqlalchemy\n",
            "Successfully installed flask-sqlalchemy-3.1.1\n"
          ]
        }
      ]
    },
    {
      "cell_type": "code",
      "source": [
        "from flask import Flask, jsonify\n",
        "from flask_sqlalchemy import SQLAlchemy\n",
        "\n",
        "app = Flask(__name__)\n",
        "\n",
        "# ✅ Connect to SQLite database (test.db will be created)\n",
        "app.config['SQLALCHEMY_DATABASE_URI'] = 'sqlite:///test.db'\n",
        "app.config['SQLALCHEMY_TRACK_MODIFICATIONS'] = False\n",
        "\n",
        "db = SQLAlchemy(app)\n",
        "\n",
        "# ✅ Define a table (Student)\n",
        "class Student(db.Model):\n",
        "    id = db.Column(db.Integer, primary_key=True)\n",
        "    name = db.Column(db.String(50), nullable=False)\n",
        "    age = db.Column(db.Integer, nullable=False)\n",
        "\n",
        "# ✅ Create the database + table\n",
        "with app.app_context():\n",
        "    db.create_all()\n",
        "\n",
        "# ✅ Route to add a student\n",
        "@app.route(\"/add/<name>/<int:age>\")\n",
        "def add_student(name, age):\n",
        "    student = Student(name=name, age=age)\n",
        "    db.session.add(student)\n",
        "    db.session.commit()\n",
        "    return jsonify(message=f\"Student {name} added ✅\")\n",
        "\n",
        "# ✅ Route to show all students\n",
        "@app.route(\"/students\")\n",
        "def get_students():\n",
        "    students = Student.query.all()\n",
        "    return jsonify([\n",
        "        {\"id\": s.id, \"name\": s.name, \"age\": s.age} for s in students\n",
        "    ])\n",
        "\n",
        "if __name__ == \"__main__\":\n",
        "    app.run(debug=True)\n"
      ],
      "metadata": {
        "colab": {
          "base_uri": "https://localhost:8080/"
        },
        "id": "fPR9dxFMPfeJ",
        "outputId": "8b5de3b5-d723-4802-8762-84111af61ef8"
      },
      "execution_count": null,
      "outputs": [
        {
          "output_type": "stream",
          "name": "stdout",
          "text": [
            " * Serving Flask app '__main__'\n",
            " * Debug mode: on\n"
          ]
        },
        {
          "output_type": "stream",
          "name": "stderr",
          "text": [
            "INFO:werkzeug:\u001b[31m\u001b[1mWARNING: This is a development server. Do not use it in a production deployment. Use a production WSGI server instead.\u001b[0m\n",
            " * Running on http://127.0.0.1:5000\n",
            "INFO:werkzeug:\u001b[33mPress CTRL+C to quit\u001b[0m\n",
            "INFO:werkzeug: * Restarting with watchdog (inotify)\n"
          ]
        }
      ]
    },
    {
      "cell_type": "markdown",
      "source": [
        "#11. What is the role of Flask-SQLAlchemy?\n",
        "\n",
        "# Role of Flask-SQLAlchemy\n",
        "\n",
        "**Flask-SQLAlchemy** is an extension for Flask that simplifies the integration and management of SQL databases in Flask applications. It acts as an **Object-Relational Mapping (ORM)** layer, providing a high-level interface to interact with databases using Python objects.\n",
        "\n",
        "## Key Roles\n",
        "1. **Database Abstraction**  \n",
        "   Simplifies database operations by allowing developers to work with Python classes and objects instead of raw SQL queries.\n",
        "\n",
        "2. **Configuration Management**  \n",
        "   Handles database connection setup via a simple configuration (e.g., setting the database URI in `app.config`).\n",
        "\n",
        "3. **Model Definition**  \n",
        "   Enables defining database tables as Python classes, where attributes represent columns, making schema management intuitive.\n",
        "\n",
        "4. **Session Management**  \n",
        "   Provides a `db.session` object to manage database transactions (e.g., adding, updating, deleting, and committing records).\n",
        "\n",
        "5. **Query Simplification**  \n",
        "   Offers a clean, Pythonic way to perform CRUD operations (Create, Read, Update, Delete) using methods like `db.session.query()`.\n",
        "\n",
        "6. **Integration with Flask**  \n",
        "   Seamlessly integrates with Flask’s application context, ensuring proper handling of database connections in a web environment.\n",
        "\n"
      ],
      "metadata": {
        "id": "Fnu57u7QQAGw"
      }
    },
    {
      "cell_type": "code",
      "source": [
        "## Example\n",
        "\n",
        "from flask import Flask\n",
        "from flask_sqlalchemy import SQLAlchemy\n",
        "\n",
        "app = Flask(__name__)\n",
        "app.config['SQLALCHEMY_DATABASE_URI'] = 'sqlite:///example.db'\n",
        "db = SQLAlchemy(app)  # Initialize Flask-SQLAlchemy\n",
        "\n",
        "class User(db.Model):\n",
        "    id = db.Column(db.Integer, primary_key=True)\n",
        "    username = db.Column(db.String(80), unique=True)\n",
        "\n",
        "with app.app_context():\n",
        "    db.create_all()  # Create tables"
      ],
      "metadata": {
        "id": "6Wjtcz1dQwxY"
      },
      "execution_count": null,
      "outputs": []
    },
    {
      "cell_type": "markdown",
      "source": [
        "#12. What are Flask blueprints, and how are they useful?\n",
        "\n",
        "# Flask Blueprints\n",
        "\n",
        "**Flask Blueprints** are a way to organize a Flask application into modular components, allowing you to group related routes, templates, and static files into reusable units. They help structure large applications by separating functionality into distinct modules.\n",
        "\n",
        "## Role of Blueprints\n",
        "- **Modularize Code**: Break down a Flask app into smaller, independent components (e.g., for user management, admin panel, or API).\n",
        "- **Improve Maintainability**: Organize routes and logic into logical groups, making the codebase easier to manage and scale.\n",
        "- **Reusability**: Blueprints can be reused across different Flask applications or registered multiple times with different URL prefixes.\n",
        "- **Separation of Concerns**: Keep different parts of the app (e.g., authentication, dashboard) isolated for better clarity and collaboration.\n",
        "\n"
      ],
      "metadata": {
        "id": "LxOizFTRQ32T"
      }
    },
    {
      "cell_type": "code",
      "source": [
        "## How to Use Blueprints\n",
        " #Create a Blueprint**\n",
        "\n",
        "\n",
        "from flask import Blueprint\n",
        "\n",
        "# Create a blueprint\n",
        "simple_bp = Blueprint(\"simple_bp\", __name__)\n",
        "\n",
        "# Define routes inside blueprint\n",
        "@simple_bp.route(\"/hello\")\n",
        "def hello():\n",
        "    return \"<h1>Hello from Blueprint! 👋</h1>\"\n"
      ],
      "metadata": {
        "id": "OHatQdcjRBsa"
      },
      "execution_count": null,
      "outputs": []
    },
    {
      "cell_type": "code",
      "source": [
        "  #Define a blueprint in a separate Python file (e.g., `auth.py`):\n",
        "from flask import Flask\n",
        "from __main__ import simple_bp # Import simple_bp from the current notebook\n",
        "\n",
        "app = Flask(__name__)\n",
        "app.register_blueprint(simple_bp, url_prefix='/simple')  # Routes will be prefixed with /simple"
      ],
      "metadata": {
        "id": "fETjIg3TRlMI"
      },
      "execution_count": null,
      "outputs": []
    },
    {
      "cell_type": "markdown",
      "source": [
        "#13. What is the purpose of Flask's request object?\n",
        "\n",
        "# Purpose of Flask's Request Object\n",
        "\n",
        "The **Flask `request` object** provides a way to access and interact with data sent by a client (e.g., browser) to a Flask application during an HTTP request. It allows developers to retrieve information such as form data, query parameters, headers, cookies, and files from the incoming request.\n",
        "\n",
        "## Key Purposes\n",
        "1. **Access Request Data**  \n",
        "   Retrieve data sent via HTTP methods (e.g., GET, POST), such as form inputs, URL query parameters, or JSON payloads.\n",
        "2. **Handle User Input**  \n",
        "   Process user-submitted data, like form submissions or file uploads, for further logic in the application.\n",
        "3. **Inspect Request Metadata**  \n",
        "   Access metadata like HTTP headers, method type (GET, POST, etc.), or client IP address.\n",
        "4. **Support Dynamic Routing**  \n",
        "   Extract URL parameters or query strings to create dynamic responses.\n",
        "\n",
        "## Common Uses\n",
        "- **Form Data**: Access form inputs with `request.form['key']`.\n",
        "- **Query Parameters**: Get URL parameters with `request.args.get('key')`.\n",
        "- **JSON Data**: Retrieve JSON payloads with `request.get_json()`.\n",
        "- **File Uploads**: Handle uploaded files with `request.files['key']`.\n",
        "- **Headers/Cookies**: Access headers with `request.headers` or cookies with `request.cookies`.\n",
        "\n"
      ],
      "metadata": {
        "id": "4EfRmJ01SOx1"
      }
    },
    {
      "cell_type": "code",
      "source": [
        "## Example\n",
        "from flask import Flask, request\n",
        "\n",
        "app = Flask(__name__)\n",
        "\n",
        "@app.route('/submit', methods=['POST'])\n",
        "def submit():\n",
        "    username = request.form.get('username')  # Get form data\n",
        "    query_param = request.args.get('id')     # Get query parameter\n",
        "    return f'Username: {username}, ID: {query_param}'\n"
      ],
      "metadata": {
        "id": "kOsBzzv0YrZf"
      },
      "execution_count": null,
      "outputs": []
    },
    {
      "cell_type": "markdown",
      "source": [
        "#14. How do you create a RESTful API endpoint using Flask?\n",
        "\n",
        ">In Flask, RESTful API endpoints are created with routes (@app.route) that use HTTP methods: GET, POST, PUT, DELETE.\n"
      ],
      "metadata": {
        "id": "A9wr2MKyYzn0"
      }
    },
    {
      "cell_type": "code",
      "source": [
        "from flask import Flask, request, jsonify\n",
        "\n",
        "app = Flask(__name__)\n",
        "students = [{\"id\": 1, \"name\": \"Alice\"}]\n",
        "\n",
        "# GET → fetch data\n",
        "@app.route(\"/students\", methods=[\"GET\"])\n",
        "def get_students():\n",
        "    return jsonify(students)\n",
        "\n",
        "# POST → add data\n",
        "@app.route(\"/students\", methods=[\"POST\"])\n",
        "def add_student():\n",
        "    data = request.get_json()\n",
        "    new = {\"id\": len(students)+1, \"name\": data[\"name\"]}\n",
        "    students.append(new)\n",
        "    return jsonify(new), 201\n",
        "\n",
        "if __name__ == \"__main__\":\n",
        "    app.run(debug=True)\n",
        "\n"
      ],
      "metadata": {
        "colab": {
          "base_uri": "https://localhost:8080/"
        },
        "id": "kTzCsuz8Zq3B",
        "outputId": "edbdbded-f426-42b7-f5a6-735a99781c82"
      },
      "execution_count": null,
      "outputs": [
        {
          "output_type": "stream",
          "name": "stdout",
          "text": [
            " * Serving Flask app '__main__'\n",
            " * Debug mode: on\n"
          ]
        },
        {
          "output_type": "stream",
          "name": "stderr",
          "text": [
            "INFO:werkzeug:\u001b[31m\u001b[1mWARNING: This is a development server. Do not use it in a production deployment. Use a production WSGI server instead.\u001b[0m\n",
            " * Running on http://127.0.0.1:5000\n",
            "INFO:werkzeug:\u001b[33mPress CTRL+C to quit\u001b[0m\n",
            "INFO:werkzeug: * Restarting with watchdog (inotify)\n"
          ]
        }
      ]
    },
    {
      "cell_type": "markdown",
      "source": [
        "#15. What is the purpose of Flask's jsonify() function?\n",
        "\n",
        "# Purpose of Flask's `jsonify()` Function\n",
        "\n",
        "The **Flask `jsonify()` function** is used to convert Python data structures (e.g., dictionaries, lists) into a JSON-formatted response with the appropriate HTTP headers for use in APIs.\n",
        "\n",
        "## Key Purposes\n",
        "1. **Serialize to JSON**: Converts Python objects (like dictionaries or lists) into a JSON string.\n",
        "2. **Set Correct Headers**: Automatically sets the `Content-Type` header to `application/json` in the HTTP response.\n",
        "3. **Simplify API Responses**: Ensures responses are properly formatted for RESTful APIs, making them consumable by clients (e.g., browsers, mobile apps).\n",
        "4. **Handle Nested Data**: Supports serialization of complex nested Python objects (e.g., lists of dictionaries) into valid JSON.\n",
        "\n"
      ],
      "metadata": {
        "id": "Sw3Cma05aLbc"
      }
    },
    {
      "cell_type": "code",
      "source": [
        "## Example\n",
        "from flask import Flask, jsonify\n",
        "\n",
        "app = Flask(__name__)\n",
        "\n",
        "@app.route('/api/data')\n",
        "def get_data():\n",
        "    data = {\"id\": 1, \"name\": \"Alice\", \"skills\": [\"Python\", \"Flask\"]}\n",
        "    return jsonify(data)"
      ],
      "metadata": {
        "id": "kadF6k4Naiza"
      },
      "execution_count": null,
      "outputs": []
    },
    {
      "cell_type": "markdown",
      "source": [
        "#16. Explain Flask’s url_for() function.\n",
        "# Flask's `url_for()` Function\n",
        "\n",
        "The **Flask `url_for()` function** generates URLs for routes defined in a Flask application based on the endpoint name and optional parameters. It provides a dynamic and maintainable way to reference URLs without hardcoding them.\n",
        "\n",
        "## Purpose\n",
        "1. **Dynamic URL Generation**: Builds URLs for routes based on their endpoint names, ensuring consistency even if the route's URL path changes.\n",
        "2. **Avoid Hardcoding**: Prevents manually writing URLs, reducing errors and maintenance effort.\n",
        "3. **Handle Parameters**: Easily includes route parameters (e.g., `/user/<id>`) in the generated URL.\n",
        "4. **Context Awareness**: Works within the Flask application context to generate correct URLs, including any URL prefixes.\n",
        "\n",
        " ## Benefits of url_for()\n",
        "\n",
        " - Avoids hardcoding URLs\n",
        "\n",
        "-  Updates automatically if route paths change\n",
        "\n",
        " - Supports passing arguments to routes\n",
        "\n",
        "## Example\n",
        "```python\n",
        "from flask import Flask, url_for\n",
        "\n",
        "app = Flask(__name__)\n",
        "\n",
        "@app.route('/')\n",
        "def home():\n",
        "    return 'Home Page'\n",
        "\n",
        "@app.route('/user/<username>')\n",
        "def profile(username):\n",
        "    return f'Profile: {username}'\n",
        "\n",
        "@app.route('/test')\n",
        "def test():\n",
        "    # Generate URLs dynamically\n",
        "    home_url = url_for('home')  # Returns '/'\n",
        "    profile_url = url_for('profile', username='Alice')  # Returns '/user/Alice'\n",
        "    return f'Home URL: {home_url}, Profile URL: {profile_url}'\n"
      ],
      "metadata": {
        "id": "ONOvmZ4oatpk"
      }
    },
    {
      "cell_type": "markdown",
      "source": [
        "#17. How does Flask handle static files (CSS, JavaScript, etc.)?\n",
        "\n",
        "# Handling Static Files in Flask\n",
        "\n",
        "Flask handles **static files** (e.g., CSS, JavaScript, images) by serving them from a designated `static` folder in the project directory. This allows web applications to deliver assets like stylesheets, scripts, and images to clients efficiently.\n",
        "\n",
        "## How Flask Handles Static Files\n",
        "1. **Default Static Folder**  \n",
        "   Flask automatically looks for static files in a folder named `static` in the project root. The folder can contain CSS, JavaScript, images, etc.\n",
        "\n",
        "2. **Static Route**  \n",
        "   Flask provides a default route `/static/<filename>` to access files in the `static` folder. For example, `/static/style.css` serves `static/style.css`.\n",
        "\n",
        "3. **Using `url_for` for Static Files**  \n",
        "   Use the `url_for('static', filename='path/to/file')` function to generate URLs for static files dynamically, ensuring flexibility if the static path changes.\n",
        "\n",
        "## Example\n",
        "### Project Structure\n",
        "\n",
        "my_flask_app/\n",
        "│\n",
        "├── app.py\n",
        "├── static/\n",
        "│   ├── style.css\n",
        "│   ├── script.js\n",
        "│   └── images/\n",
        "└── templates/\n",
        "    └── index.html\n",
        "\n"
      ],
      "metadata": {
        "id": "voDAKCgNbKfy"
      }
    },
    {
      "cell_type": "markdown",
      "source": [
        "#18. What is an API specification, and how does it help in building a Flask API?\n",
        "\n",
        ">An API specification is like a blueprint or contract for your API.\n",
        "\n",
        "**It defines:**\n",
        "\n",
        "What endpoints exist (e.g., /users, /products)\n",
        "\n",
        "What methods they use (GET, POST, PUT, DELETE)\n",
        "\n",
        "Input data (parameters, request body)\n",
        "\n",
        "Output data (response format, status codes)\n",
        "\n",
        "Authentication & errors\n",
        "\n",
        "Think of it as a recipe: it tells developers exactly how to “talk” to your API.\n",
        "\n",
        "| Endpoint      | Method | Request Body    | Response          |\n",
        "| ------------- | ------ | --------------- | ----------------- |\n",
        "| `/users`      | GET    | None            | List of users     |\n",
        "| `/users`      | POST   | `{name, email}` | Created user info |\n",
        "| `/users/<id>` | GET    | None            | User info by ID   |\n",
        "\n",
        "\n",
        "**How it Helps in Building a Flask API**\n",
        "\n",
        "- Clear Structure\n",
        "\n",
        "- You know which routes to implement and what data to expect.\n",
        "\n",
        "- No confusion for backend and frontend teams.\n",
        "\n",
        "- Consistency\n",
        "\n",
        "- Everyone follows the same rules for requests and responses.\n",
        "\n",
        "- Makes debugging easier.\n",
        "\n",
        "- Faster Development\n",
        "\n",
        "\n",
        "###Documentation & Testing\n",
        "\n",
        "- Many tools (like OpenAPI/Swagger) can automatically generate docs and test endpoints based on the spec.\n"
      ],
      "metadata": {
        "id": "juypxSztj_3-"
      }
    },
    {
      "cell_type": "markdown",
      "source": [
        "#19. What are HTTP status codes, and why are they important in a Flask API?\n",
        "\n",
        ">HTTP status codes are essential in Flask APIs because they tell the client what happened with the request, help debug issues, and ensure your API communicates in a standard, predictable way.\n",
        "\n",
        "# HTTP Status Codes in Flask APIs\n",
        "\n",
        "**HTTP status codes** are standardized three-digit codes returned by a server in response to a client's HTTP request. They indicate the outcome of the request, such as success, failure, or redirection. They are grouped into five categories:\n",
        "- **1xx (Informational)**: Request received, processing (e.g., 100 Continue).\n",
        "- **2xx (Success)**: Request successfully processed (e.g., 200 OK, 201 Created).\n",
        "- **3xx (Redirection)**: Further action needed (e.g., 301 Moved Permanently).\n",
        "- **4xx (Client Error)**: Client-side issues (e.g., 404 Not Found, 400 Bad Request).\n",
        "- **5xx (Server Error)**: Server-side issues (e.g., 500 Internal Server Error).\n",
        "\n",
        "## Importance in a Flask API\n",
        "1. **Communicate Request Outcome**  \n",
        "   Status codes inform clients (e.g., browsers, apps) whether the request succeeded or failed and why, enabling appropriate handling.\n",
        "\n",
        "2. **Standardization**  \n",
        "   Using standard codes ensures compatibility with RESTful conventions, making the API predictable and interoperable.\n",
        "\n",
        "3. **Error Handling**  \n",
        "   Codes like 400, 401, or 404 help clients understand specific errors (e.g., invalid input, unauthorized access, or missing resources).\n",
        "\n",
        "4. **Improve User Experience**  \n",
        "   Clear status codes allow clients to provide meaningful feedback to users (e.g., \"Resource not found\" for 404).\n",
        "\n",
        "5. **Debugging and Maintenance**  \n",
        "   Status codes help developers identify issues during testing and debugging, improving API reliability.\n",
        "\n"
      ],
      "metadata": {
        "id": "zRPEzquDm-jD"
      }
    },
    {
      "cell_type": "markdown",
      "source": [
        "#20. How do you handle POST requests in Flask?\n",
        "\n",
        "# Handling POST Requests in Flask\n",
        "\n",
        "In Flask, **POST requests** are used to send data from a client (e.g., a form or API call) to the server to create or update resources. Flask handles POST requests using routes that specify the `POST` method and the `request` object to access submitted data.\n",
        "\n",
        "\n",
        "## What is a POST Request?\n",
        "A **POST request** is an HTTP method used to send data from a client (e.g., browser, API client) to a server to create or update resources. In Flask, POST requests are handled by defining routes that accept the `POST` method and processing the incoming data using the `request` object.\n",
        "\n",
        "## Theoretical Role in Flask\n",
        "1. **Purpose**  \n",
        "   - POST requests are used to submit data, such as form inputs, JSON payloads, or file uploads, to the server.\n",
        "   - They are idempotent in RESTful APIs, typically used for creating new resources (e.g., adding a user) or triggering actions.\n",
        "\n",
        "2. **Flask’s Mechanism**  \n",
        "   - Flask uses the **`request` object** (from `flask.request`) to access data sent in the POST request, such as:\n",
        "     - **Form data**: Accessed via `request.form` (e.g., `request.form['key']`).\n",
        "     - **JSON data**: Accessed via `request.get_json()`.\n",
        "     - **Files**: Accessed via `request.files` for file uploads.\n",
        "   - Routes are defined with the `@app.route()` decorator, specifying `methods=['POST']` to handle POST requests.\n",
        "\n",
        "3. **Processing Flow**  \n",
        "   - **Route Matching**: Flask matches the incoming request URL and method to a defined route.\n",
        "   - **Data Extraction**: The `request` object extracts data (e.g., JSON, form fields, or files) from the request body.\n",
        "   - **Business Logic**: The server processes the data (e.g., validates, saves to a database, or performs actions).\n",
        "   - **Response**: Flask returns a response, typically in JSON format (using `jsonify`) with an appropriate HTTP status code (e.g., `201 Created`, `400 Bad Request`).\n",
        "\n",
        "## Why It Matters\n",
        "- **Client-Server Interaction**: POST requests enable clients to send complex data to the server, supporting dynamic web applications and APIs.\n",
        "- **RESTful Design**: In REST APIs, POST is used to create resources, adhering to stateless and resource-oriented principles.\n",
        "- **Security**: Proper handling (e.g., validation, sanitization) prevents vulnerabilities like SQL injection or cross-site scripting (XSS).\n",
        "\n"
      ],
      "metadata": {
        "id": "orPA-3hXpAR3"
      }
    },
    {
      "cell_type": "code",
      "source": [
        "## Theoretical Example\n",
        "\n",
        "from flask import Flask, request, jsonify\n",
        "\n",
        "app = Flask(__name__)\n",
        "\n",
        "# POST route to handle JSON data\n",
        "@app.route('/api/resource', methods=['POST'])\n",
        "def create_resource():\n",
        "    data = request.get_json()  # Extract JSON payload\n",
        "    if not data:\n",
        "        return jsonify({\"error\": \"Invalid data\"}), 400  # Bad Request\n",
        "    # Process data (e.g., save to database)\n",
        "    return jsonify({\"message\": \"Resource created\", \"data\": data}), 201  # Created"
      ],
      "metadata": {
        "id": "T3fSo8IXpxMi"
      },
      "execution_count": null,
      "outputs": []
    },
    {
      "cell_type": "markdown",
      "source": [
        "#21. How would you secure a Flask API?\n",
        "\n",
        ">When you build a Flask API, it’s important to keep it safe from hackers and misuse. Here’s how you can do it in simple steps:\n",
        "\n",
        "**1. Use HTTPS**\n",
        "\n",
        "- Always use HTTPS instead of HTTP.\n",
        "\n",
        "- HTTPS encrypts the data between the user and your server, so no one can read it while it’s being sent.\n",
        "\n",
        "**2. Authentication**\n",
        "\n",
        "Make sure only authorized users can use your API.\n",
        "\n",
        "**Common ways to do this:**\n",
        "\n",
        ">>**a. API Keys**\n",
        "\n",
        ">>.Give each user a unique key.\n",
        "\n",
        ">>The user sends this key with requests to prove they are allowed.\n",
        "\n",
        ">>**b. JWT (JSON Web Tokens)**\n",
        "\n",
        ">>Users log in → server gives a token → user sends token in future requests.\n",
        "\n",
        ">>This ensures only logged-in users can access protected endpoints.\n",
        "\n",
        "**3. Validate User Input**\n",
        "\n",
        "- Never trust data from the user. Always check it carefully.\n",
        "\n",
        "- This prevents attacks like SQL injection or hacking your server.\n",
        "\n",
        "- You can use libraries like Marshmallow to check the data automatically.\n",
        "\n",
        "**4. Rate Limiting**\n",
        "\n",
        "Limit the number of requests a user or IP can make in a short time.\n",
        "\n",
        "Example: “Only 5 requests per minute.”\n",
        "\n",
        "This stops hackers from flooding your API.\n",
        "\n",
        "**5. Handle Errors Safely**\n",
        "\n",
        "Don’t show detailed error messages to the user.\n",
        "\n",
        "Example: Instead of showing the server’s internal errors, just show:\n",
        "\n",
        "{\"error\": \"Something went wrong\"}\n",
        "\n",
        "**6. Control Access with CORS**\n",
        "\n",
        "Only allow trusted websites to access your API.\n",
        "\n",
        "Example: If your frontend is myfrontend.com, only this site should be allowed.\n",
        "\n",
        "**7. Keep Everything Updated**\n",
        "\n",
        "Always use the latest versions of Flask and other libraries.\n",
        "\n",
        "Updates often fix security problems.\n",
        "\n",
        "#Summary:\n",
        "- To secure a Flask API:\n",
        "\n",
        "- Use HTTPS to encrypt data.\n",
        "\n",
        "- Authenticate users with API keys or tokens.\n",
        "\n",
        "- Check all incoming data.\n",
        "\n",
        "- Limit the number of requests.\n",
        "\n",
        "- Handle errors safely.\n",
        "\n",
        "- Control which websites can access your API.\n",
        "\n",
        "- Keep your software updated.\n",
        "\n",
        "\n"
      ],
      "metadata": {
        "id": "lNi81Vt3qC56"
      }
    },
    {
      "cell_type": "markdown",
      "source": [
        "#22. What is the significance of the Flask-RESTful extension?\n",
        "\n",
        ">>Flask-RESTful is a Flask extension that helps developers build RESTful APIs easily and quickly.\n",
        "\n",
        ">>It provides tools to organize code using resources (classes), handle HTTP methods (GET, POST, PUT, DELETE), manage request parsing, and improve error handling, making the API development process more clean, structured, and efficient.\n",
        "# Significance of the Flask-RESTful Extension\n",
        "\n",
        "**Definition**: Flask-RESTful is an extension for Flask that simplifies the development of RESTful APIs by providing tools and abstractions to define resources, handle requests, and structure responses in a clean and consistent manner.\n",
        "\n",
        "## Significance\n",
        "1. **Simplified API Development**  \n",
        "   Flask-RESTful provides a `Resource` class to define API endpoints as resources, reducing boilerplate code and making routes easier to manage.\n",
        "\n",
        "2. **RESTful Conventions**  \n",
        "   Encourages adherence to REST principles (e.g., statelessness, standard HTTP methods like GET, POST, PUT, DELETE) for consistent and scalable API design.\n",
        "\n",
        "3. **Request Parsing**  \n",
        "   Offers a built-in `reqparse` module to validate and parse incoming request data (e.g., query parameters, JSON payloads), ensuring robust input handling.\n",
        "\n",
        "4. **Structured Responses**  \n",
        "   Simplifies returning JSON responses with proper HTTP status codes, streamlining client-server communication.\n",
        "\n",
        "5. **Resource-Based Organization**  \n",
        "   Organizes endpoints around resources (e.g., `/users`, `/items`) rather than raw routes, improving code modularity and maintainability.\n",
        "\n",
        "6. **Extensibility**  \n",
        "   Integrates easily with other Flask extensions (e.g., Flask-SQLAlchemy) and supports custom fields and authentication for complex APIs.\n",
        "\n"
      ],
      "metadata": {
        "id": "rTMlfgjHtYB4"
      }
    },
    {
      "cell_type": "markdown",
      "source": [
        "#23. What is the role of Flask’s session object?\n",
        "\n",
        "\n",
        "# Role of Flask's Session Object\n",
        "\n",
        "**Definition**: Flask's `session` object is a dictionary-like interface that allows developers to store user-specific data across multiple HTTP requests in a Flask application. It provides a way to maintain state in a stateless HTTP environment by storing data on the server or client side (typically as a secure cookie).\n",
        "\n",
        "## Key Roles\n",
        "1. **Persistent User Data Storage**  \n",
        "   Stores user-specific data (e.g., user ID, preferences) between requests, enabling a personalized user experience.\n",
        "\n",
        "2. **State Management**  \n",
        "   Maintains session state for users, such as login status or shopping cart contents, during their interaction with the application.\n",
        "\n",
        "3. **Secure Cookie-Based Storage**  \n",
        "   By default, stores data in a client-side cookie, signed cryptographically to prevent tampering, ensuring security.\n",
        "\n",
        "4. **Temporary Data Handling**  \n",
        "   Allows temporary storage of data (e.g., form data during multi-step processes) that persists for the duration of the session.\n"
      ],
      "metadata": {
        "id": "GDa7s2yzyrXJ"
      }
    },
    {
      "cell_type": "markdown",
      "source": [
        "#Practical"
      ],
      "metadata": {
        "id": "pchIU2zL0ex_"
      }
    },
    {
      "cell_type": "markdown",
      "source": [
        "#1. How do you create a basic Flask application?"
      ],
      "metadata": {
        "id": "7g05yK3t317-"
      }
    },
    {
      "cell_type": "code",
      "source": [
        "from flask import Flask\n",
        "from pyngrok import ngrok\n",
        "import getpass\n",
        "\n",
        "# Set ngrok authtoken (get from ngrok.com)\n",
        "ngrok.set_auth_token(getpass.getpass('Enter ngrok token: '))\n",
        "\n",
        "app = Flask(__name__)\n",
        "\n",
        "@app.route('/')\n",
        "def home():\n",
        "    return 'Hello, Flask from Colab!'\n",
        "\n",
        "# Start ngrok tunnel\n",
        "public_url = ngrok.connect(5000)\n",
        "print(f'Public URL: {public_url}')\n",
        "\n",
        "# Run Flask in a separate thread\n",
        "from threading import Thread\n",
        "def run_app():\n",
        "    app.run(port=5000)\n",
        "\n",
        "Thread(target=run_app).start()"
      ],
      "metadata": {
        "colab": {
          "base_uri": "https://localhost:8080/"
        },
        "id": "kS0rQgko2f7z",
        "outputId": "947bc902-1325-4c9c-ca96-acef6d9cda02"
      },
      "execution_count": null,
      "outputs": [
        {
          "output_type": "stream",
          "name": "stdout",
          "text": [
            "Enter ngrok token: ··········\n",
            "Public URL: NgrokTunnel: \"https://7e8bf1762e44.ngrok-free.app\" -> \"http://localhost:5000\"\n",
            " * Serving Flask app '__main__'\n",
            " * Debug mode: off\n"
          ]
        },
        {
          "output_type": "stream",
          "name": "stderr",
          "text": [
            "Address already in use\n",
            "Port 5000 is in use by another program. Either identify and stop that program, or start the server with a different port.\n"
          ]
        }
      ]
    },
    {
      "cell_type": "markdown",
      "source": [
        "#2.  How do you serve static files like images or CSS in Flask?\n",
        "\n",
        ">Set Up Project Structure\n",
        ">>Create a static folder in your project directory to store files like style. css or image.jpg:\n",
        "\n",
        "/project\n",
        "  /static\n",
        "    /css\n",
        "      style.css\n",
        "    /img\n",
        "      image.jpg\n",
        "  /templates\n",
        "    index.html\n",
        "  app.py"
      ],
      "metadata": {
        "id": "JKu0h0g84PzQ"
      }
    },
    {
      "cell_type": "code",
      "source": [
        "from flask import Flask, render_template\n",
        "\n",
        "app = Flask(__name__)\n",
        "\n",
        "@app.route('/')\n",
        "def home():\n",
        "    return render_template('index.html')"
      ],
      "metadata": {
        "id": "J2CfhsZa4Uq2"
      },
      "execution_count": 1,
      "outputs": []
    },
    {
      "cell_type": "code",
      "source": [
        "!pip install pyngrok"
      ],
      "metadata": {
        "colab": {
          "base_uri": "https://localhost:8080/"
        },
        "id": "dasZlei4K15M",
        "outputId": "13907b16-1e13-45ba-98ea-59d4de73bf49"
      },
      "execution_count": 3,
      "outputs": [
        {
          "output_type": "stream",
          "name": "stdout",
          "text": [
            "Collecting pyngrok\n",
            "  Downloading pyngrok-7.3.0-py3-none-any.whl.metadata (8.1 kB)\n",
            "Requirement already satisfied: PyYAML>=5.1 in /usr/local/lib/python3.12/dist-packages (from pyngrok) (6.0.2)\n",
            "Downloading pyngrok-7.3.0-py3-none-any.whl (25 kB)\n",
            "Installing collected packages: pyngrok\n",
            "Successfully installed pyngrok-7.3.0\n"
          ]
        }
      ]
    },
    {
      "cell_type": "code",
      "source": [
        "from flask import Flask, render_template\n",
        "from pyngrok import ngrok\n",
        "import getpass\n",
        "\n",
        "# Set ngrok authtoken (get from ngrok.com)\n",
        "ngrok.set_auth_token(getpass.getpass('Enter ngrok token: '))\n",
        "\n",
        "app = Flask(__name__)\n",
        "\n",
        "@app.route('/')\n",
        "def home():\n",
        "    return render_template('index.html')\n",
        "\n",
        "# Start ngrok tunnel\n",
        "public_url = ngrok.connect(5000)\n",
        "print(f'Public URL: {public_url}')\n",
        "\n",
        "# Run Flask in a thread\n",
        "from threading import Thread\n",
        "def run_app():\n",
        "    app.run(port=5000)\n",
        "\n",
        "Thread(target=run_app).start()"
      ],
      "metadata": {
        "colab": {
          "base_uri": "https://localhost:8080/"
        },
        "id": "I177L7v7K6Ph",
        "outputId": "3ef37e64-c5f3-4650-cc7a-60432d7d9d8a"
      },
      "execution_count": 5,
      "outputs": [
        {
          "output_type": "stream",
          "name": "stdout",
          "text": [
            "Enter ngrok token: ··········\n",
            "Public URL: NgrokTunnel: \"https://412622afec3a.ngrok-free.app\" -> \"http://localhost:5000\"\n"
          ]
        }
      ]
    },
    {
      "cell_type": "markdown",
      "source": [
        "#3. How do you define different routes with different HTTP methods in Flask\n",
        "\n",
        "# Defining Different Routes with Different HTTP Methods in Flask\n",
        "\n",
        "In Flask, **routes** map URLs to Python functions (view functions), and **HTTP methods** (e.g., GET, POST, PUT, DELETE) specify the type of request a route can handle. Flask allows defining routes with specific HTTP methods using the `methods` parameter in the `@app.route()` decorator.\n",
        "\n",
        "## Steps to Define Routes with Different HTTP Methods\n",
        "\n",
        "1. **Install Flask**  \n",
        "   In Google Colab or local environment:\n",
        "   ```bash\n",
        "   !pip install flask"
      ],
      "metadata": {
        "id": "naxkAFS6MS-t"
      }
    },
    {
      "cell_type": "code",
      "source": [
        "!pip install flask"
      ],
      "metadata": {
        "colab": {
          "base_uri": "https://localhost:8080/"
        },
        "id": "1sN246uOMmGb",
        "outputId": "5e24c37a-0684-4606-8a95-a5284774d000"
      },
      "execution_count": 6,
      "outputs": [
        {
          "output_type": "stream",
          "name": "stdout",
          "text": [
            "Requirement already satisfied: flask in /usr/local/lib/python3.12/dist-packages (3.1.2)\n",
            "Requirement already satisfied: blinker>=1.9.0 in /usr/local/lib/python3.12/dist-packages (from flask) (1.9.0)\n",
            "Requirement already satisfied: click>=8.1.3 in /usr/local/lib/python3.12/dist-packages (from flask) (8.2.1)\n",
            "Requirement already satisfied: itsdangerous>=2.2.0 in /usr/local/lib/python3.12/dist-packages (from flask) (2.2.0)\n",
            "Requirement already satisfied: jinja2>=3.1.2 in /usr/local/lib/python3.12/dist-packages (from flask) (3.1.6)\n",
            "Requirement already satisfied: markupsafe>=2.1.1 in /usr/local/lib/python3.12/dist-packages (from flask) (3.0.2)\n",
            "Requirement already satisfied: werkzeug>=3.1.0 in /usr/local/lib/python3.12/dist-packages (from flask) (3.1.3)\n"
          ]
        }
      ]
    },
    {
      "cell_type": "code",
      "source": [
        "from flask import Flask, request, jsonify\n",
        "\n",
        "app = Flask(__name__)"
      ],
      "metadata": {
        "id": "W_nSXjndMpbL"
      },
      "execution_count": 7,
      "outputs": []
    },
    {
      "cell_type": "code",
      "source": [
        "# GET route to retrieve data\n",
        "@app.route('/api/users', methods=['GET'])\n",
        "def get_users():\n",
        "    return jsonify({\"users\": [\"Alice\", \"Bob\"]}), 200\n",
        "\n",
        "# POST route to create data\n",
        "@app.route('/api/users', methods=['POST'])\n",
        "def create_user():\n",
        "    data = request.get_json()\n",
        "    if not data or 'name' not in data:\n",
        "        return jsonify({\"error\": \"Name required\"}), 400\n",
        "    return jsonify({\"message\": f\"Created {data['name']}\"}), 201\n",
        "\n",
        "# PUT route to update data\n",
        "@app.route('/api/users/<int:id>', methods=['PUT'])\n",
        "def update_user(id):\n",
        "    data = request.get_json()\n",
        "    return jsonify({\"message\": f\"Updated user {id} with {data['name']}\"}), 200\n",
        "\n",
        "# DELETE route to remove data\n",
        "@app.route('/api/users/<int:id>', methods=['DELETE'])\n",
        "def delete_user(id):\n",
        "    return jsonify({\"message\": f\"Deleted user {id}\"}), 204"
      ],
      "metadata": {
        "id": "bD4yEr6OMrxm"
      },
      "execution_count": 8,
      "outputs": []
    },
    {
      "cell_type": "markdown",
      "source": [
        "#4.  How do you render HTML templates in Flask?\n",
        "\n",
        "# Rendering HTML Templates in Flask\n",
        "\n",
        "In Flask, **HTML templates** are rendered using the **Jinja2 templating engine**, which allows dynamic content generation by combining HTML files with Python data. Templates are stored in a `templates` folder and rendered using the `render_template()` function.\n",
        "\n",
        "## Steps to Render HTML Templates\n",
        "\n",
        "1. **Install Flask**  \n",
        "   In Google Colab or local environment:\n",
        "   \n",
        "   !pip install flask\n",
        "\n",
        "##Set Up Project Structure\n",
        "Create a templates folder in your project directory to store HTML files:\n",
        "   /project\n",
        "  /templates\n",
        "    index.html\n",
        "  app.py\n"
      ],
      "metadata": {
        "id": "aPAyQJkDNv3q"
      }
    },
    {
      "cell_type": "code",
      "source": [
        "!pip install flask"
      ],
      "metadata": {
        "colab": {
          "base_uri": "https://localhost:8080/"
        },
        "id": "OW8Adut1OTqF",
        "outputId": "3edca051-34a5-419e-adfc-ee4e285d2e27"
      },
      "execution_count": 11,
      "outputs": [
        {
          "output_type": "stream",
          "name": "stdout",
          "text": [
            "Requirement already satisfied: flask in /usr/local/lib/python3.12/dist-packages (3.1.2)\n",
            "Requirement already satisfied: blinker>=1.9.0 in /usr/local/lib/python3.12/dist-packages (from flask) (1.9.0)\n",
            "Requirement already satisfied: click>=8.1.3 in /usr/local/lib/python3.12/dist-packages (from flask) (8.2.1)\n",
            "Requirement already satisfied: itsdangerous>=2.2.0 in /usr/local/lib/python3.12/dist-packages (from flask) (2.2.0)\n",
            "Requirement already satisfied: jinja2>=3.1.2 in /usr/local/lib/python3.12/dist-packages (from flask) (3.1.6)\n",
            "Requirement already satisfied: markupsafe>=2.1.1 in /usr/local/lib/python3.12/dist-packages (from flask) (3.0.2)\n",
            "Requirement already satisfied: werkzeug>=3.1.0 in /usr/local/lib/python3.12/dist-packages (from flask) (3.1.3)\n"
          ]
        }
      ]
    },
    {
      "cell_type": "code",
      "source": [
        "from flask import Flask, render_template\n",
        "from pyngrok import ngrok\n",
        "import getpass\n",
        "from google.colab import files\n",
        "\n",
        "# Upload templates folder\n",
        "print(\"Upload your templates folder or index.html\")\n",
        "uploaded = files.upload()  # Upload index.html to /content/templates/\n",
        "\n",
        "# Create templates directory in Colab\n",
        "!mkdir -p /content/templates\n",
        "!mv index.html /content/templates/  # Move uploaded file to templates/\n",
        "\n",
        "# Terminate existing ngrok processes\n",
        "!pkill ngrok\n",
        "\n",
        "# Set ngrok authtoken (get from ngrok.com)\n",
        "ngrok.set_auth_token(getpass.getpass('Enter ngrok token: '))\n",
        "\n",
        "app = Flask(__name__)\n",
        "\n",
        "@app.route('/')\n",
        "def home():\n",
        "    return render_template('index.html', title='Home Page', name='User')\n",
        "\n",
        "# Start ngrok tunnel\n",
        "try:\n",
        "    public_url = ngrok.connect(5000, bind_tls=True)\n",
        "    print(f'Public URL: {public_url}')\n",
        "except Exception as e:\n",
        "    print(f'Error starting ngrok: {e}')\n",
        "\n",
        "# Run Flask in a thread\n",
        "from threading import Thread\n",
        "def run_app():\n",
        "    app.run(port=5000)\n",
        "\n",
        "Thread(target=run_app).start()\n"
      ],
      "metadata": {
        "colab": {
          "base_uri": "https://localhost:8080/",
          "height": 198
        },
        "id": "4YNBib1UObyi",
        "outputId": "41f5f859-d3f4-4cf2-87f4-c6e2891dddf1"
      },
      "execution_count": 13,
      "outputs": [
        {
          "output_type": "stream",
          "name": "stdout",
          "text": [
            "Upload your templates folder or index.html\n"
          ]
        },
        {
          "output_type": "display_data",
          "data": {
            "text/plain": [
              "<IPython.core.display.HTML object>"
            ],
            "text/html": [
              "\n",
              "     <input type=\"file\" id=\"files-4ff11bdc-b0f6-4806-8df5-4faaa99685b4\" name=\"files[]\" multiple disabled\n",
              "        style=\"border:none\" />\n",
              "     <output id=\"result-4ff11bdc-b0f6-4806-8df5-4faaa99685b4\">\n",
              "      Upload widget is only available when the cell has been executed in the\n",
              "      current browser session. Please rerun this cell to enable.\n",
              "      </output>\n",
              "      <script>// Copyright 2017 Google LLC\n",
              "//\n",
              "// Licensed under the Apache License, Version 2.0 (the \"License\");\n",
              "// you may not use this file except in compliance with the License.\n",
              "// You may obtain a copy of the License at\n",
              "//\n",
              "//      http://www.apache.org/licenses/LICENSE-2.0\n",
              "//\n",
              "// Unless required by applicable law or agreed to in writing, software\n",
              "// distributed under the License is distributed on an \"AS IS\" BASIS,\n",
              "// WITHOUT WARRANTIES OR CONDITIONS OF ANY KIND, either express or implied.\n",
              "// See the License for the specific language governing permissions and\n",
              "// limitations under the License.\n",
              "\n",
              "/**\n",
              " * @fileoverview Helpers for google.colab Python module.\n",
              " */\n",
              "(function(scope) {\n",
              "function span(text, styleAttributes = {}) {\n",
              "  const element = document.createElement('span');\n",
              "  element.textContent = text;\n",
              "  for (const key of Object.keys(styleAttributes)) {\n",
              "    element.style[key] = styleAttributes[key];\n",
              "  }\n",
              "  return element;\n",
              "}\n",
              "\n",
              "// Max number of bytes which will be uploaded at a time.\n",
              "const MAX_PAYLOAD_SIZE = 100 * 1024;\n",
              "\n",
              "function _uploadFiles(inputId, outputId) {\n",
              "  const steps = uploadFilesStep(inputId, outputId);\n",
              "  const outputElement = document.getElementById(outputId);\n",
              "  // Cache steps on the outputElement to make it available for the next call\n",
              "  // to uploadFilesContinue from Python.\n",
              "  outputElement.steps = steps;\n",
              "\n",
              "  return _uploadFilesContinue(outputId);\n",
              "}\n",
              "\n",
              "// This is roughly an async generator (not supported in the browser yet),\n",
              "// where there are multiple asynchronous steps and the Python side is going\n",
              "// to poll for completion of each step.\n",
              "// This uses a Promise to block the python side on completion of each step,\n",
              "// then passes the result of the previous step as the input to the next step.\n",
              "function _uploadFilesContinue(outputId) {\n",
              "  const outputElement = document.getElementById(outputId);\n",
              "  const steps = outputElement.steps;\n",
              "\n",
              "  const next = steps.next(outputElement.lastPromiseValue);\n",
              "  return Promise.resolve(next.value.promise).then((value) => {\n",
              "    // Cache the last promise value to make it available to the next\n",
              "    // step of the generator.\n",
              "    outputElement.lastPromiseValue = value;\n",
              "    return next.value.response;\n",
              "  });\n",
              "}\n",
              "\n",
              "/**\n",
              " * Generator function which is called between each async step of the upload\n",
              " * process.\n",
              " * @param {string} inputId Element ID of the input file picker element.\n",
              " * @param {string} outputId Element ID of the output display.\n",
              " * @return {!Iterable<!Object>} Iterable of next steps.\n",
              " */\n",
              "function* uploadFilesStep(inputId, outputId) {\n",
              "  const inputElement = document.getElementById(inputId);\n",
              "  inputElement.disabled = false;\n",
              "\n",
              "  const outputElement = document.getElementById(outputId);\n",
              "  outputElement.innerHTML = '';\n",
              "\n",
              "  const pickedPromise = new Promise((resolve) => {\n",
              "    inputElement.addEventListener('change', (e) => {\n",
              "      resolve(e.target.files);\n",
              "    });\n",
              "  });\n",
              "\n",
              "  const cancel = document.createElement('button');\n",
              "  inputElement.parentElement.appendChild(cancel);\n",
              "  cancel.textContent = 'Cancel upload';\n",
              "  const cancelPromise = new Promise((resolve) => {\n",
              "    cancel.onclick = () => {\n",
              "      resolve(null);\n",
              "    };\n",
              "  });\n",
              "\n",
              "  // Wait for the user to pick the files.\n",
              "  const files = yield {\n",
              "    promise: Promise.race([pickedPromise, cancelPromise]),\n",
              "    response: {\n",
              "      action: 'starting',\n",
              "    }\n",
              "  };\n",
              "\n",
              "  cancel.remove();\n",
              "\n",
              "  // Disable the input element since further picks are not allowed.\n",
              "  inputElement.disabled = true;\n",
              "\n",
              "  if (!files) {\n",
              "    return {\n",
              "      response: {\n",
              "        action: 'complete',\n",
              "      }\n",
              "    };\n",
              "  }\n",
              "\n",
              "  for (const file of files) {\n",
              "    const li = document.createElement('li');\n",
              "    li.append(span(file.name, {fontWeight: 'bold'}));\n",
              "    li.append(span(\n",
              "        `(${file.type || 'n/a'}) - ${file.size} bytes, ` +\n",
              "        `last modified: ${\n",
              "            file.lastModifiedDate ? file.lastModifiedDate.toLocaleDateString() :\n",
              "                                    'n/a'} - `));\n",
              "    const percent = span('0% done');\n",
              "    li.appendChild(percent);\n",
              "\n",
              "    outputElement.appendChild(li);\n",
              "\n",
              "    const fileDataPromise = new Promise((resolve) => {\n",
              "      const reader = new FileReader();\n",
              "      reader.onload = (e) => {\n",
              "        resolve(e.target.result);\n",
              "      };\n",
              "      reader.readAsArrayBuffer(file);\n",
              "    });\n",
              "    // Wait for the data to be ready.\n",
              "    let fileData = yield {\n",
              "      promise: fileDataPromise,\n",
              "      response: {\n",
              "        action: 'continue',\n",
              "      }\n",
              "    };\n",
              "\n",
              "    // Use a chunked sending to avoid message size limits. See b/62115660.\n",
              "    let position = 0;\n",
              "    do {\n",
              "      const length = Math.min(fileData.byteLength - position, MAX_PAYLOAD_SIZE);\n",
              "      const chunk = new Uint8Array(fileData, position, length);\n",
              "      position += length;\n",
              "\n",
              "      const base64 = btoa(String.fromCharCode.apply(null, chunk));\n",
              "      yield {\n",
              "        response: {\n",
              "          action: 'append',\n",
              "          file: file.name,\n",
              "          data: base64,\n",
              "        },\n",
              "      };\n",
              "\n",
              "      let percentDone = fileData.byteLength === 0 ?\n",
              "          100 :\n",
              "          Math.round((position / fileData.byteLength) * 100);\n",
              "      percent.textContent = `${percentDone}% done`;\n",
              "\n",
              "    } while (position < fileData.byteLength);\n",
              "  }\n",
              "\n",
              "  // All done.\n",
              "  yield {\n",
              "    response: {\n",
              "      action: 'complete',\n",
              "    }\n",
              "  };\n",
              "}\n",
              "\n",
              "scope.google = scope.google || {};\n",
              "scope.google.colab = scope.google.colab || {};\n",
              "scope.google.colab._files = {\n",
              "  _uploadFiles,\n",
              "  _uploadFilesContinue,\n",
              "};\n",
              "})(self);\n",
              "</script> "
            ]
          },
          "metadata": {}
        },
        {
          "output_type": "stream",
          "name": "stdout",
          "text": [
            "Saving index.html to index.html\n",
            "Enter ngrok token: ··········\n",
            "Public URL: NgrokTunnel: \"https://ebcd67843729.ngrok-free.app\" -> \"http://localhost:5000\"\n",
            " * Serving Flask app '__main__'\n",
            " * Debug mode: off\n"
          ]
        },
        {
          "output_type": "stream",
          "name": "stderr",
          "text": [
            "Address already in use\n",
            "Port 5000 is in use by another program. Either identify and stop that program, or start the server with a different port.\n"
          ]
        }
      ]
    },
    {
      "cell_type": "markdown",
      "source": [
        "#5.How can you generate URLs for routes in Flask using url_for?\n",
        "\n",
        "# Generating URLs for Routes in Flask Using `url_for`\n",
        "\n",
        "In Flask, the **`url_for()`** function dynamically generates URLs for routes based on their endpoint names (typically the view function name) and optional parameters. This avoids hardcoding URLs, making the application more maintainable and flexible.\n",
        "\n",
        "## Purpose of `url_for`\n",
        "- **Dynamic URL Generation**: Creates URLs for routes, adapting to changes in route definitions or URL prefixes.\n",
        "- **Handle Parameters**: Incorporates dynamic URL parameters (e.g., `/user/<id>`).\n",
        "- **Avoid Hardcoding**: Reduces errors and maintenance by referencing endpoints instead of static URLs.\n",
        "\n",
        "## Steps to Use `url_for`\n",
        "\n",
        "1. **Install Flask**  \n",
        "   In Google Colab or local environment:\n",
        "   ```bash\n",
        "\n",
        "\n"
      ],
      "metadata": {
        "id": "ctw5-GAHPeac"
      }
    },
    {
      "cell_type": "code",
      "source": [
        "!pip install flask pyngrok"
      ],
      "metadata": {
        "colab": {
          "base_uri": "https://localhost:8080/"
        },
        "id": "tIe7lAN9PqYZ",
        "outputId": "776ec881-4aa3-421f-9ccb-5b9d88b394bb"
      },
      "execution_count": 16,
      "outputs": [
        {
          "output_type": "stream",
          "name": "stdout",
          "text": [
            "Requirement already satisfied: flask in /usr/local/lib/python3.12/dist-packages (3.1.2)\n",
            "Requirement already satisfied: pyngrok in /usr/local/lib/python3.12/dist-packages (7.3.0)\n",
            "Requirement already satisfied: blinker>=1.9.0 in /usr/local/lib/python3.12/dist-packages (from flask) (1.9.0)\n",
            "Requirement already satisfied: click>=8.1.3 in /usr/local/lib/python3.12/dist-packages (from flask) (8.2.1)\n",
            "Requirement already satisfied: itsdangerous>=2.2.0 in /usr/local/lib/python3.12/dist-packages (from flask) (2.2.0)\n",
            "Requirement already satisfied: jinja2>=3.1.2 in /usr/local/lib/python3.12/dist-packages (from flask) (3.1.6)\n",
            "Requirement already satisfied: markupsafe>=2.1.1 in /usr/local/lib/python3.12/dist-packages (from flask) (3.0.2)\n",
            "Requirement already satisfied: werkzeug>=3.1.0 in /usr/local/lib/python3.12/dist-packages (from flask) (3.1.3)\n",
            "Requirement already satisfied: PyYAML>=5.1 in /usr/local/lib/python3.12/dist-packages (from pyngrok) (6.0.2)\n"
          ]
        }
      ]
    },
    {
      "cell_type": "code",
      "source": [
        "from flask import Flask, url_for, redirect\n",
        "from pyngrok import ngrok\n",
        "import getpass\n",
        "\n",
        "# Terminate existing ngrok processes\n",
        "!pkill ngrok\n",
        "\n",
        "# Set ngrok authtoken (get from ngrok.com)\n",
        "ngrok.set_auth_token(getpass.getpass('Enter ngrok token: '))\n",
        "\n",
        "app = Flask(__name__)\n",
        "\n",
        "@app.route('/')\n",
        "def home():\n",
        "    return 'Home Page'\n",
        "\n",
        "@app.route('/user/<username>')\n",
        "def profile(username):\n",
        "    return f'Profile: {username}'\n",
        "\n",
        "@app.route('/test')\n",
        "def test():\n",
        "    home_url = url_for('home')  # '/'\n",
        "    profile_url = url_for('profile', username='Alice')  # '/user/Alice'\n",
        "    return f'Home: {home_url}, Profile: {profile_url}'\n",
        "\n",
        "# Start ngrok tunnel\n",
        "try:\n",
        "    public_url = ngrok.connect(5000, bind_tls=True)\n",
        "    print(f'Public URL: {public_url}')\n",
        "except Exception as e:\n",
        "    print(f'Error starting ngrok: {e}')\n",
        "\n",
        "# Run Flask in a thread\n",
        "from threading import Thread\n",
        "def run_app():\n",
        "    app.run(port=5000)\n",
        "\n",
        "Thread(target=run_app).start()"
      ],
      "metadata": {
        "colab": {
          "base_uri": "https://localhost:8080/"
        },
        "id": "7rEROsYJPw-e",
        "outputId": "df8d8ae0-7aa0-43c6-ecef-19417f8a1a84"
      },
      "execution_count": 17,
      "outputs": [
        {
          "output_type": "stream",
          "name": "stdout",
          "text": [
            "Enter ngrok token: ··········\n",
            "Public URL: NgrokTunnel: \"https://ab600e5f09fb.ngrok-free.app\" -> \"http://localhost:5000\"\n",
            " * Serving Flask app '__main__'\n"
          ]
        }
      ]
    },
    {
      "cell_type": "markdown",
      "source": [
        "#6. How do you handle forms in Flask?\n",
        "\n",
        "# Handling Forms in Flask\n",
        "\n",
        "In Flask, **forms** are handled by processing user input submitted via HTML forms, typically through **POST** requests. Flask uses the `request` object to access form data and can be enhanced with extensions like **Flask-WTF** for secure form handling and validation.\n",
        "\n",
        "## Steps to Handle Forms in Flask\n",
        "\n",
        "1. **Install Required Packages**  \n",
        "   Install Flask and optionally Flask-WTF for form validation:\n",
        "   ```bash\n",
        "   !pip install flask flask-wtf"
      ],
      "metadata": {
        "id": "fVXWLWuPQPIW"
      }
    },
    {
      "cell_type": "code",
      "source": [
        "!pip install flask-ngrok\n"
      ],
      "metadata": {
        "colab": {
          "base_uri": "https://localhost:8080/"
        },
        "id": "1mTJrpfYQpT-",
        "outputId": "bc515c28-46ec-4beb-ff0c-1b4a085050b9"
      },
      "execution_count": 6,
      "outputs": [
        {
          "output_type": "stream",
          "name": "stdout",
          "text": [
            "Collecting flask-ngrok\n",
            "  Downloading flask_ngrok-0.0.25-py3-none-any.whl.metadata (1.8 kB)\n",
            "Requirement already satisfied: Flask>=0.8 in /usr/local/lib/python3.12/dist-packages (from flask-ngrok) (3.1.2)\n",
            "Requirement already satisfied: requests in /usr/local/lib/python3.12/dist-packages (from flask-ngrok) (2.32.4)\n",
            "Requirement already satisfied: blinker>=1.9.0 in /usr/local/lib/python3.12/dist-packages (from Flask>=0.8->flask-ngrok) (1.9.0)\n",
            "Requirement already satisfied: click>=8.1.3 in /usr/local/lib/python3.12/dist-packages (from Flask>=0.8->flask-ngrok) (8.2.1)\n",
            "Requirement already satisfied: itsdangerous>=2.2.0 in /usr/local/lib/python3.12/dist-packages (from Flask>=0.8->flask-ngrok) (2.2.0)\n",
            "Requirement already satisfied: jinja2>=3.1.2 in /usr/local/lib/python3.12/dist-packages (from Flask>=0.8->flask-ngrok) (3.1.6)\n",
            "Requirement already satisfied: markupsafe>=2.1.1 in /usr/local/lib/python3.12/dist-packages (from Flask>=0.8->flask-ngrok) (3.0.2)\n",
            "Requirement already satisfied: werkzeug>=3.1.0 in /usr/local/lib/python3.12/dist-packages (from Flask>=0.8->flask-ngrok) (3.1.3)\n",
            "Requirement already satisfied: charset_normalizer<4,>=2 in /usr/local/lib/python3.12/dist-packages (from requests->flask-ngrok) (3.4.3)\n",
            "Requirement already satisfied: idna<4,>=2.5 in /usr/local/lib/python3.12/dist-packages (from requests->flask-ngrok) (3.10)\n",
            "Requirement already satisfied: urllib3<3,>=1.21.1 in /usr/local/lib/python3.12/dist-packages (from requests->flask-ngrok) (2.5.0)\n",
            "Requirement already satisfied: certifi>=2017.4.17 in /usr/local/lib/python3.12/dist-packages (from requests->flask-ngrok) (2025.8.3)\n",
            "Downloading flask_ngrok-0.0.25-py3-none-any.whl (3.1 kB)\n",
            "Installing collected packages: flask-ngrok\n",
            "Successfully installed flask-ngrok-0.0.25\n"
          ]
        }
      ]
    },
    {
      "cell_type": "code",
      "source": [
        "from flask import Flask, request, render_template_string\n",
        "\n",
        "app = Flask(__name__)\n",
        "\n",
        "form_html = \"\"\"\n",
        "<!DOCTYPE html>\n",
        "<html>\n",
        "<head><title>Flask Form Example</title></head>\n",
        "<body>\n",
        "  <h2>User Form</h2>\n",
        "  <form method=\"POST\">\n",
        "    Name: <input type=\"text\" name=\"username\"><br><br>\n",
        "    Age: <input type=\"number\" name=\"age\"><br><br>\n",
        "    <input type=\"submit\" value=\"Submit\">\n",
        "  </form>\n",
        "  <p>{{ message }}</p>\n",
        "</body>\n",
        "</html>\n",
        "\"\"\"\n",
        "\n",
        "@app.route(\"/\", methods=[\"GET\", \"POST\"])\n",
        "def home():\n",
        "    message = \"\"\n",
        "    if request.method == \"POST\":\n",
        "        name = request.form.get(\"username\")\n",
        "        age = request.form.get(\"age\")\n",
        "        if not name:\n",
        "            message = \"⚠️ Name cannot be empty!\"\n",
        "        elif not age:\n",
        "            message = \"⚠️ Age cannot be empty!\"\n",
        "        else:\n",
        "            message = f\"Hello {name}, you are {age} years old.\"\n",
        "    return render_template_string(form_html, message=message)\n",
        "\n",
        "# Start ngrok tunnel\n",
        "public_url = ngrok.connect(5001)\n",
        "print(\"Click this link to open form:\", public_url)\n",
        "\n",
        "app.run(port=5001)\n"
      ],
      "metadata": {
        "colab": {
          "base_uri": "https://localhost:8080/"
        },
        "id": "g9vSE-toQhcG",
        "outputId": "db59761d-eac6-44a6-efe1-d6d026e9639d"
      },
      "execution_count": 8,
      "outputs": [
        {
          "output_type": "stream",
          "name": "stdout",
          "text": [
            "Click this link to open form: NgrokTunnel: \"https://d7be9bc51dd9.ngrok-free.app\" -> \"http://localhost:5001\"\n",
            " * Serving Flask app '__main__'\n",
            " * Debug mode: off\n"
          ]
        },
        {
          "output_type": "stream",
          "name": "stderr",
          "text": [
            "INFO:werkzeug:\u001b[31m\u001b[1mWARNING: This is a development server. Do not use it in a production deployment. Use a production WSGI server instead.\u001b[0m\n",
            " * Running on http://127.0.0.1:5001\n",
            "INFO:werkzeug:\u001b[33mPress CTRL+C to quit\u001b[0m\n",
            "WARNING:pyngrok.process.ngrok:t=2025-09-13T18:28:08+0000 lvl=warn msg=\"failed to check for update\" obj=updater err=\"Post \\\"https://update.equinox.io/check\\\": context deadline exceeded\"\n",
            "INFO:werkzeug:127.0.0.1 - - [13/Sep/2025 18:28:43] \"GET / HTTP/1.1\" 200 -\n",
            "INFO:werkzeug:127.0.0.1 - - [13/Sep/2025 18:28:43] \"\u001b[33mGET /favicon.ico HTTP/1.1\u001b[0m\" 404 -\n"
          ]
        }
      ]
    },
    {
      "cell_type": "code",
      "source": [
        "from google.colab import files\n",
        "from IPython.display import Image"
      ],
      "metadata": {
        "id": "Tr7xctpTV81S"
      },
      "execution_count": 9,
      "outputs": []
    },
    {
      "cell_type": "code",
      "source": [
        "uploaded = files.upload()"
      ],
      "metadata": {
        "colab": {
          "base_uri": "https://localhost:8080/",
          "height": 73
        },
        "id": "jPW0HU0sWC4J",
        "outputId": "3564b24f-ee96-4576-96d4-039ef387b107"
      },
      "execution_count": 10,
      "outputs": [
        {
          "output_type": "display_data",
          "data": {
            "text/plain": [
              "<IPython.core.display.HTML object>"
            ],
            "text/html": [
              "\n",
              "     <input type=\"file\" id=\"files-bc2c20d4-8104-4293-bb8e-ded3f466ab8b\" name=\"files[]\" multiple disabled\n",
              "        style=\"border:none\" />\n",
              "     <output id=\"result-bc2c20d4-8104-4293-bb8e-ded3f466ab8b\">\n",
              "      Upload widget is only available when the cell has been executed in the\n",
              "      current browser session. Please rerun this cell to enable.\n",
              "      </output>\n",
              "      <script>// Copyright 2017 Google LLC\n",
              "//\n",
              "// Licensed under the Apache License, Version 2.0 (the \"License\");\n",
              "// you may not use this file except in compliance with the License.\n",
              "// You may obtain a copy of the License at\n",
              "//\n",
              "//      http://www.apache.org/licenses/LICENSE-2.0\n",
              "//\n",
              "// Unless required by applicable law or agreed to in writing, software\n",
              "// distributed under the License is distributed on an \"AS IS\" BASIS,\n",
              "// WITHOUT WARRANTIES OR CONDITIONS OF ANY KIND, either express or implied.\n",
              "// See the License for the specific language governing permissions and\n",
              "// limitations under the License.\n",
              "\n",
              "/**\n",
              " * @fileoverview Helpers for google.colab Python module.\n",
              " */\n",
              "(function(scope) {\n",
              "function span(text, styleAttributes = {}) {\n",
              "  const element = document.createElement('span');\n",
              "  element.textContent = text;\n",
              "  for (const key of Object.keys(styleAttributes)) {\n",
              "    element.style[key] = styleAttributes[key];\n",
              "  }\n",
              "  return element;\n",
              "}\n",
              "\n",
              "// Max number of bytes which will be uploaded at a time.\n",
              "const MAX_PAYLOAD_SIZE = 100 * 1024;\n",
              "\n",
              "function _uploadFiles(inputId, outputId) {\n",
              "  const steps = uploadFilesStep(inputId, outputId);\n",
              "  const outputElement = document.getElementById(outputId);\n",
              "  // Cache steps on the outputElement to make it available for the next call\n",
              "  // to uploadFilesContinue from Python.\n",
              "  outputElement.steps = steps;\n",
              "\n",
              "  return _uploadFilesContinue(outputId);\n",
              "}\n",
              "\n",
              "// This is roughly an async generator (not supported in the browser yet),\n",
              "// where there are multiple asynchronous steps and the Python side is going\n",
              "// to poll for completion of each step.\n",
              "// This uses a Promise to block the python side on completion of each step,\n",
              "// then passes the result of the previous step as the input to the next step.\n",
              "function _uploadFilesContinue(outputId) {\n",
              "  const outputElement = document.getElementById(outputId);\n",
              "  const steps = outputElement.steps;\n",
              "\n",
              "  const next = steps.next(outputElement.lastPromiseValue);\n",
              "  return Promise.resolve(next.value.promise).then((value) => {\n",
              "    // Cache the last promise value to make it available to the next\n",
              "    // step of the generator.\n",
              "    outputElement.lastPromiseValue = value;\n",
              "    return next.value.response;\n",
              "  });\n",
              "}\n",
              "\n",
              "/**\n",
              " * Generator function which is called between each async step of the upload\n",
              " * process.\n",
              " * @param {string} inputId Element ID of the input file picker element.\n",
              " * @param {string} outputId Element ID of the output display.\n",
              " * @return {!Iterable<!Object>} Iterable of next steps.\n",
              " */\n",
              "function* uploadFilesStep(inputId, outputId) {\n",
              "  const inputElement = document.getElementById(inputId);\n",
              "  inputElement.disabled = false;\n",
              "\n",
              "  const outputElement = document.getElementById(outputId);\n",
              "  outputElement.innerHTML = '';\n",
              "\n",
              "  const pickedPromise = new Promise((resolve) => {\n",
              "    inputElement.addEventListener('change', (e) => {\n",
              "      resolve(e.target.files);\n",
              "    });\n",
              "  });\n",
              "\n",
              "  const cancel = document.createElement('button');\n",
              "  inputElement.parentElement.appendChild(cancel);\n",
              "  cancel.textContent = 'Cancel upload';\n",
              "  const cancelPromise = new Promise((resolve) => {\n",
              "    cancel.onclick = () => {\n",
              "      resolve(null);\n",
              "    };\n",
              "  });\n",
              "\n",
              "  // Wait for the user to pick the files.\n",
              "  const files = yield {\n",
              "    promise: Promise.race([pickedPromise, cancelPromise]),\n",
              "    response: {\n",
              "      action: 'starting',\n",
              "    }\n",
              "  };\n",
              "\n",
              "  cancel.remove();\n",
              "\n",
              "  // Disable the input element since further picks are not allowed.\n",
              "  inputElement.disabled = true;\n",
              "\n",
              "  if (!files) {\n",
              "    return {\n",
              "      response: {\n",
              "        action: 'complete',\n",
              "      }\n",
              "    };\n",
              "  }\n",
              "\n",
              "  for (const file of files) {\n",
              "    const li = document.createElement('li');\n",
              "    li.append(span(file.name, {fontWeight: 'bold'}));\n",
              "    li.append(span(\n",
              "        `(${file.type || 'n/a'}) - ${file.size} bytes, ` +\n",
              "        `last modified: ${\n",
              "            file.lastModifiedDate ? file.lastModifiedDate.toLocaleDateString() :\n",
              "                                    'n/a'} - `));\n",
              "    const percent = span('0% done');\n",
              "    li.appendChild(percent);\n",
              "\n",
              "    outputElement.appendChild(li);\n",
              "\n",
              "    const fileDataPromise = new Promise((resolve) => {\n",
              "      const reader = new FileReader();\n",
              "      reader.onload = (e) => {\n",
              "        resolve(e.target.result);\n",
              "      };\n",
              "      reader.readAsArrayBuffer(file);\n",
              "    });\n",
              "    // Wait for the data to be ready.\n",
              "    let fileData = yield {\n",
              "      promise: fileDataPromise,\n",
              "      response: {\n",
              "        action: 'continue',\n",
              "      }\n",
              "    };\n",
              "\n",
              "    // Use a chunked sending to avoid message size limits. See b/62115660.\n",
              "    let position = 0;\n",
              "    do {\n",
              "      const length = Math.min(fileData.byteLength - position, MAX_PAYLOAD_SIZE);\n",
              "      const chunk = new Uint8Array(fileData, position, length);\n",
              "      position += length;\n",
              "\n",
              "      const base64 = btoa(String.fromCharCode.apply(null, chunk));\n",
              "      yield {\n",
              "        response: {\n",
              "          action: 'append',\n",
              "          file: file.name,\n",
              "          data: base64,\n",
              "        },\n",
              "      };\n",
              "\n",
              "      let percentDone = fileData.byteLength === 0 ?\n",
              "          100 :\n",
              "          Math.round((position / fileData.byteLength) * 100);\n",
              "      percent.textContent = `${percentDone}% done`;\n",
              "\n",
              "    } while (position < fileData.byteLength);\n",
              "  }\n",
              "\n",
              "  // All done.\n",
              "  yield {\n",
              "    response: {\n",
              "      action: 'complete',\n",
              "    }\n",
              "  };\n",
              "}\n",
              "\n",
              "scope.google = scope.google || {};\n",
              "scope.google.colab = scope.google.colab || {};\n",
              "scope.google.colab._files = {\n",
              "  _uploadFiles,\n",
              "  _uploadFilesContinue,\n",
              "};\n",
              "})(self);\n",
              "</script> "
            ]
          },
          "metadata": {}
        },
        {
          "output_type": "stream",
          "name": "stdout",
          "text": [
            "Saving Handling Forms 1.png to Handling Forms 1.png\n"
          ]
        }
      ]
    },
    {
      "cell_type": "code",
      "source": [
        "Image('Handling Forms 1.png')"
      ],
      "metadata": {
        "colab": {
          "base_uri": "https://localhost:8080/",
          "height": 696
        },
        "id": "tcOqdEwCWHXX",
        "outputId": "e0217eb7-c06a-4756-ecc5-5454376b4f81"
      },
      "execution_count": 11,
      "outputs": [
        {
          "output_type": "execute_result",
          "data": {
            "image/png": "[encoded data removed]",
            "text/plain": [
              "<IPython.core.display.Image object>"
            ]
          },
          "metadata": {},
          "execution_count": 11
        }
      ]
    },
    {
      "cell_type": "markdown",
      "source": [
        "#7. How can you validate form data in Flask?\n",
        "\n",
        "\n",
        "Validating form data means checking the input (like email, name, password) before processing it.\n",
        "In Flask, we usually:\n",
        "\n",
        "Use request.form to get values from an HTML form.\n",
        "\n",
        "Write conditions (e.g., field not empty, email format correct).\n",
        "\n",
        "If data is invalid → show an error.\n",
        "\n",
        "If data is valid → process it."
      ],
      "metadata": {
        "id": "cjS1XaeQQyn6"
      }
    },
    {
      "cell_type": "code",
      "source": [
        "!pip install flask flask-wtf pyngrok\n"
      ],
      "metadata": {
        "colab": {
          "base_uri": "https://localhost:8080/"
        },
        "id": "DwqR34pqRcP4",
        "outputId": "3fadb4eb-48e5-4de4-f990-b7661edde041"
      },
      "execution_count": 22,
      "outputs": [
        {
          "output_type": "stream",
          "name": "stdout",
          "text": [
            "Requirement already satisfied: flask in /usr/local/lib/python3.12/dist-packages (3.1.2)\n",
            "Requirement already satisfied: flask-wtf in /usr/local/lib/python3.12/dist-packages (1.2.2)\n",
            "Requirement already satisfied: pyngrok in /usr/local/lib/python3.12/dist-packages (7.3.0)\n",
            "Requirement already satisfied: blinker>=1.9.0 in /usr/local/lib/python3.12/dist-packages (from flask) (1.9.0)\n",
            "Requirement already satisfied: click>=8.1.3 in /usr/local/lib/python3.12/dist-packages (from flask) (8.2.1)\n",
            "Requirement already satisfied: itsdangerous>=2.2.0 in /usr/local/lib/python3.12/dist-packages (from flask) (2.2.0)\n",
            "Requirement already satisfied: jinja2>=3.1.2 in /usr/local/lib/python3.12/dist-packages (from flask) (3.1.6)\n",
            "Requirement already satisfied: markupsafe>=2.1.1 in /usr/local/lib/python3.12/dist-packages (from flask) (3.0.2)\n",
            "Requirement already satisfied: werkzeug>=3.1.0 in /usr/local/lib/python3.12/dist-packages (from flask) (3.1.3)\n",
            "Requirement already satisfied: wtforms in /usr/local/lib/python3.12/dist-packages (from flask-wtf) (3.2.1)\n",
            "Requirement already satisfied: PyYAML>=5.1 in /usr/local/lib/python3.12/dist-packages (from pyngrok) (6.0.2)\n"
          ]
        }
      ]
    },
    {
      "cell_type": "code",
      "source": [
        "public_url = ngrok.connect(5001)\n",
        "print(\"Click this link to open form:\", public_url)\n",
        "app.run(port=5001)\n"
      ],
      "metadata": {
        "colab": {
          "base_uri": "https://localhost:8080/"
        },
        "id": "T4ACgL3YS1o7",
        "outputId": "77df7ad5-d0fe-4279-d148-1c61012581ef"
      },
      "execution_count": 26,
      "outputs": [
        {
          "output_type": "stream",
          "name": "stdout",
          "text": [
            "Click this link to open form: NgrokTunnel: \"https://28905f682997.ngrok-free.app\" -> \"http://localhost:5001\"\n",
            " * Serving Flask app '__main__'\n",
            " * Debug mode: off\n"
          ]
        },
        {
          "output_type": "stream",
          "name": "stderr",
          "text": [
            "INFO:werkzeug:\u001b[31m\u001b[1mWARNING: This is a development server. Do not use it in a production deployment. Use a production WSGI server instead.\u001b[0m\n",
            " * Running on http://127.0.0.1:5001\n",
            "INFO:werkzeug:\u001b[33mPress CTRL+C to quit\u001b[0m\n"
          ]
        }
      ]
    },
    {
      "cell_type": "code",
      "source": [
        "!kill -9 $(lsof -t -i:5000)\n"
      ],
      "metadata": {
        "id": "ufcl01S0S5YV"
      },
      "execution_count": null,
      "outputs": []
    },
    {
      "cell_type": "code",
      "source": [
        "from flask import Flask, request, render_template_string\n",
        "from pyngrok import ngrok\n",
        "\n",
        "# Create Flask app\n",
        "app = Flask(__name__)\n",
        "app.secret_key = \"secret123\"\n",
        "\n",
        "# Simple HTML form\n",
        "form_html = \"\"\"\n",
        "<!DOCTYPE html>\n",
        "<html>\n",
        "<head><title>Form Validation</title></head>\n",
        "<body>\n",
        "  <h2>Fill this form</h2>\n",
        "  <form method=\"POST\">\n",
        "    Name: <input type=\"text\" name=\"name\"><br><br>\n",
        "    Email: <input type=\"text\" name=\"email\"><br><br>\n",
        "    <input type=\"submit\" value=\"Submit\">\n",
        "  </form>\n",
        "  <p style=\"color:red;\">{{ error }}</p>\n",
        "  <p style=\"color:green;\">{{ success }}</p>\n",
        "</body>\n",
        "</html>\n",
        "\"\"\"\n",
        "\n",
        "@app.route(\"/\", methods=[\"GET\", \"POST\"])\n",
        "def home():\n",
        "    error = \"\"\n",
        "    success = \"\"\n",
        "\n",
        "    if request.method == \"POST\":\n",
        "        name = request.form.get(\"name\")\n",
        "        email = request.form.get(\"email\")\n",
        "\n",
        "        # Validation rules\n",
        "        if not name or not email:\n",
        "            error = \"❌ Please fill all fields!\"\n",
        "        elif \"@\" not in email:\n",
        "            error = \"❌ Email must have @ symbol!\"\n",
        "        else:\n",
        "            success = f\"✅ Hello {name}, your form is valid!\"\n",
        "\n",
        "    return render_template_string(form_html, error=error, success=success)\n",
        "\n",
        "# Start Flask on port 5001\n",
        "public_url = ngrok.connect(5001)\n",
        "print(\"Click this link to open form:\", public_url)\n",
        "app.run(port=5001)\n"
      ],
      "metadata": {
        "colab": {
          "base_uri": "https://localhost:8080/"
        },
        "id": "8b9fvC1ITEMl",
        "outputId": "c3060120-5c04-4008-bef6-9cb3eac30dbf"
      },
      "execution_count": 1,
      "outputs": [
        {
          "output_type": "stream",
          "name": "stdout",
          "text": [
            "Click this link to open form: NgrokTunnel: \"https://f022c961a342.ngrok-free.app\" -> \"http://localhost:5001\"\n",
            " * Serving Flask app '__main__'\n",
            " * Debug mode: off\n"
          ]
        },
        {
          "output_type": "stream",
          "name": "stderr",
          "text": [
            "INFO:werkzeug:\u001b[31m\u001b[1mWARNING: This is a development server. Do not use it in a production deployment. Use a production WSGI server instead.\u001b[0m\n",
            " * Running on http://127.0.0.1:5001\n",
            "INFO:werkzeug:\u001b[33mPress CTRL+C to quit\u001b[0m\n",
            "INFO:werkzeug:127.0.0.1 - - [13/Sep/2025 18:18:18] \"GET / HTTP/1.1\" 200 -\n",
            "INFO:werkzeug:127.0.0.1 - - [13/Sep/2025 18:18:18] \"\u001b[33mGET /favicon.ico HTTP/1.1\u001b[0m\" 404 -\n"
          ]
        }
      ]
    },
    {
      "cell_type": "code",
      "source": [
        "from google.colab import files\n",
        "from IPython.display import Image"
      ],
      "metadata": {
        "id": "V0MBps1RUI5F"
      },
      "execution_count": 2,
      "outputs": []
    },
    {
      "cell_type": "code",
      "source": [
        "uploaded = files.upload()"
      ],
      "metadata": {
        "colab": {
          "base_uri": "https://localhost:8080/",
          "height": 73
        },
        "id": "P7w5XbWKUaCW",
        "outputId": "d7e81459-b96c-4724-ad77-c9a2e098ff75"
      },
      "execution_count": 3,
      "outputs": [
        {
          "output_type": "display_data",
          "data": {
            "text/plain": [
              "<IPython.core.display.HTML object>"
            ],
            "text/html": [
              "\n",
              "     <input type=\"file\" id=\"files-92329729-2f06-42c6-b966-9cce2d064ce1\" name=\"files[]\" multiple disabled\n",
              "        style=\"border:none\" />\n",
              "     <output id=\"result-92329729-2f06-42c6-b966-9cce2d064ce1\">\n",
              "      Upload widget is only available when the cell has been executed in the\n",
              "      current browser session. Please rerun this cell to enable.\n",
              "      </output>\n",
              "      <script>// Copyright 2017 Google LLC\n",
              "//\n",
              "// Licensed under the Apache License, Version 2.0 (the \"License\");\n",
              "// you may not use this file except in compliance with the License.\n",
              "// You may obtain a copy of the License at\n",
              "//\n",
              "//      http://www.apache.org/licenses/LICENSE-2.0\n",
              "//\n",
              "// Unless required by applicable law or agreed to in writing, software\n",
              "// distributed under the License is distributed on an \"AS IS\" BASIS,\n",
              "// WITHOUT WARRANTIES OR CONDITIONS OF ANY KIND, either express or implied.\n",
              "// See the License for the specific language governing permissions and\n",
              "// limitations under the License.\n",
              "\n",
              "/**\n",
              " * @fileoverview Helpers for google.colab Python module.\n",
              " */\n",
              "(function(scope) {\n",
              "function span(text, styleAttributes = {}) {\n",
              "  const element = document.createElement('span');\n",
              "  element.textContent = text;\n",
              "  for (const key of Object.keys(styleAttributes)) {\n",
              "    element.style[key] = styleAttributes[key];\n",
              "  }\n",
              "  return element;\n",
              "}\n",
              "\n",
              "// Max number of bytes which will be uploaded at a time.\n",
              "const MAX_PAYLOAD_SIZE = 100 * 1024;\n",
              "\n",
              "function _uploadFiles(inputId, outputId) {\n",
              "  const steps = uploadFilesStep(inputId, outputId);\n",
              "  const outputElement = document.getElementById(outputId);\n",
              "  // Cache steps on the outputElement to make it available for the next call\n",
              "  // to uploadFilesContinue from Python.\n",
              "  outputElement.steps = steps;\n",
              "\n",
              "  return _uploadFilesContinue(outputId);\n",
              "}\n",
              "\n",
              "// This is roughly an async generator (not supported in the browser yet),\n",
              "// where there are multiple asynchronous steps and the Python side is going\n",
              "// to poll for completion of each step.\n",
              "// This uses a Promise to block the python side on completion of each step,\n",
              "// then passes the result of the previous step as the input to the next step.\n",
              "function _uploadFilesContinue(outputId) {\n",
              "  const outputElement = document.getElementById(outputId);\n",
              "  const steps = outputElement.steps;\n",
              "\n",
              "  const next = steps.next(outputElement.lastPromiseValue);\n",
              "  return Promise.resolve(next.value.promise).then((value) => {\n",
              "    // Cache the last promise value to make it available to the next\n",
              "    // step of the generator.\n",
              "    outputElement.lastPromiseValue = value;\n",
              "    return next.value.response;\n",
              "  });\n",
              "}\n",
              "\n",
              "/**\n",
              " * Generator function which is called between each async step of the upload\n",
              " * process.\n",
              " * @param {string} inputId Element ID of the input file picker element.\n",
              " * @param {string} outputId Element ID of the output display.\n",
              " * @return {!Iterable<!Object>} Iterable of next steps.\n",
              " */\n",
              "function* uploadFilesStep(inputId, outputId) {\n",
              "  const inputElement = document.getElementById(inputId);\n",
              "  inputElement.disabled = false;\n",
              "\n",
              "  const outputElement = document.getElementById(outputId);\n",
              "  outputElement.innerHTML = '';\n",
              "\n",
              "  const pickedPromise = new Promise((resolve) => {\n",
              "    inputElement.addEventListener('change', (e) => {\n",
              "      resolve(e.target.files);\n",
              "    });\n",
              "  });\n",
              "\n",
              "  const cancel = document.createElement('button');\n",
              "  inputElement.parentElement.appendChild(cancel);\n",
              "  cancel.textContent = 'Cancel upload';\n",
              "  const cancelPromise = new Promise((resolve) => {\n",
              "    cancel.onclick = () => {\n",
              "      resolve(null);\n",
              "    };\n",
              "  });\n",
              "\n",
              "  // Wait for the user to pick the files.\n",
              "  const files = yield {\n",
              "    promise: Promise.race([pickedPromise, cancelPromise]),\n",
              "    response: {\n",
              "      action: 'starting',\n",
              "    }\n",
              "  };\n",
              "\n",
              "  cancel.remove();\n",
              "\n",
              "  // Disable the input element since further picks are not allowed.\n",
              "  inputElement.disabled = true;\n",
              "\n",
              "  if (!files) {\n",
              "    return {\n",
              "      response: {\n",
              "        action: 'complete',\n",
              "      }\n",
              "    };\n",
              "  }\n",
              "\n",
              "  for (const file of files) {\n",
              "    const li = document.createElement('li');\n",
              "    li.append(span(file.name, {fontWeight: 'bold'}));\n",
              "    li.append(span(\n",
              "        `(${file.type || 'n/a'}) - ${file.size} bytes, ` +\n",
              "        `last modified: ${\n",
              "            file.lastModifiedDate ? file.lastModifiedDate.toLocaleDateString() :\n",
              "                                    'n/a'} - `));\n",
              "    const percent = span('0% done');\n",
              "    li.appendChild(percent);\n",
              "\n",
              "    outputElement.appendChild(li);\n",
              "\n",
              "    const fileDataPromise = new Promise((resolve) => {\n",
              "      const reader = new FileReader();\n",
              "      reader.onload = (e) => {\n",
              "        resolve(e.target.result);\n",
              "      };\n",
              "      reader.readAsArrayBuffer(file);\n",
              "    });\n",
              "    // Wait for the data to be ready.\n",
              "    let fileData = yield {\n",
              "      promise: fileDataPromise,\n",
              "      response: {\n",
              "        action: 'continue',\n",
              "      }\n",
              "    };\n",
              "\n",
              "    // Use a chunked sending to avoid message size limits. See b/62115660.\n",
              "    let position = 0;\n",
              "    do {\n",
              "      const length = Math.min(fileData.byteLength - position, MAX_PAYLOAD_SIZE);\n",
              "      const chunk = new Uint8Array(fileData, position, length);\n",
              "      position += length;\n",
              "\n",
              "      const base64 = btoa(String.fromCharCode.apply(null, chunk));\n",
              "      yield {\n",
              "        response: {\n",
              "          action: 'append',\n",
              "          file: file.name,\n",
              "          data: base64,\n",
              "        },\n",
              "      };\n",
              "\n",
              "      let percentDone = fileData.byteLength === 0 ?\n",
              "          100 :\n",
              "          Math.round((position / fileData.byteLength) * 100);\n",
              "      percent.textContent = `${percentDone}% done`;\n",
              "\n",
              "    } while (position < fileData.byteLength);\n",
              "  }\n",
              "\n",
              "  // All done.\n",
              "  yield {\n",
              "    response: {\n",
              "      action: 'complete',\n",
              "    }\n",
              "  };\n",
              "}\n",
              "\n",
              "scope.google = scope.google || {};\n",
              "scope.google.colab = scope.google.colab || {};\n",
              "scope.google.colab._files = {\n",
              "  _uploadFiles,\n",
              "  _uploadFilesContinue,\n",
              "};\n",
              "})(self);\n",
              "</script> "
            ]
          },
          "metadata": {}
        },
        {
          "output_type": "stream",
          "name": "stdout",
          "text": [
            "Saving validate form data in Flask.png to validate form data in Flask.png\n"
          ]
        }
      ]
    },
    {
      "cell_type": "code",
      "source": [
        "Image('validate form data in Flask.png')"
      ],
      "metadata": {
        "colab": {
          "base_uri": "https://localhost:8080/",
          "height": 757
        },
        "id": "6bdku5BRUu02",
        "outputId": "b3627e8d-43a4-475f-e23a-eb41eac922f5"
      },
      "execution_count": 5,
      "outputs": [
        {
          "output_type": "execute_result",
          "data": {
            "image/png": "[encoded data removed]",
            "text/plain": [
              "<IPython.core.display.Image object>"
            ]
          },
          "metadata": {},
          "execution_count": 5
        }
      ]
    },
    {
      "cell_type": "markdown",
      "source": [
        "#8. How do you manage sessions in Flask?\n",
        "\n",
        ">A session in Flask is like a special bag for each user.\n",
        "\n",
        ">It can store data about the user while they browse your site.\n",
        "\n",
        ">The data is kept on the server (or sometimes signed and stored in the browser).\n",
        "\n",
        ">>Example: Remembering who is logged in or user preferences.\n",
        "\n",
        "###Flask provides a dictionary called session to store this data."
      ],
      "metadata": {
        "id": "msVC5xSqWW0I"
      }
    },
    {
      "cell_type": "code",
      "source": [
        "!pip install flask pyngrok\n",
        "\n"
      ],
      "metadata": {
        "colab": {
          "base_uri": "https://localhost:8080/"
        },
        "id": "s_u7-bXyW0BF",
        "outputId": "dd421803-6b87-481e-f187-5990a52f2b37"
      },
      "execution_count": 14,
      "outputs": [
        {
          "output_type": "stream",
          "name": "stdout",
          "text": [
            "Requirement already satisfied: flask in /usr/local/lib/python3.12/dist-packages (3.1.2)\n",
            "Requirement already satisfied: pyngrok in /usr/local/lib/python3.12/dist-packages (7.3.0)\n",
            "Requirement already satisfied: blinker>=1.9.0 in /usr/local/lib/python3.12/dist-packages (from flask) (1.9.0)\n",
            "Requirement already satisfied: click>=8.1.3 in /usr/local/lib/python3.12/dist-packages (from flask) (8.2.1)\n",
            "Requirement already satisfied: itsdangerous>=2.2.0 in /usr/local/lib/python3.12/dist-packages (from flask) (2.2.0)\n",
            "Requirement already satisfied: jinja2>=3.1.2 in /usr/local/lib/python3.12/dist-packages (from flask) (3.1.6)\n",
            "Requirement already satisfied: markupsafe>=2.1.1 in /usr/local/lib/python3.12/dist-packages (from flask) (3.0.2)\n",
            "Requirement already satisfied: werkzeug>=3.1.0 in /usr/local/lib/python3.12/dist-packages (from flask) (3.1.3)\n",
            "Requirement already satisfied: PyYAML>=5.1 in /usr/local/lib/python3.12/dist-packages (from pyngrok) (6.0.2)\n"
          ]
        }
      ]
    },
    {
      "cell_type": "code",
      "source": [
        "from flask import Flask, session, redirect, url_for, request, render_template_string\n",
        "from pyngrok import ngrok\n",
        "\n",
        "app = Flask(__name__)\n",
        "app.secret_key = \"mysecret123\"  # Needed for sessions\n",
        "\n",
        "# Start ngrok tunnel on port 5001\n",
        "public_url = ngrok.connect(5001)\n",
        "print(\"Click this link to open the app:\", public_url)\n"
      ],
      "metadata": {
        "colab": {
          "base_uri": "https://localhost:8080/"
        },
        "id": "xsO6bd6fW3M7",
        "outputId": "a6ba18b4-c17e-4b3d-9295-e51f57873902"
      },
      "execution_count": 15,
      "outputs": [
        {
          "output_type": "stream",
          "name": "stdout",
          "text": [
            "Click this link to open the app: NgrokTunnel: \"https://a16a0aeffaf0.ngrok-free.app\" -> \"http://localhost:5001\"\n"
          ]
        }
      ]
    },
    {
      "cell_type": "code",
      "source": [
        "# Simple HTML templates\n",
        "login_form = \"\"\"\n",
        "<h2>Login Page</h2>\n",
        "<form method=\"POST\">\n",
        "  Username: <input type=\"text\" name=\"username\"><br><br>\n",
        "  <input type=\"submit\" value=\"Login\">\n",
        "</form>\n",
        "<p>{{ message }}</p>\n",
        "\"\"\"\n",
        "\n",
        "profile_page = \"\"\"\n",
        "<h2>Profile Page</h2>\n",
        "<p>Hello {{ username }}, welcome to your profile!</p>\n",
        "<a href=\"/logout\">Logout</a>\n",
        "\"\"\"\n",
        "\n",
        "@app.route(\"/\", methods=[\"GET\", \"POST\"])\n",
        "def login():\n",
        "    message = \"\"\n",
        "    if request.method == \"POST\":\n",
        "        username = request.form.get(\"username\")\n",
        "        if username:\n",
        "            session[\"username\"] = username  # store in session\n",
        "            return redirect(url_for(\"profile\"))\n",
        "        else:\n",
        "            message = \"⚠️ Please enter a username!\"\n",
        "    return render_template_string(login_form, message=message)\n",
        "\n",
        "@app.route(\"/profile\")\n",
        "def profile():\n",
        "    if \"username\" in session:\n",
        "        return render_template_string(profile_page, username=session[\"username\"])\n",
        "    else:\n",
        "        return redirect(url_for(\"login\"))\n",
        "\n",
        "@app.route(\"/logout\")\n",
        "def logout():\n",
        "    session.pop(\"username\", None)  # remove from session\n",
        "    return redirect(url_for(\"login\"))\n",
        "\n",
        "# Run Flask app on port 5001\n",
        "app.run(port=5001)\n"
      ],
      "metadata": {
        "colab": {
          "base_uri": "https://localhost:8080/"
        },
        "id": "b7IRO7wnXS0P",
        "outputId": "605a2830-8dac-444f-b99f-425e675ed30a"
      },
      "execution_count": 16,
      "outputs": [
        {
          "output_type": "stream",
          "name": "stdout",
          "text": [
            " * Serving Flask app '__main__'\n",
            " * Debug mode: off\n"
          ]
        },
        {
          "output_type": "stream",
          "name": "stderr",
          "text": [
            "INFO:werkzeug:\u001b[31m\u001b[1mWARNING: This is a development server. Do not use it in a production deployment. Use a production WSGI server instead.\u001b[0m\n",
            " * Running on http://127.0.0.1:5001\n",
            "INFO:werkzeug:\u001b[33mPress CTRL+C to quit\u001b[0m\n",
            "INFO:werkzeug:127.0.0.1 - - [13/Sep/2025 18:37:34] \"GET / HTTP/1.1\" 200 -\n",
            "INFO:werkzeug:127.0.0.1 - - [13/Sep/2025 18:37:35] \"\u001b[33mGET /favicon.ico HTTP/1.1\u001b[0m\" 404 -\n",
            "INFO:werkzeug:127.0.0.1 - - [13/Sep/2025 18:37:57] \"\u001b[32mPOST / HTTP/1.1\u001b[0m\" 302 -\n",
            "INFO:werkzeug:127.0.0.1 - - [13/Sep/2025 18:37:58] \"GET /profile HTTP/1.1\" 200 -\n",
            "INFO:werkzeug:127.0.0.1 - - [13/Sep/2025 18:41:07] \"\u001b[32mPOST / HTTP/1.1\u001b[0m\" 302 -\n",
            "INFO:werkzeug:127.0.0.1 - - [13/Sep/2025 18:41:08] \"GET /profile HTTP/1.1\" 200 -\n",
            "INFO:werkzeug:127.0.0.1 - - [13/Sep/2025 18:42:23] \"\u001b[32mGET /logout HTTP/1.1\u001b[0m\" 302 -\n",
            "INFO:werkzeug:127.0.0.1 - - [13/Sep/2025 18:42:24] \"GET / HTTP/1.1\" 200 -\n"
          ]
        }
      ]
    },
    {
      "cell_type": "code",
      "source": [
        "from google.colab import files\n",
        "from IPython.display import Image"
      ],
      "metadata": {
        "id": "Ma0F8Kk0Yxhx"
      },
      "execution_count": 17,
      "outputs": []
    },
    {
      "cell_type": "code",
      "source": [
        "uploaded = files.upload()"
      ],
      "metadata": {
        "colab": {
          "base_uri": "https://localhost:8080/",
          "height": 73
        },
        "id": "lyd11dT0YzCj",
        "outputId": "72db86ff-bc9e-455b-85ce-44c408b4bea1"
      },
      "execution_count": 18,
      "outputs": [
        {
          "output_type": "display_data",
          "data": {
            "text/plain": [
              "<IPython.core.display.HTML object>"
            ],
            "text/html": [
              "\n",
              "     <input type=\"file\" id=\"files-56c8fe9f-ee7e-4823-acd2-826ffc88d3df\" name=\"files[]\" multiple disabled\n",
              "        style=\"border:none\" />\n",
              "     <output id=\"result-56c8fe9f-ee7e-4823-acd2-826ffc88d3df\">\n",
              "      Upload widget is only available when the cell has been executed in the\n",
              "      current browser session. Please rerun this cell to enable.\n",
              "      </output>\n",
              "      <script>// Copyright 2017 Google LLC\n",
              "//\n",
              "// Licensed under the Apache License, Version 2.0 (the \"License\");\n",
              "// you may not use this file except in compliance with the License.\n",
              "// You may obtain a copy of the License at\n",
              "//\n",
              "//      http://www.apache.org/licenses/LICENSE-2.0\n",
              "//\n",
              "// Unless required by applicable law or agreed to in writing, software\n",
              "// distributed under the License is distributed on an \"AS IS\" BASIS,\n",
              "// WITHOUT WARRANTIES OR CONDITIONS OF ANY KIND, either express or implied.\n",
              "// See the License for the specific language governing permissions and\n",
              "// limitations under the License.\n",
              "\n",
              "/**\n",
              " * @fileoverview Helpers for google.colab Python module.\n",
              " */\n",
              "(function(scope) {\n",
              "function span(text, styleAttributes = {}) {\n",
              "  const element = document.createElement('span');\n",
              "  element.textContent = text;\n",
              "  for (const key of Object.keys(styleAttributes)) {\n",
              "    element.style[key] = styleAttributes[key];\n",
              "  }\n",
              "  return element;\n",
              "}\n",
              "\n",
              "// Max number of bytes which will be uploaded at a time.\n",
              "const MAX_PAYLOAD_SIZE = 100 * 1024;\n",
              "\n",
              "function _uploadFiles(inputId, outputId) {\n",
              "  const steps = uploadFilesStep(inputId, outputId);\n",
              "  const outputElement = document.getElementById(outputId);\n",
              "  // Cache steps on the outputElement to make it available for the next call\n",
              "  // to uploadFilesContinue from Python.\n",
              "  outputElement.steps = steps;\n",
              "\n",
              "  return _uploadFilesContinue(outputId);\n",
              "}\n",
              "\n",
              "// This is roughly an async generator (not supported in the browser yet),\n",
              "// where there are multiple asynchronous steps and the Python side is going\n",
              "// to poll for completion of each step.\n",
              "// This uses a Promise to block the python side on completion of each step,\n",
              "// then passes the result of the previous step as the input to the next step.\n",
              "function _uploadFilesContinue(outputId) {\n",
              "  const outputElement = document.getElementById(outputId);\n",
              "  const steps = outputElement.steps;\n",
              "\n",
              "  const next = steps.next(outputElement.lastPromiseValue);\n",
              "  return Promise.resolve(next.value.promise).then((value) => {\n",
              "    // Cache the last promise value to make it available to the next\n",
              "    // step of the generator.\n",
              "    outputElement.lastPromiseValue = value;\n",
              "    return next.value.response;\n",
              "  });\n",
              "}\n",
              "\n",
              "/**\n",
              " * Generator function which is called between each async step of the upload\n",
              " * process.\n",
              " * @param {string} inputId Element ID of the input file picker element.\n",
              " * @param {string} outputId Element ID of the output display.\n",
              " * @return {!Iterable<!Object>} Iterable of next steps.\n",
              " */\n",
              "function* uploadFilesStep(inputId, outputId) {\n",
              "  const inputElement = document.getElementById(inputId);\n",
              "  inputElement.disabled = false;\n",
              "\n",
              "  const outputElement = document.getElementById(outputId);\n",
              "  outputElement.innerHTML = '';\n",
              "\n",
              "  const pickedPromise = new Promise((resolve) => {\n",
              "    inputElement.addEventListener('change', (e) => {\n",
              "      resolve(e.target.files);\n",
              "    });\n",
              "  });\n",
              "\n",
              "  const cancel = document.createElement('button');\n",
              "  inputElement.parentElement.appendChild(cancel);\n",
              "  cancel.textContent = 'Cancel upload';\n",
              "  const cancelPromise = new Promise((resolve) => {\n",
              "    cancel.onclick = () => {\n",
              "      resolve(null);\n",
              "    };\n",
              "  });\n",
              "\n",
              "  // Wait for the user to pick the files.\n",
              "  const files = yield {\n",
              "    promise: Promise.race([pickedPromise, cancelPromise]),\n",
              "    response: {\n",
              "      action: 'starting',\n",
              "    }\n",
              "  };\n",
              "\n",
              "  cancel.remove();\n",
              "\n",
              "  // Disable the input element since further picks are not allowed.\n",
              "  inputElement.disabled = true;\n",
              "\n",
              "  if (!files) {\n",
              "    return {\n",
              "      response: {\n",
              "        action: 'complete',\n",
              "      }\n",
              "    };\n",
              "  }\n",
              "\n",
              "  for (const file of files) {\n",
              "    const li = document.createElement('li');\n",
              "    li.append(span(file.name, {fontWeight: 'bold'}));\n",
              "    li.append(span(\n",
              "        `(${file.type || 'n/a'}) - ${file.size} bytes, ` +\n",
              "        `last modified: ${\n",
              "            file.lastModifiedDate ? file.lastModifiedDate.toLocaleDateString() :\n",
              "                                    'n/a'} - `));\n",
              "    const percent = span('0% done');\n",
              "    li.appendChild(percent);\n",
              "\n",
              "    outputElement.appendChild(li);\n",
              "\n",
              "    const fileDataPromise = new Promise((resolve) => {\n",
              "      const reader = new FileReader();\n",
              "      reader.onload = (e) => {\n",
              "        resolve(e.target.result);\n",
              "      };\n",
              "      reader.readAsArrayBuffer(file);\n",
              "    });\n",
              "    // Wait for the data to be ready.\n",
              "    let fileData = yield {\n",
              "      promise: fileDataPromise,\n",
              "      response: {\n",
              "        action: 'continue',\n",
              "      }\n",
              "    };\n",
              "\n",
              "    // Use a chunked sending to avoid message size limits. See b/62115660.\n",
              "    let position = 0;\n",
              "    do {\n",
              "      const length = Math.min(fileData.byteLength - position, MAX_PAYLOAD_SIZE);\n",
              "      const chunk = new Uint8Array(fileData, position, length);\n",
              "      position += length;\n",
              "\n",
              "      const base64 = btoa(String.fromCharCode.apply(null, chunk));\n",
              "      yield {\n",
              "        response: {\n",
              "          action: 'append',\n",
              "          file: file.name,\n",
              "          data: base64,\n",
              "        },\n",
              "      };\n",
              "\n",
              "      let percentDone = fileData.byteLength === 0 ?\n",
              "          100 :\n",
              "          Math.round((position / fileData.byteLength) * 100);\n",
              "      percent.textContent = `${percentDone}% done`;\n",
              "\n",
              "    } while (position < fileData.byteLength);\n",
              "  }\n",
              "\n",
              "  // All done.\n",
              "  yield {\n",
              "    response: {\n",
              "      action: 'complete',\n",
              "    }\n",
              "  };\n",
              "}\n",
              "\n",
              "scope.google = scope.google || {};\n",
              "scope.google.colab = scope.google.colab || {};\n",
              "scope.google.colab._files = {\n",
              "  _uploadFiles,\n",
              "  _uploadFilesContinue,\n",
              "};\n",
              "})(self);\n",
              "</script> "
            ]
          },
          "metadata": {}
        },
        {
          "output_type": "stream",
          "name": "stdout",
          "text": [
            "Saving User Login interface.png to User Login interface.png\n"
          ]
        }
      ]
    },
    {
      "cell_type": "code",
      "source": [
        "Image('User Login interface.png')"
      ],
      "metadata": {
        "colab": {
          "base_uri": "https://localhost:8080/",
          "height": 757
        },
        "id": "f2jTJKaeY6Ou",
        "outputId": "01641b6c-0b43-4198-b276-8ecafc5fd050"
      },
      "execution_count": 20,
      "outputs": [
        {
          "output_type": "execute_result",
          "data": {
            "image/png": "[encoded data removed]",
            "text/plain": [
              "<IPython.core.display.Image object>"
            ]
          },
          "metadata": {},
          "execution_count": 20
        }
      ]
    },
    {
      "cell_type": "code",
      "source": [
        "uploaded = files.upload()"
      ],
      "metadata": {
        "colab": {
          "base_uri": "https://localhost:8080/",
          "height": 73
        },
        "id": "AjuwIvlDZD-Y",
        "outputId": "a6da4558-97f8-4d65-a6f0-ba4a93db31b5"
      },
      "execution_count": 21,
      "outputs": [
        {
          "output_type": "display_data",
          "data": {
            "text/plain": [
              "<IPython.core.display.HTML object>"
            ],
            "text/html": [
              "\n",
              "     <input type=\"file\" id=\"files-aa55a30f-fc9f-41e3-8e60-a412a280ea2b\" name=\"files[]\" multiple disabled\n",
              "        style=\"border:none\" />\n",
              "     <output id=\"result-aa55a30f-fc9f-41e3-8e60-a412a280ea2b\">\n",
              "      Upload widget is only available when the cell has been executed in the\n",
              "      current browser session. Please rerun this cell to enable.\n",
              "      </output>\n",
              "      <script>// Copyright 2017 Google LLC\n",
              "//\n",
              "// Licensed under the Apache License, Version 2.0 (the \"License\");\n",
              "// you may not use this file except in compliance with the License.\n",
              "// You may obtain a copy of the License at\n",
              "//\n",
              "//      http://www.apache.org/licenses/LICENSE-2.0\n",
              "//\n",
              "// Unless required by applicable law or agreed to in writing, software\n",
              "// distributed under the License is distributed on an \"AS IS\" BASIS,\n",
              "// WITHOUT WARRANTIES OR CONDITIONS OF ANY KIND, either express or implied.\n",
              "// See the License for the specific language governing permissions and\n",
              "// limitations under the License.\n",
              "\n",
              "/**\n",
              " * @fileoverview Helpers for google.colab Python module.\n",
              " */\n",
              "(function(scope) {\n",
              "function span(text, styleAttributes = {}) {\n",
              "  const element = document.createElement('span');\n",
              "  element.textContent = text;\n",
              "  for (const key of Object.keys(styleAttributes)) {\n",
              "    element.style[key] = styleAttributes[key];\n",
              "  }\n",
              "  return element;\n",
              "}\n",
              "\n",
              "// Max number of bytes which will be uploaded at a time.\n",
              "const MAX_PAYLOAD_SIZE = 100 * 1024;\n",
              "\n",
              "function _uploadFiles(inputId, outputId) {\n",
              "  const steps = uploadFilesStep(inputId, outputId);\n",
              "  const outputElement = document.getElementById(outputId);\n",
              "  // Cache steps on the outputElement to make it available for the next call\n",
              "  // to uploadFilesContinue from Python.\n",
              "  outputElement.steps = steps;\n",
              "\n",
              "  return _uploadFilesContinue(outputId);\n",
              "}\n",
              "\n",
              "// This is roughly an async generator (not supported in the browser yet),\n",
              "// where there are multiple asynchronous steps and the Python side is going\n",
              "// to poll for completion of each step.\n",
              "// This uses a Promise to block the python side on completion of each step,\n",
              "// then passes the result of the previous step as the input to the next step.\n",
              "function _uploadFilesContinue(outputId) {\n",
              "  const outputElement = document.getElementById(outputId);\n",
              "  const steps = outputElement.steps;\n",
              "\n",
              "  const next = steps.next(outputElement.lastPromiseValue);\n",
              "  return Promise.resolve(next.value.promise).then((value) => {\n",
              "    // Cache the last promise value to make it available to the next\n",
              "    // step of the generator.\n",
              "    outputElement.lastPromiseValue = value;\n",
              "    return next.value.response;\n",
              "  });\n",
              "}\n",
              "\n",
              "/**\n",
              " * Generator function which is called between each async step of the upload\n",
              " * process.\n",
              " * @param {string} inputId Element ID of the input file picker element.\n",
              " * @param {string} outputId Element ID of the output display.\n",
              " * @return {!Iterable<!Object>} Iterable of next steps.\n",
              " */\n",
              "function* uploadFilesStep(inputId, outputId) {\n",
              "  const inputElement = document.getElementById(inputId);\n",
              "  inputElement.disabled = false;\n",
              "\n",
              "  const outputElement = document.getElementById(outputId);\n",
              "  outputElement.innerHTML = '';\n",
              "\n",
              "  const pickedPromise = new Promise((resolve) => {\n",
              "    inputElement.addEventListener('change', (e) => {\n",
              "      resolve(e.target.files);\n",
              "    });\n",
              "  });\n",
              "\n",
              "  const cancel = document.createElement('button');\n",
              "  inputElement.parentElement.appendChild(cancel);\n",
              "  cancel.textContent = 'Cancel upload';\n",
              "  const cancelPromise = new Promise((resolve) => {\n",
              "    cancel.onclick = () => {\n",
              "      resolve(null);\n",
              "    };\n",
              "  });\n",
              "\n",
              "  // Wait for the user to pick the files.\n",
              "  const files = yield {\n",
              "    promise: Promise.race([pickedPromise, cancelPromise]),\n",
              "    response: {\n",
              "      action: 'starting',\n",
              "    }\n",
              "  };\n",
              "\n",
              "  cancel.remove();\n",
              "\n",
              "  // Disable the input element since further picks are not allowed.\n",
              "  inputElement.disabled = true;\n",
              "\n",
              "  if (!files) {\n",
              "    return {\n",
              "      response: {\n",
              "        action: 'complete',\n",
              "      }\n",
              "    };\n",
              "  }\n",
              "\n",
              "  for (const file of files) {\n",
              "    const li = document.createElement('li');\n",
              "    li.append(span(file.name, {fontWeight: 'bold'}));\n",
              "    li.append(span(\n",
              "        `(${file.type || 'n/a'}) - ${file.size} bytes, ` +\n",
              "        `last modified: ${\n",
              "            file.lastModifiedDate ? file.lastModifiedDate.toLocaleDateString() :\n",
              "                                    'n/a'} - `));\n",
              "    const percent = span('0% done');\n",
              "    li.appendChild(percent);\n",
              "\n",
              "    outputElement.appendChild(li);\n",
              "\n",
              "    const fileDataPromise = new Promise((resolve) => {\n",
              "      const reader = new FileReader();\n",
              "      reader.onload = (e) => {\n",
              "        resolve(e.target.result);\n",
              "      };\n",
              "      reader.readAsArrayBuffer(file);\n",
              "    });\n",
              "    // Wait for the data to be ready.\n",
              "    let fileData = yield {\n",
              "      promise: fileDataPromise,\n",
              "      response: {\n",
              "        action: 'continue',\n",
              "      }\n",
              "    };\n",
              "\n",
              "    // Use a chunked sending to avoid message size limits. See b/62115660.\n",
              "    let position = 0;\n",
              "    do {\n",
              "      const length = Math.min(fileData.byteLength - position, MAX_PAYLOAD_SIZE);\n",
              "      const chunk = new Uint8Array(fileData, position, length);\n",
              "      position += length;\n",
              "\n",
              "      const base64 = btoa(String.fromCharCode.apply(null, chunk));\n",
              "      yield {\n",
              "        response: {\n",
              "          action: 'append',\n",
              "          file: file.name,\n",
              "          data: base64,\n",
              "        },\n",
              "      };\n",
              "\n",
              "      let percentDone = fileData.byteLength === 0 ?\n",
              "          100 :\n",
              "          Math.round((position / fileData.byteLength) * 100);\n",
              "      percent.textContent = `${percentDone}% done`;\n",
              "\n",
              "    } while (position < fileData.byteLength);\n",
              "  }\n",
              "\n",
              "  // All done.\n",
              "  yield {\n",
              "    response: {\n",
              "      action: 'complete',\n",
              "    }\n",
              "  };\n",
              "}\n",
              "\n",
              "scope.google = scope.google || {};\n",
              "scope.google.colab = scope.google.colab || {};\n",
              "scope.google.colab._files = {\n",
              "  _uploadFiles,\n",
              "  _uploadFilesContinue,\n",
              "};\n",
              "})(self);\n",
              "</script> "
            ]
          },
          "metadata": {}
        },
        {
          "output_type": "stream",
          "name": "stdout",
          "text": [
            "Saving User logged in page.png to User logged in page.png\n"
          ]
        }
      ]
    },
    {
      "cell_type": "code",
      "source": [
        "Image('User logged in page.png')"
      ],
      "metadata": {
        "colab": {
          "base_uri": "https://localhost:8080/",
          "height": 696
        },
        "id": "d6Q98XfEZKcX",
        "outputId": "0d07696f-8e0b-4270-89ee-741361f4f5b1"
      },
      "execution_count": 22,
      "outputs": [
        {
          "output_type": "execute_result",
          "data": {
            "image/png": "[encoded data removed]",
            "text/plain": [
              "<IPython.core.display.Image object>"
            ]
          },
          "metadata": {},
          "execution_count": 22
        }
      ]
    },
    {
      "cell_type": "markdown",
      "source": [
        "#9. How do you redirect to a different route in Flask?\n",
        "\n",
        "\n",
        ">A redirect in Flask is when the app automatically sends the user from one page to another.\n",
        "\n",
        ">>Example: After login, the user goes to their profile page.\n",
        "\n",
        ">We use the Flask function redirect() together with url_for()."
      ],
      "metadata": {
        "id": "YaYloYGOZdzU"
      }
    },
    {
      "cell_type": "code",
      "source": [
        "from flask import Flask, redirect, url_for, render_template_string\n",
        "from pyngrok import ngrok\n",
        "\n",
        "app = Flask(__name__)\n",
        "\n",
        "# Start ngrok tunnel on port 5002\n",
        "public_url = ngrok.connect(5002)\n",
        "print(\"Click this link to open the app:\", public_url)\n"
      ],
      "metadata": {
        "colab": {
          "base_uri": "https://localhost:8080/"
        },
        "id": "mjBG3eCAZyeB",
        "outputId": "e5e31412-e4be-48e4-eb84-b39e50e26b75"
      },
      "execution_count": 23,
      "outputs": [
        {
          "output_type": "stream",
          "name": "stdout",
          "text": [
            "Click this link to open the app: NgrokTunnel: \"https://85256e058e1f.ngrok-free.app\" -> \"http://localhost:5002\"\n"
          ]
        }
      ]
    },
    {
      "cell_type": "code",
      "source": [
        "# Home page\n",
        "@app.route(\"/\")\n",
        "def home():\n",
        "    return \"\"\"\n",
        "    <h2>Home Page</h2>\n",
        "    <p>Welcome! <a href='/login'>Go to Login</a></p>\n",
        "    \"\"\"\n",
        "\n",
        "# Login page\n",
        "@app.route(\"/login\")\n",
        "def login():\n",
        "    # After login, redirect to profile page\n",
        "    return redirect(url_for(\"profile\"))\n",
        "\n",
        "# Profile page\n",
        "@app.route(\"/profile\")\n",
        "def profile():\n",
        "    return \"\"\"\n",
        "    <h2>Profile Page</h2>\n",
        "    <p>Hello! You are now on your profile page.</p>\n",
        "    <a href='/'>Back to Home</a>\n",
        "    \"\"\"\n",
        "\n",
        "# Run Flask app on port 5002\n",
        "app.run(port=5002)\n"
      ],
      "metadata": {
        "colab": {
          "base_uri": "https://localhost:8080/"
        },
        "id": "R3ceJA3jZ32r",
        "outputId": "bc5afd24-7d42-4661-935f-4c6767143f01"
      },
      "execution_count": 24,
      "outputs": [
        {
          "output_type": "stream",
          "name": "stdout",
          "text": [
            " * Serving Flask app '__main__'\n",
            " * Debug mode: off\n"
          ]
        },
        {
          "output_type": "stream",
          "name": "stderr",
          "text": [
            "INFO:werkzeug:\u001b[31m\u001b[1mWARNING: This is a development server. Do not use it in a production deployment. Use a production WSGI server instead.\u001b[0m\n",
            " * Running on http://127.0.0.1:5002\n",
            "INFO:werkzeug:\u001b[33mPress CTRL+C to quit\u001b[0m\n",
            "INFO:werkzeug:127.0.0.1 - - [13/Sep/2025 18:47:47] \"GET / HTTP/1.1\" 200 -\n",
            "INFO:werkzeug:127.0.0.1 - - [13/Sep/2025 18:47:47] \"\u001b[33mGET /favicon.ico HTTP/1.1\u001b[0m\" 404 -\n",
            "INFO:werkzeug:127.0.0.1 - - [13/Sep/2025 18:47:49] \"\u001b[32mGET /login HTTP/1.1\u001b[0m\" 302 -\n",
            "INFO:werkzeug:127.0.0.1 - - [13/Sep/2025 18:47:50] \"GET /profile HTTP/1.1\" 200 -\n",
            "INFO:werkzeug:127.0.0.1 - - [13/Sep/2025 18:49:33] \"\u001b[32mGET /login HTTP/1.1\u001b[0m\" 302 -\n",
            "INFO:werkzeug:127.0.0.1 - - [13/Sep/2025 18:49:34] \"GET /profile HTTP/1.1\" 200 -\n",
            "INFO:werkzeug:127.0.0.1 - - [13/Sep/2025 18:49:38] \"GET / HTTP/1.1\" 200 -\n",
            "INFO:werkzeug:127.0.0.1 - - [13/Sep/2025 18:49:40] \"\u001b[32mGET /login HTTP/1.1\u001b[0m\" 302 -\n",
            "INFO:werkzeug:127.0.0.1 - - [13/Sep/2025 18:49:40] \"GET /profile HTTP/1.1\" 200 -\n",
            "WARNING:pyngrok.process.ngrok:t=2025-09-13T18:53:58+0000 lvl=warn msg=\"Stopping forwarder\" name=http-5002-46654913-0a0d-4a64-aa55-45425762a525 acceptErr=\"failed to accept connection: Listener closed\"\n",
            "WARNING:pyngrok.process.ngrok:t=2025-09-13T18:53:58+0000 lvl=warn msg=\"Error restarting forwarder\" name=http-5002-46654913-0a0d-4a64-aa55-45425762a525 err=\"failed to start tunnel: session closed\"\n"
          ]
        }
      ]
    },
    {
      "cell_type": "code",
      "source": [
        "uploaded = files.upload()"
      ],
      "metadata": {
        "colab": {
          "base_uri": "https://localhost:8080/",
          "height": 73
        },
        "id": "FHA-34GRbRSo",
        "outputId": "14418608-8dfd-4896-c9ae-94102cc9d781"
      },
      "execution_count": 26,
      "outputs": [
        {
          "output_type": "display_data",
          "data": {
            "text/plain": [
              "<IPython.core.display.HTML object>"
            ],
            "text/html": [
              "\n",
              "     <input type=\"file\" id=\"files-c197b5eb-c373-42f6-99ee-e834fafcdb07\" name=\"files[]\" multiple disabled\n",
              "        style=\"border:none\" />\n",
              "     <output id=\"result-c197b5eb-c373-42f6-99ee-e834fafcdb07\">\n",
              "      Upload widget is only available when the cell has been executed in the\n",
              "      current browser session. Please rerun this cell to enable.\n",
              "      </output>\n",
              "      <script>// Copyright 2017 Google LLC\n",
              "//\n",
              "// Licensed under the Apache License, Version 2.0 (the \"License\");\n",
              "// you may not use this file except in compliance with the License.\n",
              "// You may obtain a copy of the License at\n",
              "//\n",
              "//      http://www.apache.org/licenses/LICENSE-2.0\n",
              "//\n",
              "// Unless required by applicable law or agreed to in writing, software\n",
              "// distributed under the License is distributed on an \"AS IS\" BASIS,\n",
              "// WITHOUT WARRANTIES OR CONDITIONS OF ANY KIND, either express or implied.\n",
              "// See the License for the specific language governing permissions and\n",
              "// limitations under the License.\n",
              "\n",
              "/**\n",
              " * @fileoverview Helpers for google.colab Python module.\n",
              " */\n",
              "(function(scope) {\n",
              "function span(text, styleAttributes = {}) {\n",
              "  const element = document.createElement('span');\n",
              "  element.textContent = text;\n",
              "  for (const key of Object.keys(styleAttributes)) {\n",
              "    element.style[key] = styleAttributes[key];\n",
              "  }\n",
              "  return element;\n",
              "}\n",
              "\n",
              "// Max number of bytes which will be uploaded at a time.\n",
              "const MAX_PAYLOAD_SIZE = 100 * 1024;\n",
              "\n",
              "function _uploadFiles(inputId, outputId) {\n",
              "  const steps = uploadFilesStep(inputId, outputId);\n",
              "  const outputElement = document.getElementById(outputId);\n",
              "  // Cache steps on the outputElement to make it available for the next call\n",
              "  // to uploadFilesContinue from Python.\n",
              "  outputElement.steps = steps;\n",
              "\n",
              "  return _uploadFilesContinue(outputId);\n",
              "}\n",
              "\n",
              "// This is roughly an async generator (not supported in the browser yet),\n",
              "// where there are multiple asynchronous steps and the Python side is going\n",
              "// to poll for completion of each step.\n",
              "// This uses a Promise to block the python side on completion of each step,\n",
              "// then passes the result of the previous step as the input to the next step.\n",
              "function _uploadFilesContinue(outputId) {\n",
              "  const outputElement = document.getElementById(outputId);\n",
              "  const steps = outputElement.steps;\n",
              "\n",
              "  const next = steps.next(outputElement.lastPromiseValue);\n",
              "  return Promise.resolve(next.value.promise).then((value) => {\n",
              "    // Cache the last promise value to make it available to the next\n",
              "    // step of the generator.\n",
              "    outputElement.lastPromiseValue = value;\n",
              "    return next.value.response;\n",
              "  });\n",
              "}\n",
              "\n",
              "/**\n",
              " * Generator function which is called between each async step of the upload\n",
              " * process.\n",
              " * @param {string} inputId Element ID of the input file picker element.\n",
              " * @param {string} outputId Element ID of the output display.\n",
              " * @return {!Iterable<!Object>} Iterable of next steps.\n",
              " */\n",
              "function* uploadFilesStep(inputId, outputId) {\n",
              "  const inputElement = document.getElementById(inputId);\n",
              "  inputElement.disabled = false;\n",
              "\n",
              "  const outputElement = document.getElementById(outputId);\n",
              "  outputElement.innerHTML = '';\n",
              "\n",
              "  const pickedPromise = new Promise((resolve) => {\n",
              "    inputElement.addEventListener('change', (e) => {\n",
              "      resolve(e.target.files);\n",
              "    });\n",
              "  });\n",
              "\n",
              "  const cancel = document.createElement('button');\n",
              "  inputElement.parentElement.appendChild(cancel);\n",
              "  cancel.textContent = 'Cancel upload';\n",
              "  const cancelPromise = new Promise((resolve) => {\n",
              "    cancel.onclick = () => {\n",
              "      resolve(null);\n",
              "    };\n",
              "  });\n",
              "\n",
              "  // Wait for the user to pick the files.\n",
              "  const files = yield {\n",
              "    promise: Promise.race([pickedPromise, cancelPromise]),\n",
              "    response: {\n",
              "      action: 'starting',\n",
              "    }\n",
              "  };\n",
              "\n",
              "  cancel.remove();\n",
              "\n",
              "  // Disable the input element since further picks are not allowed.\n",
              "  inputElement.disabled = true;\n",
              "\n",
              "  if (!files) {\n",
              "    return {\n",
              "      response: {\n",
              "        action: 'complete',\n",
              "      }\n",
              "    };\n",
              "  }\n",
              "\n",
              "  for (const file of files) {\n",
              "    const li = document.createElement('li');\n",
              "    li.append(span(file.name, {fontWeight: 'bold'}));\n",
              "    li.append(span(\n",
              "        `(${file.type || 'n/a'}) - ${file.size} bytes, ` +\n",
              "        `last modified: ${\n",
              "            file.lastModifiedDate ? file.lastModifiedDate.toLocaleDateString() :\n",
              "                                    'n/a'} - `));\n",
              "    const percent = span('0% done');\n",
              "    li.appendChild(percent);\n",
              "\n",
              "    outputElement.appendChild(li);\n",
              "\n",
              "    const fileDataPromise = new Promise((resolve) => {\n",
              "      const reader = new FileReader();\n",
              "      reader.onload = (e) => {\n",
              "        resolve(e.target.result);\n",
              "      };\n",
              "      reader.readAsArrayBuffer(file);\n",
              "    });\n",
              "    // Wait for the data to be ready.\n",
              "    let fileData = yield {\n",
              "      promise: fileDataPromise,\n",
              "      response: {\n",
              "        action: 'continue',\n",
              "      }\n",
              "    };\n",
              "\n",
              "    // Use a chunked sending to avoid message size limits. See b/62115660.\n",
              "    let position = 0;\n",
              "    do {\n",
              "      const length = Math.min(fileData.byteLength - position, MAX_PAYLOAD_SIZE);\n",
              "      const chunk = new Uint8Array(fileData, position, length);\n",
              "      position += length;\n",
              "\n",
              "      const base64 = btoa(String.fromCharCode.apply(null, chunk));\n",
              "      yield {\n",
              "        response: {\n",
              "          action: 'append',\n",
              "          file: file.name,\n",
              "          data: base64,\n",
              "        },\n",
              "      };\n",
              "\n",
              "      let percentDone = fileData.byteLength === 0 ?\n",
              "          100 :\n",
              "          Math.round((position / fileData.byteLength) * 100);\n",
              "      percent.textContent = `${percentDone}% done`;\n",
              "\n",
              "    } while (position < fileData.byteLength);\n",
              "  }\n",
              "\n",
              "  // All done.\n",
              "  yield {\n",
              "    response: {\n",
              "      action: 'complete',\n",
              "    }\n",
              "  };\n",
              "}\n",
              "\n",
              "scope.google = scope.google || {};\n",
              "scope.google.colab = scope.google.colab || {};\n",
              "scope.google.colab._files = {\n",
              "  _uploadFiles,\n",
              "  _uploadFilesContinue,\n",
              "};\n",
              "})(self);\n",
              "</script> "
            ]
          },
          "metadata": {}
        },
        {
          "output_type": "stream",
          "name": "stdout",
          "text": [
            "Saving Redirect_page.png to Redirect_page.png\n"
          ]
        }
      ]
    },
    {
      "cell_type": "code",
      "source": [
        "Image('Redirect_page.png')"
      ],
      "metadata": {
        "colab": {
          "base_uri": "https://localhost:8080/",
          "height": 696
        },
        "id": "ij2eDLGpbYHF",
        "outputId": "2fad6e62-5ffe-4d7d-e9f4-3f2106e394ec"
      },
      "execution_count": 27,
      "outputs": [
        {
          "output_type": "execute_result",
          "data": {
            "image/png": "[encoded data removed]",
            "text/plain": [
              "<IPython.core.display.Image object>"
            ]
          },
          "metadata": {},
          "execution_count": 27
        }
      ]
    },
    {
      "cell_type": "markdown",
      "source": [
        "#10.  How do you handle errors in Flask (e.g., 404)?\n",
        "\n",
        ">Definition\n",
        "\n",
        ">In Flask, you can handle errors like “page not found” (404) or “server error” (500) using error handlers.\n",
        "\n",
        ">This helps show custom messages instead of default Flask pages.\n",
        "\n",
        ">>Use @app.errorhandler(code) to catch specific errors.\n",
        "\n"
      ],
      "metadata": {
        "id": "YQGmgCJjbefP"
      }
    },
    {
      "cell_type": "code",
      "source": [
        "from flask import Flask, render_template_string\n",
        "from pyngrok import ngrok\n",
        "\n",
        "app = Flask(__name__)\n",
        "\n",
        "# Start ngrok tunnel on port 5003\n",
        "public_url = ngrok.connect(5003)\n",
        "print(\"Click this link to open the app:\", public_url)\n"
      ],
      "metadata": {
        "colab": {
          "base_uri": "https://localhost:8080/"
        },
        "id": "Y2TGpRC1cL0-",
        "outputId": "cde3ec37-3958-4288-e97f-dec412e2ffbb"
      },
      "execution_count": 28,
      "outputs": [
        {
          "output_type": "stream",
          "name": "stdout",
          "text": [
            "Click this link to open the app: NgrokTunnel: \"https://02a7151b59e3.ngrok-free.app\" -> \"http://localhost:5003\"\n"
          ]
        }
      ]
    },
    {
      "cell_type": "code",
      "source": [
        "# Home page\n",
        "@app.route(\"/\")\n",
        "def home():\n",
        "    return \"<h2>Home Page</h2><p>Welcome! Try visiting /hello to see a 404 error.</p>\"\n",
        "\n",
        "# Example route\n",
        "@app.route(\"/about\")\n",
        "def about():\n",
        "    return \"<h2>About Page</h2><p>This is the About page.</p>\"\n",
        "\n",
        "# Custom 404 error page\n",
        "@app.errorhandler(404)\n",
        "def page_not_found(e):\n",
        "    return render_template_string(\"\"\"\n",
        "        <h2>404 Error</h2>\n",
        "        <p>Oops! The page you are looking for does not exist.</p>\n",
        "        <a href=\"/\">Go back Home</a>\n",
        "    \"\"\"), 404\n",
        "\n",
        "# Run Flask app on port 5003\n",
        "app.run(port=5003)\n"
      ],
      "metadata": {
        "colab": {
          "base_uri": "https://localhost:8080/"
        },
        "id": "nSWqvk5wcR5q",
        "outputId": "808b6693-12f3-4876-f99b-f7bf3c01179e"
      },
      "execution_count": 29,
      "outputs": [
        {
          "output_type": "stream",
          "name": "stdout",
          "text": [
            " * Serving Flask app '__main__'\n",
            " * Debug mode: off\n"
          ]
        },
        {
          "output_type": "stream",
          "name": "stderr",
          "text": [
            "INFO:werkzeug:\u001b[31m\u001b[1mWARNING: This is a development server. Do not use it in a production deployment. Use a production WSGI server instead.\u001b[0m\n",
            " * Running on http://127.0.0.1:5003\n",
            "INFO:werkzeug:\u001b[33mPress CTRL+C to quit\u001b[0m\n",
            "INFO:werkzeug:127.0.0.1 - - [13/Sep/2025 18:58:20] \"GET / HTTP/1.1\" 200 -\n",
            "INFO:werkzeug:127.0.0.1 - - [13/Sep/2025 18:58:21] \"\u001b[33mGET /favicon.ico HTTP/1.1\u001b[0m\" 404 -\n"
          ]
        }
      ]
    },
    {
      "cell_type": "code",
      "source": [
        "uploaded = files.upload()"
      ],
      "metadata": {
        "colab": {
          "base_uri": "https://localhost:8080/",
          "height": 73
        },
        "id": "sZXbvNfYcvfT",
        "outputId": "f431ba2a-1cd2-4d56-be00-4e2462261f06"
      },
      "execution_count": 30,
      "outputs": [
        {
          "output_type": "display_data",
          "data": {
            "text/plain": [
              "<IPython.core.display.HTML object>"
            ],
            "text/html": [
              "\n",
              "     <input type=\"file\" id=\"files-13f3bab2-29d7-4770-93f3-2b0b695c949e\" name=\"files[]\" multiple disabled\n",
              "        style=\"border:none\" />\n",
              "     <output id=\"result-13f3bab2-29d7-4770-93f3-2b0b695c949e\">\n",
              "      Upload widget is only available when the cell has been executed in the\n",
              "      current browser session. Please rerun this cell to enable.\n",
              "      </output>\n",
              "      <script>// Copyright 2017 Google LLC\n",
              "//\n",
              "// Licensed under the Apache License, Version 2.0 (the \"License\");\n",
              "// you may not use this file except in compliance with the License.\n",
              "// You may obtain a copy of the License at\n",
              "//\n",
              "//      http://www.apache.org/licenses/LICENSE-2.0\n",
              "//\n",
              "// Unless required by applicable law or agreed to in writing, software\n",
              "// distributed under the License is distributed on an \"AS IS\" BASIS,\n",
              "// WITHOUT WARRANTIES OR CONDITIONS OF ANY KIND, either express or implied.\n",
              "// See the License for the specific language governing permissions and\n",
              "// limitations under the License.\n",
              "\n",
              "/**\n",
              " * @fileoverview Helpers for google.colab Python module.\n",
              " */\n",
              "(function(scope) {\n",
              "function span(text, styleAttributes = {}) {\n",
              "  const element = document.createElement('span');\n",
              "  element.textContent = text;\n",
              "  for (const key of Object.keys(styleAttributes)) {\n",
              "    element.style[key] = styleAttributes[key];\n",
              "  }\n",
              "  return element;\n",
              "}\n",
              "\n",
              "// Max number of bytes which will be uploaded at a time.\n",
              "const MAX_PAYLOAD_SIZE = 100 * 1024;\n",
              "\n",
              "function _uploadFiles(inputId, outputId) {\n",
              "  const steps = uploadFilesStep(inputId, outputId);\n",
              "  const outputElement = document.getElementById(outputId);\n",
              "  // Cache steps on the outputElement to make it available for the next call\n",
              "  // to uploadFilesContinue from Python.\n",
              "  outputElement.steps = steps;\n",
              "\n",
              "  return _uploadFilesContinue(outputId);\n",
              "}\n",
              "\n",
              "// This is roughly an async generator (not supported in the browser yet),\n",
              "// where there are multiple asynchronous steps and the Python side is going\n",
              "// to poll for completion of each step.\n",
              "// This uses a Promise to block the python side on completion of each step,\n",
              "// then passes the result of the previous step as the input to the next step.\n",
              "function _uploadFilesContinue(outputId) {\n",
              "  const outputElement = document.getElementById(outputId);\n",
              "  const steps = outputElement.steps;\n",
              "\n",
              "  const next = steps.next(outputElement.lastPromiseValue);\n",
              "  return Promise.resolve(next.value.promise).then((value) => {\n",
              "    // Cache the last promise value to make it available to the next\n",
              "    // step of the generator.\n",
              "    outputElement.lastPromiseValue = value;\n",
              "    return next.value.response;\n",
              "  });\n",
              "}\n",
              "\n",
              "/**\n",
              " * Generator function which is called between each async step of the upload\n",
              " * process.\n",
              " * @param {string} inputId Element ID of the input file picker element.\n",
              " * @param {string} outputId Element ID of the output display.\n",
              " * @return {!Iterable<!Object>} Iterable of next steps.\n",
              " */\n",
              "function* uploadFilesStep(inputId, outputId) {\n",
              "  const inputElement = document.getElementById(inputId);\n",
              "  inputElement.disabled = false;\n",
              "\n",
              "  const outputElement = document.getElementById(outputId);\n",
              "  outputElement.innerHTML = '';\n",
              "\n",
              "  const pickedPromise = new Promise((resolve) => {\n",
              "    inputElement.addEventListener('change', (e) => {\n",
              "      resolve(e.target.files);\n",
              "    });\n",
              "  });\n",
              "\n",
              "  const cancel = document.createElement('button');\n",
              "  inputElement.parentElement.appendChild(cancel);\n",
              "  cancel.textContent = 'Cancel upload';\n",
              "  const cancelPromise = new Promise((resolve) => {\n",
              "    cancel.onclick = () => {\n",
              "      resolve(null);\n",
              "    };\n",
              "  });\n",
              "\n",
              "  // Wait for the user to pick the files.\n",
              "  const files = yield {\n",
              "    promise: Promise.race([pickedPromise, cancelPromise]),\n",
              "    response: {\n",
              "      action: 'starting',\n",
              "    }\n",
              "  };\n",
              "\n",
              "  cancel.remove();\n",
              "\n",
              "  // Disable the input element since further picks are not allowed.\n",
              "  inputElement.disabled = true;\n",
              "\n",
              "  if (!files) {\n",
              "    return {\n",
              "      response: {\n",
              "        action: 'complete',\n",
              "      }\n",
              "    };\n",
              "  }\n",
              "\n",
              "  for (const file of files) {\n",
              "    const li = document.createElement('li');\n",
              "    li.append(span(file.name, {fontWeight: 'bold'}));\n",
              "    li.append(span(\n",
              "        `(${file.type || 'n/a'}) - ${file.size} bytes, ` +\n",
              "        `last modified: ${\n",
              "            file.lastModifiedDate ? file.lastModifiedDate.toLocaleDateString() :\n",
              "                                    'n/a'} - `));\n",
              "    const percent = span('0% done');\n",
              "    li.appendChild(percent);\n",
              "\n",
              "    outputElement.appendChild(li);\n",
              "\n",
              "    const fileDataPromise = new Promise((resolve) => {\n",
              "      const reader = new FileReader();\n",
              "      reader.onload = (e) => {\n",
              "        resolve(e.target.result);\n",
              "      };\n",
              "      reader.readAsArrayBuffer(file);\n",
              "    });\n",
              "    // Wait for the data to be ready.\n",
              "    let fileData = yield {\n",
              "      promise: fileDataPromise,\n",
              "      response: {\n",
              "        action: 'continue',\n",
              "      }\n",
              "    };\n",
              "\n",
              "    // Use a chunked sending to avoid message size limits. See b/62115660.\n",
              "    let position = 0;\n",
              "    do {\n",
              "      const length = Math.min(fileData.byteLength - position, MAX_PAYLOAD_SIZE);\n",
              "      const chunk = new Uint8Array(fileData, position, length);\n",
              "      position += length;\n",
              "\n",
              "      const base64 = btoa(String.fromCharCode.apply(null, chunk));\n",
              "      yield {\n",
              "        response: {\n",
              "          action: 'append',\n",
              "          file: file.name,\n",
              "          data: base64,\n",
              "        },\n",
              "      };\n",
              "\n",
              "      let percentDone = fileData.byteLength === 0 ?\n",
              "          100 :\n",
              "          Math.round((position / fileData.byteLength) * 100);\n",
              "      percent.textContent = `${percentDone}% done`;\n",
              "\n",
              "    } while (position < fileData.byteLength);\n",
              "  }\n",
              "\n",
              "  // All done.\n",
              "  yield {\n",
              "    response: {\n",
              "      action: 'complete',\n",
              "    }\n",
              "  };\n",
              "}\n",
              "\n",
              "scope.google = scope.google || {};\n",
              "scope.google.colab = scope.google.colab || {};\n",
              "scope.google.colab._files = {\n",
              "  _uploadFiles,\n",
              "  _uploadFilesContinue,\n",
              "};\n",
              "})(self);\n",
              "</script> "
            ]
          },
          "metadata": {}
        },
        {
          "output_type": "stream",
          "name": "stdout",
          "text": [
            "Saving error 404 page.png to error 404 page.png\n"
          ]
        }
      ]
    },
    {
      "cell_type": "code",
      "source": [
        "Image('error 404 page.png')"
      ],
      "metadata": {
        "colab": {
          "base_uri": "https://localhost:8080/",
          "height": 696
        },
        "id": "M-yCw1gvc5l6",
        "outputId": "2fade163-a70a-4916-902b-182a0a91535f"
      },
      "execution_count": 31,
      "outputs": [
        {
          "output_type": "execute_result",
          "data": {
            "image/png": "[encoded data removed]",
            "text/plain": [
              "<IPython.core.display.Image object>"
            ]
          },
          "metadata": {},
          "execution_count": 31
        }
      ]
    },
    {
      "cell_type": "markdown",
      "source": [
        "#11. How do you structure a Flask app using Blueprints?\n",
        "\n",
        ">Definition\n",
        "\n",
        ">>A Blueprint in Flask is like a mini-app inside your main app.\n",
        "\n",
        ">>It allows you to organize your routes, templates, and static files in separate modules.\n",
        "\n",
        ">>Blueprints make your project cleaner and easier to maintain, especially for large applications.\n",
        "\n",
        "##Step : How It Works\n",
        "\n",
        "- Run all cells in Colab.\n",
        "\n",
        "- Click the ngrok link printed in output → opens browser.\n",
        "\n",
        "- Home Page: Visit / → shows welcome.\n",
        "\n",
        "- Auth Page: Visit /login → handled by auth blueprint.\n",
        "\n",
        "- Blog Page: Visit /posts → handled by blog blueprint.\n",
        "\n",
        "##Key Points\n",
        "\n",
        "- Blueprint('auth', __name__) → mini app for auth.\n",
        "\n",
        "- @auth.route(\"/login\") → defines blueprint-specific route.\n",
        "\n",
        "- app.register_blueprint(auth) → connects blueprint to main app.\n",
        "\n",
        "- Helps organize large Flask projects."
      ],
      "metadata": {
        "id": "jxSglTtRc-41"
      }
    },
    {
      "cell_type": "code",
      "source": [
        "from flask import Flask, Blueprint\n",
        "from pyngrok import ngrok\n",
        "\n",
        "app = Flask(__name__)\n",
        "\n",
        "# Start ngrok tunnel on port 5004\n",
        "public_url = ngrok.connect(5004)\n",
        "print(\"Click this link to open the app:\", public_url)\n"
      ],
      "metadata": {
        "colab": {
          "base_uri": "https://localhost:8080/"
        },
        "id": "w1gttwAqdUhL",
        "outputId": "82542190-a91f-47ff-c641-4148fd06624e"
      },
      "execution_count": 32,
      "outputs": [
        {
          "output_type": "stream",
          "name": "stdout",
          "text": [
            "Click this link to open the app: NgrokTunnel: \"https://5c0fc4176c2c.ngrok-free.app\" -> \"http://localhost:5004\"\n"
          ]
        }
      ]
    },
    {
      "cell_type": "code",
      "source": [
        "auth = Blueprint('auth', __name__)\n",
        "\n",
        "@auth.route(\"/login\")\n",
        "def login():\n",
        "    return \"<h2>Login Page</h2><p>This is the auth blueprint.</p>\"\n"
      ],
      "metadata": {
        "id": "qOD6OZy4fo38"
      },
      "execution_count": 34,
      "outputs": []
    },
    {
      "cell_type": "code",
      "source": [
        "blog = Blueprint('blog', __name__)\n",
        "\n",
        "@blog.route(\"/posts\")\n",
        "def posts():\n",
        "    return \"<h2>Blog Posts Page</h2><p>This is the blog blueprint.</p>\"\n"
      ],
      "metadata": {
        "id": "jVBOTQ4Hfsx_"
      },
      "execution_count": 35,
      "outputs": []
    },
    {
      "cell_type": "code",
      "source": [
        "# Register blueprints\n",
        "app.register_blueprint(auth)  # Auth routes\n",
        "app.register_blueprint(blog)  # Blog routes\n",
        "\n",
        "# Home route\n",
        "@app.route(\"/\")\n",
        "def home():\n",
        "    return \"<h2>Home Page</h2><p>Welcome! Try /login or /posts</p>\"\n",
        "\n",
        "# Run Flask app on port 5004\n",
        "app.run(port=5004)\n"
      ],
      "metadata": {
        "colab": {
          "base_uri": "https://localhost:8080/"
        },
        "id": "os1D4_bvf0EI",
        "outputId": "bf903c10-8108-4122-c5a1-60ca11fd1e70"
      },
      "execution_count": 36,
      "outputs": [
        {
          "output_type": "stream",
          "name": "stdout",
          "text": [
            " * Serving Flask app '__main__'\n",
            " * Debug mode: off\n"
          ]
        },
        {
          "output_type": "stream",
          "name": "stderr",
          "text": [
            "INFO:werkzeug:\u001b[31m\u001b[1mWARNING: This is a development server. Do not use it in a production deployment. Use a production WSGI server instead.\u001b[0m\n",
            " * Running on http://127.0.0.1:5004\n",
            "INFO:werkzeug:\u001b[33mPress CTRL+C to quit\u001b[0m\n",
            "INFO:werkzeug:127.0.0.1 - - [13/Sep/2025 19:13:50] \"GET / HTTP/1.1\" 200 -\n",
            "INFO:werkzeug:127.0.0.1 - - [13/Sep/2025 19:13:51] \"\u001b[33mGET /favicon.ico HTTP/1.1\u001b[0m\" 404 -\n"
          ]
        }
      ]
    },
    {
      "cell_type": "code",
      "source": [
        "uploaded = files.upload()"
      ],
      "metadata": {
        "colab": {
          "base_uri": "https://localhost:8080/",
          "height": 73
        },
        "id": "R9EuOcGxggXc",
        "outputId": "2a472a50-03fa-44df-e1d1-5619ded59a71"
      },
      "execution_count": 37,
      "outputs": [
        {
          "output_type": "display_data",
          "data": {
            "text/plain": [
              "<IPython.core.display.HTML object>"
            ],
            "text/html": [
              "\n",
              "     <input type=\"file\" id=\"files-17f2b05a-cc3d-4f5a-8c98-7009ae3859d7\" name=\"files[]\" multiple disabled\n",
              "        style=\"border:none\" />\n",
              "     <output id=\"result-17f2b05a-cc3d-4f5a-8c98-7009ae3859d7\">\n",
              "      Upload widget is only available when the cell has been executed in the\n",
              "      current browser session. Please rerun this cell to enable.\n",
              "      </output>\n",
              "      <script>// Copyright 2017 Google LLC\n",
              "//\n",
              "// Licensed under the Apache License, Version 2.0 (the \"License\");\n",
              "// you may not use this file except in compliance with the License.\n",
              "// You may obtain a copy of the License at\n",
              "//\n",
              "//      http://www.apache.org/licenses/LICENSE-2.0\n",
              "//\n",
              "// Unless required by applicable law or agreed to in writing, software\n",
              "// distributed under the License is distributed on an \"AS IS\" BASIS,\n",
              "// WITHOUT WARRANTIES OR CONDITIONS OF ANY KIND, either express or implied.\n",
              "// See the License for the specific language governing permissions and\n",
              "// limitations under the License.\n",
              "\n",
              "/**\n",
              " * @fileoverview Helpers for google.colab Python module.\n",
              " */\n",
              "(function(scope) {\n",
              "function span(text, styleAttributes = {}) {\n",
              "  const element = document.createElement('span');\n",
              "  element.textContent = text;\n",
              "  for (const key of Object.keys(styleAttributes)) {\n",
              "    element.style[key] = styleAttributes[key];\n",
              "  }\n",
              "  return element;\n",
              "}\n",
              "\n",
              "// Max number of bytes which will be uploaded at a time.\n",
              "const MAX_PAYLOAD_SIZE = 100 * 1024;\n",
              "\n",
              "function _uploadFiles(inputId, outputId) {\n",
              "  const steps = uploadFilesStep(inputId, outputId);\n",
              "  const outputElement = document.getElementById(outputId);\n",
              "  // Cache steps on the outputElement to make it available for the next call\n",
              "  // to uploadFilesContinue from Python.\n",
              "  outputElement.steps = steps;\n",
              "\n",
              "  return _uploadFilesContinue(outputId);\n",
              "}\n",
              "\n",
              "// This is roughly an async generator (not supported in the browser yet),\n",
              "// where there are multiple asynchronous steps and the Python side is going\n",
              "// to poll for completion of each step.\n",
              "// This uses a Promise to block the python side on completion of each step,\n",
              "// then passes the result of the previous step as the input to the next step.\n",
              "function _uploadFilesContinue(outputId) {\n",
              "  const outputElement = document.getElementById(outputId);\n",
              "  const steps = outputElement.steps;\n",
              "\n",
              "  const next = steps.next(outputElement.lastPromiseValue);\n",
              "  return Promise.resolve(next.value.promise).then((value) => {\n",
              "    // Cache the last promise value to make it available to the next\n",
              "    // step of the generator.\n",
              "    outputElement.lastPromiseValue = value;\n",
              "    return next.value.response;\n",
              "  });\n",
              "}\n",
              "\n",
              "/**\n",
              " * Generator function which is called between each async step of the upload\n",
              " * process.\n",
              " * @param {string} inputId Element ID of the input file picker element.\n",
              " * @param {string} outputId Element ID of the output display.\n",
              " * @return {!Iterable<!Object>} Iterable of next steps.\n",
              " */\n",
              "function* uploadFilesStep(inputId, outputId) {\n",
              "  const inputElement = document.getElementById(inputId);\n",
              "  inputElement.disabled = false;\n",
              "\n",
              "  const outputElement = document.getElementById(outputId);\n",
              "  outputElement.innerHTML = '';\n",
              "\n",
              "  const pickedPromise = new Promise((resolve) => {\n",
              "    inputElement.addEventListener('change', (e) => {\n",
              "      resolve(e.target.files);\n",
              "    });\n",
              "  });\n",
              "\n",
              "  const cancel = document.createElement('button');\n",
              "  inputElement.parentElement.appendChild(cancel);\n",
              "  cancel.textContent = 'Cancel upload';\n",
              "  const cancelPromise = new Promise((resolve) => {\n",
              "    cancel.onclick = () => {\n",
              "      resolve(null);\n",
              "    };\n",
              "  });\n",
              "\n",
              "  // Wait for the user to pick the files.\n",
              "  const files = yield {\n",
              "    promise: Promise.race([pickedPromise, cancelPromise]),\n",
              "    response: {\n",
              "      action: 'starting',\n",
              "    }\n",
              "  };\n",
              "\n",
              "  cancel.remove();\n",
              "\n",
              "  // Disable the input element since further picks are not allowed.\n",
              "  inputElement.disabled = true;\n",
              "\n",
              "  if (!files) {\n",
              "    return {\n",
              "      response: {\n",
              "        action: 'complete',\n",
              "      }\n",
              "    };\n",
              "  }\n",
              "\n",
              "  for (const file of files) {\n",
              "    const li = document.createElement('li');\n",
              "    li.append(span(file.name, {fontWeight: 'bold'}));\n",
              "    li.append(span(\n",
              "        `(${file.type || 'n/a'}) - ${file.size} bytes, ` +\n",
              "        `last modified: ${\n",
              "            file.lastModifiedDate ? file.lastModifiedDate.toLocaleDateString() :\n",
              "                                    'n/a'} - `));\n",
              "    const percent = span('0% done');\n",
              "    li.appendChild(percent);\n",
              "\n",
              "    outputElement.appendChild(li);\n",
              "\n",
              "    const fileDataPromise = new Promise((resolve) => {\n",
              "      const reader = new FileReader();\n",
              "      reader.onload = (e) => {\n",
              "        resolve(e.target.result);\n",
              "      };\n",
              "      reader.readAsArrayBuffer(file);\n",
              "    });\n",
              "    // Wait for the data to be ready.\n",
              "    let fileData = yield {\n",
              "      promise: fileDataPromise,\n",
              "      response: {\n",
              "        action: 'continue',\n",
              "      }\n",
              "    };\n",
              "\n",
              "    // Use a chunked sending to avoid message size limits. See b/62115660.\n",
              "    let position = 0;\n",
              "    do {\n",
              "      const length = Math.min(fileData.byteLength - position, MAX_PAYLOAD_SIZE);\n",
              "      const chunk = new Uint8Array(fileData, position, length);\n",
              "      position += length;\n",
              "\n",
              "      const base64 = btoa(String.fromCharCode.apply(null, chunk));\n",
              "      yield {\n",
              "        response: {\n",
              "          action: 'append',\n",
              "          file: file.name,\n",
              "          data: base64,\n",
              "        },\n",
              "      };\n",
              "\n",
              "      let percentDone = fileData.byteLength === 0 ?\n",
              "          100 :\n",
              "          Math.round((position / fileData.byteLength) * 100);\n",
              "      percent.textContent = `${percentDone}% done`;\n",
              "\n",
              "    } while (position < fileData.byteLength);\n",
              "  }\n",
              "\n",
              "  // All done.\n",
              "  yield {\n",
              "    response: {\n",
              "      action: 'complete',\n",
              "    }\n",
              "  };\n",
              "}\n",
              "\n",
              "scope.google = scope.google || {};\n",
              "scope.google.colab = scope.google.colab || {};\n",
              "scope.google.colab._files = {\n",
              "  _uploadFiles,\n",
              "  _uploadFilesContinue,\n",
              "};\n",
              "})(self);\n",
              "</script> "
            ]
          },
          "metadata": {}
        },
        {
          "output_type": "stream",
          "name": "stdout",
          "text": [
            "Saving Blueprint.png to Blueprint.png\n"
          ]
        }
      ]
    },
    {
      "cell_type": "code",
      "source": [
        "Image('Blueprint.png')"
      ],
      "metadata": {
        "colab": {
          "base_uri": "https://localhost:8080/",
          "height": 757
        },
        "id": "lQG4gfNSglRe",
        "outputId": "4d12458e-00c8-4233-9c62-47f401dfabcc"
      },
      "execution_count": 38,
      "outputs": [
        {
          "output_type": "execute_result",
          "data": {
            "image/png": "[encoded data removed]",
            "text/plain": [
              "<IPython.core.display.Image object>"
            ]
          },
          "metadata": {},
          "execution_count": 38
        }
      ]
    },
    {
      "cell_type": "markdown",
      "source": [
        "#12. How do you define a custom Jinja filter in Flask?\n",
        "\n",
        ">A Jinja filter is a function that modifies or formats data inside your templates.\n",
        "\n",
        ">>Flask uses Jinja2 templates for rendering HTML.\n",
        "\n",
        ">>You can create custom filters to do things like:\n",
        "\n",
        ">>Format dates\n",
        "\n",
        ">>Uppercase text\n",
        "\n",
        ">>Add special formatting\n",
        "\n",
        "**Syntax: {{ variable | filter_name }}**\n",
        "\n",
        "##How to Create a Custom Jinja Filter\n",
        "\n",
        "- Define a Python function.\n",
        "\n",
        "- Register it with Flask using app.template_filter().\n",
        "\n",
        "- Use it inside templates with | symbol."
      ],
      "metadata": {
        "id": "sddZZ3UDhAoz"
      }
    },
    {
      "cell_type": "code",
      "source": [
        "from flask import Flask, render_template_string\n",
        "\n",
        "app = Flask(__name__)\n",
        "\n",
        "# Step 1: Define custom filter\n",
        "@app.template_filter('reverse')\n",
        "def reverse_string(s):\n",
        "    return s[::-1]  # reverses the string\n",
        "\n",
        "# Step 2: Use filter in template\n",
        "template = \"\"\"\n",
        "<h2>Original: {{ name }}</h2>\n",
        "<h2>Reversed: {{ name | reverse }}</h2>\n",
        "\"\"\"\n",
        "\n",
        "@app.route(\"/\")\n",
        "def home():\n",
        "    return render_template_string(template, name=\"Kumar\")\n",
        "\n",
        "if __name__ == \"__main__\":\n",
        "    app.run(debug=True)\n"
      ],
      "metadata": {
        "colab": {
          "base_uri": "https://localhost:8080/"
        },
        "id": "BhiiikQRhfD0",
        "outputId": "facc7e8d-47a7-40bb-827a-1ad8438316c5"
      },
      "execution_count": 39,
      "outputs": [
        {
          "output_type": "stream",
          "name": "stdout",
          "text": [
            " * Serving Flask app '__main__'\n",
            " * Debug mode: on\n"
          ]
        },
        {
          "output_type": "stream",
          "name": "stderr",
          "text": [
            "INFO:werkzeug:\u001b[31m\u001b[1mWARNING: This is a development server. Do not use it in a production deployment. Use a production WSGI server instead.\u001b[0m\n",
            " * Running on http://127.0.0.1:5000\n",
            "INFO:werkzeug:\u001b[33mPress CTRL+C to quit\u001b[0m\n",
            "INFO:werkzeug: * Restarting with watchdog (inotify)\n"
          ]
        }
      ]
    },
    {
      "cell_type": "markdown",
      "source": [
        "#13. How can you redirect with query parameters in Flask?\n",
        "\n",
        "##Definition\n",
        "\n",
        "- A query parameter is extra information you add to a URL after a ? symbol.\n",
        "\n",
        ">>Example: /profile?user=Kumar\n",
        "\n",
        "- In Flask, you can redirect to a route and include query parameters using redirect() and url_for().\n",
        "\n",
        "##How to Do It\n",
        "\n",
        "- Use url_for() to generate the URL.\n",
        "\n",
        "- Pass a dictionary of parameters.\n",
        "\n",
        "- Use redirect() to send the user to that URL.\n",
        "\n",
        "\n",
        "\n",
        "\n"
      ],
      "metadata": {
        "id": "j5gK2CDQhxEH"
      }
    },
    {
      "cell_type": "code",
      "source": [
        "!pip install flask pyngrok\n"
      ],
      "metadata": {
        "colab": {
          "base_uri": "https://localhost:8080/"
        },
        "id": "KY2WK5KKjzKb",
        "outputId": "39f37686-c1ed-4526-de6a-0204489599ab"
      },
      "execution_count": 2,
      "outputs": [
        {
          "output_type": "stream",
          "name": "stdout",
          "text": [
            "Requirement already satisfied: flask in /usr/local/lib/python3.12/dist-packages (3.1.2)\n",
            "Collecting pyngrok\n",
            "  Downloading pyngrok-7.3.0-py3-none-any.whl.metadata (8.1 kB)\n",
            "Requirement already satisfied: blinker>=1.9.0 in /usr/local/lib/python3.12/dist-packages (from flask) (1.9.0)\n",
            "Requirement already satisfied: click>=8.1.3 in /usr/local/lib/python3.12/dist-packages (from flask) (8.2.1)\n",
            "Requirement already satisfied: itsdangerous>=2.2.0 in /usr/local/lib/python3.12/dist-packages (from flask) (2.2.0)\n",
            "Requirement already satisfied: jinja2>=3.1.2 in /usr/local/lib/python3.12/dist-packages (from flask) (3.1.6)\n",
            "Requirement already satisfied: markupsafe>=2.1.1 in /usr/local/lib/python3.12/dist-packages (from flask) (3.0.2)\n",
            "Requirement already satisfied: werkzeug>=3.1.0 in /usr/local/lib/python3.12/dist-packages (from flask) (3.1.3)\n",
            "Requirement already satisfied: PyYAML>=5.1 in /usr/local/lib/python3.12/dist-packages (from pyngrok) (6.0.2)\n",
            "Downloading pyngrok-7.3.0-py3-none-any.whl (25 kB)\n",
            "Installing collected packages: pyngrok\n",
            "Successfully installed pyngrok-7.3.0\n"
          ]
        }
      ]
    },
    {
      "cell_type": "code",
      "source": [
        "!ngrok authtoken 32WXLZT2IbMP3xdz6h3EhpTH5Ah_5TBpM4FdjVf4BrRcBZa78\n"
      ],
      "metadata": {
        "colab": {
          "base_uri": "https://localhost:8080/"
        },
        "id": "Egp5YZ6rkS1E",
        "outputId": "f7bf3626-313c-42b8-f994-239b4490bbf1"
      },
      "execution_count": 7,
      "outputs": [
        {
          "output_type": "stream",
          "name": "stdout",
          "text": [
            "Authtoken saved to configuration file: /root/.config/ngrok/ngrok.yml\n"
          ]
        }
      ]
    },
    {
      "cell_type": "code",
      "source": [
        "from pyngrok import ngrok\n",
        "\n",
        "# Start ngrok tunnel on port 5005\n",
        "public_url = ngrok.connect(5005)\n",
        "print(\"Click this link to open the app:\", public_url)\n"
      ],
      "metadata": {
        "colab": {
          "base_uri": "https://localhost:8080/"
        },
        "id": "QawikdYVknAQ",
        "outputId": "2e214325-dc53-448d-d2be-6e0af7ae6fbc"
      },
      "execution_count": 8,
      "outputs": [
        {
          "output_type": "stream",
          "name": "stdout",
          "text": [
            "Click this link to open the app: NgrokTunnel: \"https://4cc2fb04f9b9.ngrok-free.app\" -> \"http://localhost:5005\"\n"
          ]
        }
      ]
    },
    {
      "cell_type": "code",
      "source": [
        "# Home page\n",
        "@app.route(\"/\")\n",
        "def home():\n",
        "    return \"<h2>Home Page</h2><a href='/login'>Login</a>\"\n",
        "\n",
        "# Login route\n",
        "@app.route(\"/login\")\n",
        "def login():\n",
        "    # After login, redirect to profile with query parameters\n",
        "    return redirect(url_for(\"profile\", user=\"Kumar\", age=25))\n",
        "\n",
        "# Profile route\n",
        "@app.route(\"/profile\")\n",
        "def profile():\n",
        "    # Access query parameters\n",
        "    user = request.args.get(\"user\")\n",
        "    age = request.args.get(\"age\")\n",
        "    return f\"<h2>Profile Page</h2><p>Hello {user}, age {age}!</p>\"\n",
        "\n",
        "# Run Flask app on port 5005\n",
        "app.run(port=5005)\n"
      ],
      "metadata": {
        "colab": {
          "base_uri": "https://localhost:8080/"
        },
        "id": "0J9SuKFUkyti",
        "outputId": "01fd749f-9153-4446-9652-b47bf6b436e1"
      },
      "execution_count": 10,
      "outputs": [
        {
          "output_type": "stream",
          "name": "stdout",
          "text": [
            " * Serving Flask app '__main__'\n",
            " * Debug mode: off\n"
          ]
        },
        {
          "output_type": "stream",
          "name": "stderr",
          "text": [
            "INFO:werkzeug:\u001b[31m\u001b[1mWARNING: This is a development server. Do not use it in a production deployment. Use a production WSGI server instead.\u001b[0m\n",
            " * Running on http://127.0.0.1:5005\n",
            "INFO:werkzeug:\u001b[33mPress CTRL+C to quit\u001b[0m\n",
            "INFO:werkzeug:127.0.0.1 - - [13/Sep/2025 19:35:30] \"GET / HTTP/1.1\" 200 -\n",
            "INFO:werkzeug:127.0.0.1 - - [13/Sep/2025 19:35:31] \"\u001b[33mGET /favicon.ico HTTP/1.1\u001b[0m\" 404 -\n",
            "INFO:werkzeug:127.0.0.1 - - [13/Sep/2025 19:35:32] \"\u001b[32mGET /login HTTP/1.1\u001b[0m\" 302 -\n",
            "INFO:werkzeug:127.0.0.1 - - [13/Sep/2025 19:35:33] \"GET /profile?user=Kumar&age=25 HTTP/1.1\" 200 -\n",
            "INFO:werkzeug:127.0.0.1 - - [13/Sep/2025 19:36:14] \"\u001b[32mGET /login HTTP/1.1\u001b[0m\" 302 -\n",
            "INFO:werkzeug:127.0.0.1 - - [13/Sep/2025 19:36:15] \"GET /profile?user=Kumar&age=25 HTTP/1.1\" 200 -\n"
          ]
        }
      ]
    },
    {
      "cell_type": "code",
      "source": [
        "from google.colab import files\n",
        "from IPython.display import Image"
      ],
      "metadata": {
        "id": "75q8FvpxmhAE"
      },
      "execution_count": 13,
      "outputs": []
    },
    {
      "cell_type": "code",
      "source": [
        "uploaded = files.upload()"
      ],
      "metadata": {
        "colab": {
          "base_uri": "https://localhost:8080/",
          "height": 73
        },
        "id": "9X1Re3HUmiYe",
        "outputId": "81056a1e-4b2c-42ff-875f-3e663a966d10"
      },
      "execution_count": 14,
      "outputs": [
        {
          "output_type": "display_data",
          "data": {
            "text/plain": [
              "<IPython.core.display.HTML object>"
            ],
            "text/html": [
              "\n",
              "     <input type=\"file\" id=\"files-654634d5-6594-4033-b783-b9b15eb6d712\" name=\"files[]\" multiple disabled\n",
              "        style=\"border:none\" />\n",
              "     <output id=\"result-654634d5-6594-4033-b783-b9b15eb6d712\">\n",
              "      Upload widget is only available when the cell has been executed in the\n",
              "      current browser session. Please rerun this cell to enable.\n",
              "      </output>\n",
              "      <script>// Copyright 2017 Google LLC\n",
              "//\n",
              "// Licensed under the Apache License, Version 2.0 (the \"License\");\n",
              "// you may not use this file except in compliance with the License.\n",
              "// You may obtain a copy of the License at\n",
              "//\n",
              "//      http://www.apache.org/licenses/LICENSE-2.0\n",
              "//\n",
              "// Unless required by applicable law or agreed to in writing, software\n",
              "// distributed under the License is distributed on an \"AS IS\" BASIS,\n",
              "// WITHOUT WARRANTIES OR CONDITIONS OF ANY KIND, either express or implied.\n",
              "// See the License for the specific language governing permissions and\n",
              "// limitations under the License.\n",
              "\n",
              "/**\n",
              " * @fileoverview Helpers for google.colab Python module.\n",
              " */\n",
              "(function(scope) {\n",
              "function span(text, styleAttributes = {}) {\n",
              "  const element = document.createElement('span');\n",
              "  element.textContent = text;\n",
              "  for (const key of Object.keys(styleAttributes)) {\n",
              "    element.style[key] = styleAttributes[key];\n",
              "  }\n",
              "  return element;\n",
              "}\n",
              "\n",
              "// Max number of bytes which will be uploaded at a time.\n",
              "const MAX_PAYLOAD_SIZE = 100 * 1024;\n",
              "\n",
              "function _uploadFiles(inputId, outputId) {\n",
              "  const steps = uploadFilesStep(inputId, outputId);\n",
              "  const outputElement = document.getElementById(outputId);\n",
              "  // Cache steps on the outputElement to make it available for the next call\n",
              "  // to uploadFilesContinue from Python.\n",
              "  outputElement.steps = steps;\n",
              "\n",
              "  return _uploadFilesContinue(outputId);\n",
              "}\n",
              "\n",
              "// This is roughly an async generator (not supported in the browser yet),\n",
              "// where there are multiple asynchronous steps and the Python side is going\n",
              "// to poll for completion of each step.\n",
              "// This uses a Promise to block the python side on completion of each step,\n",
              "// then passes the result of the previous step as the input to the next step.\n",
              "function _uploadFilesContinue(outputId) {\n",
              "  const outputElement = document.getElementById(outputId);\n",
              "  const steps = outputElement.steps;\n",
              "\n",
              "  const next = steps.next(outputElement.lastPromiseValue);\n",
              "  return Promise.resolve(next.value.promise).then((value) => {\n",
              "    // Cache the last promise value to make it available to the next\n",
              "    // step of the generator.\n",
              "    outputElement.lastPromiseValue = value;\n",
              "    return next.value.response;\n",
              "  });\n",
              "}\n",
              "\n",
              "/**\n",
              " * Generator function which is called between each async step of the upload\n",
              " * process.\n",
              " * @param {string} inputId Element ID of the input file picker element.\n",
              " * @param {string} outputId Element ID of the output display.\n",
              " * @return {!Iterable<!Object>} Iterable of next steps.\n",
              " */\n",
              "function* uploadFilesStep(inputId, outputId) {\n",
              "  const inputElement = document.getElementById(inputId);\n",
              "  inputElement.disabled = false;\n",
              "\n",
              "  const outputElement = document.getElementById(outputId);\n",
              "  outputElement.innerHTML = '';\n",
              "\n",
              "  const pickedPromise = new Promise((resolve) => {\n",
              "    inputElement.addEventListener('change', (e) => {\n",
              "      resolve(e.target.files);\n",
              "    });\n",
              "  });\n",
              "\n",
              "  const cancel = document.createElement('button');\n",
              "  inputElement.parentElement.appendChild(cancel);\n",
              "  cancel.textContent = 'Cancel upload';\n",
              "  const cancelPromise = new Promise((resolve) => {\n",
              "    cancel.onclick = () => {\n",
              "      resolve(null);\n",
              "    };\n",
              "  });\n",
              "\n",
              "  // Wait for the user to pick the files.\n",
              "  const files = yield {\n",
              "    promise: Promise.race([pickedPromise, cancelPromise]),\n",
              "    response: {\n",
              "      action: 'starting',\n",
              "    }\n",
              "  };\n",
              "\n",
              "  cancel.remove();\n",
              "\n",
              "  // Disable the input element since further picks are not allowed.\n",
              "  inputElement.disabled = true;\n",
              "\n",
              "  if (!files) {\n",
              "    return {\n",
              "      response: {\n",
              "        action: 'complete',\n",
              "      }\n",
              "    };\n",
              "  }\n",
              "\n",
              "  for (const file of files) {\n",
              "    const li = document.createElement('li');\n",
              "    li.append(span(file.name, {fontWeight: 'bold'}));\n",
              "    li.append(span(\n",
              "        `(${file.type || 'n/a'}) - ${file.size} bytes, ` +\n",
              "        `last modified: ${\n",
              "            file.lastModifiedDate ? file.lastModifiedDate.toLocaleDateString() :\n",
              "                                    'n/a'} - `));\n",
              "    const percent = span('0% done');\n",
              "    li.appendChild(percent);\n",
              "\n",
              "    outputElement.appendChild(li);\n",
              "\n",
              "    const fileDataPromise = new Promise((resolve) => {\n",
              "      const reader = new FileReader();\n",
              "      reader.onload = (e) => {\n",
              "        resolve(e.target.result);\n",
              "      };\n",
              "      reader.readAsArrayBuffer(file);\n",
              "    });\n",
              "    // Wait for the data to be ready.\n",
              "    let fileData = yield {\n",
              "      promise: fileDataPromise,\n",
              "      response: {\n",
              "        action: 'continue',\n",
              "      }\n",
              "    };\n",
              "\n",
              "    // Use a chunked sending to avoid message size limits. See b/62115660.\n",
              "    let position = 0;\n",
              "    do {\n",
              "      const length = Math.min(fileData.byteLength - position, MAX_PAYLOAD_SIZE);\n",
              "      const chunk = new Uint8Array(fileData, position, length);\n",
              "      position += length;\n",
              "\n",
              "      const base64 = btoa(String.fromCharCode.apply(null, chunk));\n",
              "      yield {\n",
              "        response: {\n",
              "          action: 'append',\n",
              "          file: file.name,\n",
              "          data: base64,\n",
              "        },\n",
              "      };\n",
              "\n",
              "      let percentDone = fileData.byteLength === 0 ?\n",
              "          100 :\n",
              "          Math.round((position / fileData.byteLength) * 100);\n",
              "      percent.textContent = `${percentDone}% done`;\n",
              "\n",
              "    } while (position < fileData.byteLength);\n",
              "  }\n",
              "\n",
              "  // All done.\n",
              "  yield {\n",
              "    response: {\n",
              "      action: 'complete',\n",
              "    }\n",
              "  };\n",
              "}\n",
              "\n",
              "scope.google = scope.google || {};\n",
              "scope.google.colab = scope.google.colab || {};\n",
              "scope.google.colab._files = {\n",
              "  _uploadFiles,\n",
              "  _uploadFilesContinue,\n",
              "};\n",
              "})(self);\n",
              "</script> "
            ]
          },
          "metadata": {}
        },
        {
          "output_type": "stream",
          "name": "stdout",
          "text": [
            "Saving redirect page.png to redirect page.png\n"
          ]
        }
      ]
    },
    {
      "cell_type": "code",
      "source": [
        "Image('redirect page.png')"
      ],
      "metadata": {
        "colab": {
          "base_uri": "https://localhost:8080/",
          "height": 696
        },
        "id": "SIaN0dZPm0Fr",
        "outputId": "ff490fdb-e4d4-423e-cb21-04b9c10b0113"
      },
      "execution_count": 15,
      "outputs": [
        {
          "output_type": "execute_result",
          "data": {
            "image/png": "[encoded data removed]",
            "text/plain": [
              "<IPython.core.display.Image object>"
            ]
          },
          "metadata": {},
          "execution_count": 15
        }
      ]
    },
    {
      "cell_type": "markdown",
      "source": [
        "#14. How do you return JSON responses in Flask?\n",
        "\n",
        "\n",
        "##Definition\n",
        "\n",
        "\n",
        "A JSON response is when your Flask route sends data in JSON (JavaScript Object Notation) format instead of HTML.\n",
        "\n",
        "JSON is widely used for APIs and exchanging data between frontend and backend.\n",
        "\n",
        "In Flask, you use the jsonify() function to return JSON safely.\n",
        "\n",
        "##How to Return JSON\n",
        "\n",
        "Import jsonify from Flask.\n",
        "\n",
        "Pass a Python dictionary or list to jsonify().\n",
        "\n",
        "Return it from your route."
      ],
      "metadata": {
        "id": "r6qoqOFUnTWT"
      }
    },
    {
      "cell_type": "code",
      "source": [
        "!pip install flask pyngrok\n"
      ],
      "metadata": {
        "colab": {
          "base_uri": "https://localhost:8080/"
        },
        "id": "l6sZ-xdTnSsv",
        "outputId": "0bdda94f-a099-496f-d01f-042834dc7adc"
      },
      "execution_count": 16,
      "outputs": [
        {
          "output_type": "stream",
          "name": "stdout",
          "text": [
            "Requirement already satisfied: flask in /usr/local/lib/python3.12/dist-packages (3.1.2)\n",
            "Requirement already satisfied: pyngrok in /usr/local/lib/python3.12/dist-packages (7.3.0)\n",
            "Requirement already satisfied: blinker>=1.9.0 in /usr/local/lib/python3.12/dist-packages (from flask) (1.9.0)\n",
            "Requirement already satisfied: click>=8.1.3 in /usr/local/lib/python3.12/dist-packages (from flask) (8.2.1)\n",
            "Requirement already satisfied: itsdangerous>=2.2.0 in /usr/local/lib/python3.12/dist-packages (from flask) (2.2.0)\n",
            "Requirement already satisfied: jinja2>=3.1.2 in /usr/local/lib/python3.12/dist-packages (from flask) (3.1.6)\n",
            "Requirement already satisfied: markupsafe>=2.1.1 in /usr/local/lib/python3.12/dist-packages (from flask) (3.0.2)\n",
            "Requirement already satisfied: werkzeug>=3.1.0 in /usr/local/lib/python3.12/dist-packages (from flask) (3.1.3)\n",
            "Requirement already satisfied: PyYAML>=5.1 in /usr/local/lib/python3.12/dist-packages (from pyngrok) (6.0.2)\n"
          ]
        }
      ]
    },
    {
      "cell_type": "code",
      "source": [
        "from flask import Flask, jsonify\n",
        "from pyngrok import ngrok\n",
        "\n",
        "app = Flask(__name__)\n",
        "\n",
        "# Start ngrok tunnel on port 5006\n",
        "public_url = ngrok.connect(5006)\n",
        "print(\"Click this link to open the app:\", public_url)\n"
      ],
      "metadata": {
        "colab": {
          "base_uri": "https://localhost:8080/"
        },
        "id": "VOi9vkDsnyUr",
        "outputId": "0224a103-3c38-4b4b-ecc4-8963f2adbf47"
      },
      "execution_count": 25,
      "outputs": [
        {
          "output_type": "stream",
          "name": "stdout",
          "text": [
            "Click this link to open the app: NgrokTunnel: \"https://1dfaf8e8709a.ngrok-free.app\" -> \"http://localhost:5006\"\n"
          ]
        }
      ]
    },
    {
      "cell_type": "code",
      "source": [
        "@app.route(\"/\")\n",
        "def home():\n",
        "    return jsonify({\"message\": \"Welcome to the Flask JSON API!\"})\n",
        "\n",
        "@app.route(\"/user\")\n",
        "def user():\n",
        "    # Example JSON data\n",
        "    user_data = {\n",
        "        \"name\": \"Kumar\",\n",
        "        \"age\": 25,\n",
        "        \"role\": \"Data Analyst\"\n",
        "    }\n",
        "    return jsonify(user_data)\n",
        "\n",
        "@app.route(\"/users\")\n",
        "def users():\n",
        "    # List of users\n",
        "    users_list = [\n",
        "        {\"name\": \"Kumar\", \"age\": 25},\n",
        "        {\"name\": \"Priya\", \"age\": 22},\n",
        "        {\"name\": \"Rahul\", \"age\": 28}\n",
        "    ]\n",
        "    return jsonify(users_list)\n"
      ],
      "metadata": {
        "id": "BQgiyAJYrE00"
      },
      "execution_count": 26,
      "outputs": []
    },
    {
      "cell_type": "code",
      "source": [
        "app.run(port=5006)\n"
      ],
      "metadata": {
        "colab": {
          "base_uri": "https://localhost:8080/"
        },
        "id": "A75ujij3rN5W",
        "outputId": "0ebe2247-6574-4f5f-a5f4-036b25348a01"
      },
      "execution_count": 27,
      "outputs": [
        {
          "output_type": "stream",
          "name": "stdout",
          "text": [
            " * Serving Flask app '__main__'\n",
            " * Debug mode: off\n"
          ]
        },
        {
          "output_type": "stream",
          "name": "stderr",
          "text": [
            "INFO:werkzeug:\u001b[31m\u001b[1mWARNING: This is a development server. Do not use it in a production deployment. Use a production WSGI server instead.\u001b[0m\n",
            " * Running on http://127.0.0.1:5006\n",
            "INFO:werkzeug:\u001b[33mPress CTRL+C to quit\u001b[0m\n",
            "INFO:werkzeug:127.0.0.1 - - [13/Sep/2025 20:03:32] \"GET / HTTP/1.1\" 200 -\n",
            "INFO:werkzeug:127.0.0.1 - - [13/Sep/2025 20:03:32] \"\u001b[33mGET /favicon.ico HTTP/1.1\u001b[0m\" 404 -\n"
          ]
        }
      ]
    },
    {
      "cell_type": "markdown",
      "source": [
        "#15. How do you capture URL parameters in Flask?\n",
        "\n",
        "**Definition**\n",
        "\n",
        ">A URL parameter (also called a path parameter) is part of the URL that you can pass to your Flask route.\n",
        "\n",
        ">>Example URL: /user/Pwskills → here pwskills is the URL parameter.\n",
        "\n",
        "- Flask lets you capture it dynamically using <variable_name> in the route.\n",
        "\n",
        "**How to Capture URL Parameters**\n",
        "\n",
        "- Define a route with placeholders in angle brackets < >.\n",
        "\n",
        "- The placeholder becomes a function argument.\n",
        "\n",
        "- Use it inside the route function.\n",
        "\n",
        "**How to Test**\n",
        "\n",
        "- Run the cells in Colab.\n",
        "\n",
        "- Click the ngrok public URL printed in output.\n",
        "\n",
        "- Visit / → shows home message.\n",
        "\n",
        "- Visit /user/pwskills → displays:\n",
        "\n"
      ],
      "metadata": {
        "id": "g9Am9TmHrvdu"
      }
    },
    {
      "cell_type": "code",
      "source": [
        "!pip install flask pyngrok\n"
      ],
      "metadata": {
        "colab": {
          "base_uri": "https://localhost:8080/"
        },
        "id": "0re8TOafu2Qz",
        "outputId": "faa07475-4961-4fc9-b210-13c23f43776e"
      },
      "execution_count": 32,
      "outputs": [
        {
          "output_type": "stream",
          "name": "stdout",
          "text": [
            "Requirement already satisfied: flask in /usr/local/lib/python3.12/dist-packages (3.1.2)\n",
            "Requirement already satisfied: pyngrok in /usr/local/lib/python3.12/dist-packages (7.3.0)\n",
            "Requirement already satisfied: blinker>=1.9.0 in /usr/local/lib/python3.12/dist-packages (from flask) (1.9.0)\n",
            "Requirement already satisfied: click>=8.1.3 in /usr/local/lib/python3.12/dist-packages (from flask) (8.2.1)\n",
            "Requirement already satisfied: itsdangerous>=2.2.0 in /usr/local/lib/python3.12/dist-packages (from flask) (2.2.0)\n",
            "Requirement already satisfied: jinja2>=3.1.2 in /usr/local/lib/python3.12/dist-packages (from flask) (3.1.6)\n",
            "Requirement already satisfied: markupsafe>=2.1.1 in /usr/local/lib/python3.12/dist-packages (from flask) (3.0.2)\n",
            "Requirement already satisfied: werkzeug>=3.1.0 in /usr/local/lib/python3.12/dist-packages (from flask) (3.1.3)\n",
            "Requirement already satisfied: PyYAML>=5.1 in /usr/local/lib/python3.12/dist-packages (from pyngrok) (6.0.2)\n"
          ]
        }
      ]
    },
    {
      "cell_type": "code",
      "source": [
        "from flask import Flask\n",
        "from pyngrok import ngrok\n",
        "\n",
        "app = Flask(__name__)\n",
        "\n",
        "# Ngrok setup\n",
        "public_url = ngrok.connect(5007)\n",
        "print(\"Click this link to open the app:\", public_url)\n",
        "\n",
        "# Home route\n",
        "@app.route(\"/\")\n",
        "def home():\n",
        "    return \"<h2>Welcome! Try /user/Pwskills in the URL.</h2>\"\n",
        "\n",
        "# Route with URL parameter\n",
        "@app.route(\"/user/<name>\")\n",
        "def user(name):\n",
        "    return f\"<h2>Hello, {name}! Welcome to your profile.</h2>\"\n",
        "\n",
        "# Run Flask app on 0.0.0.0 so ngrok can reach it\n",
        "app.run(port=5007, host=\"0.0.0.0\")\n"
      ],
      "metadata": {
        "colab": {
          "base_uri": "https://localhost:8080/"
        },
        "id": "mWR1lb7Jxvlg",
        "outputId": "4e2be81b-a839-49a3-caab-4e8c3d0a25f1"
      },
      "execution_count": 48,
      "outputs": [
        {
          "output_type": "stream",
          "name": "stdout",
          "text": [
            "Click this link to open the app: NgrokTunnel: \"https://a5cadb07d102.ngrok-free.app\" -> \"http://localhost:5007\"\n",
            " * Serving Flask app '__main__'\n",
            " * Debug mode: off\n"
          ]
        },
        {
          "output_type": "stream",
          "name": "stderr",
          "text": [
            "INFO:werkzeug:\u001b[31m\u001b[1mWARNING: This is a development server. Do not use it in a production deployment. Use a production WSGI server instead.\u001b[0m\n",
            " * Running on all addresses (0.0.0.0)\n",
            " * Running on http://127.0.0.1:5007\n",
            " * Running on http://172.28.0.12:5007\n",
            "INFO:werkzeug:\u001b[33mPress CTRL+C to quit\u001b[0m\n",
            "INFO:werkzeug:127.0.0.1 - - [13/Sep/2025 20:37:38] \"GET / HTTP/1.1\" 200 -\n",
            "INFO:werkzeug:127.0.0.1 - - [13/Sep/2025 20:37:39] \"\u001b[33mGET /favicon.ico HTTP/1.1\u001b[0m\" 404 -\n",
            "INFO:werkzeug:127.0.0.1 - - [13/Sep/2025 20:38:17] \"GET /user/pwskills HTTP/1.1\" 200 -\n"
          ]
        }
      ]
    },
    {
      "cell_type": "code",
      "source": [
        "from google.colab import files\n",
        "from IPython.display import Image"
      ],
      "metadata": {
        "id": "9ZQ0IxqZzc8n"
      },
      "execution_count": 49,
      "outputs": []
    },
    {
      "cell_type": "code",
      "source": [
        "uploaded = files.upload()"
      ],
      "metadata": {
        "colab": {
          "base_uri": "https://localhost:8080/",
          "height": 73
        },
        "id": "k-6GwaJWzee7",
        "outputId": "bfdae1ed-f58e-4dc5-d8a5-d6295fd2b2bd"
      },
      "execution_count": 50,
      "outputs": [
        {
          "output_type": "display_data",
          "data": {
            "text/plain": [
              "<IPython.core.display.HTML object>"
            ],
            "text/html": [
              "\n",
              "     <input type=\"file\" id=\"files-1be32a08-4607-4755-93bf-103195db184b\" name=\"files[]\" multiple disabled\n",
              "        style=\"border:none\" />\n",
              "     <output id=\"result-1be32a08-4607-4755-93bf-103195db184b\">\n",
              "      Upload widget is only available when the cell has been executed in the\n",
              "      current browser session. Please rerun this cell to enable.\n",
              "      </output>\n",
              "      <script>// Copyright 2017 Google LLC\n",
              "//\n",
              "// Licensed under the Apache License, Version 2.0 (the \"License\");\n",
              "// you may not use this file except in compliance with the License.\n",
              "// You may obtain a copy of the License at\n",
              "//\n",
              "//      http://www.apache.org/licenses/LICENSE-2.0\n",
              "//\n",
              "// Unless required by applicable law or agreed to in writing, software\n",
              "// distributed under the License is distributed on an \"AS IS\" BASIS,\n",
              "// WITHOUT WARRANTIES OR CONDITIONS OF ANY KIND, either express or implied.\n",
              "// See the License for the specific language governing permissions and\n",
              "// limitations under the License.\n",
              "\n",
              "/**\n",
              " * @fileoverview Helpers for google.colab Python module.\n",
              " */\n",
              "(function(scope) {\n",
              "function span(text, styleAttributes = {}) {\n",
              "  const element = document.createElement('span');\n",
              "  element.textContent = text;\n",
              "  for (const key of Object.keys(styleAttributes)) {\n",
              "    element.style[key] = styleAttributes[key];\n",
              "  }\n",
              "  return element;\n",
              "}\n",
              "\n",
              "// Max number of bytes which will be uploaded at a time.\n",
              "const MAX_PAYLOAD_SIZE = 100 * 1024;\n",
              "\n",
              "function _uploadFiles(inputId, outputId) {\n",
              "  const steps = uploadFilesStep(inputId, outputId);\n",
              "  const outputElement = document.getElementById(outputId);\n",
              "  // Cache steps on the outputElement to make it available for the next call\n",
              "  // to uploadFilesContinue from Python.\n",
              "  outputElement.steps = steps;\n",
              "\n",
              "  return _uploadFilesContinue(outputId);\n",
              "}\n",
              "\n",
              "// This is roughly an async generator (not supported in the browser yet),\n",
              "// where there are multiple asynchronous steps and the Python side is going\n",
              "// to poll for completion of each step.\n",
              "// This uses a Promise to block the python side on completion of each step,\n",
              "// then passes the result of the previous step as the input to the next step.\n",
              "function _uploadFilesContinue(outputId) {\n",
              "  const outputElement = document.getElementById(outputId);\n",
              "  const steps = outputElement.steps;\n",
              "\n",
              "  const next = steps.next(outputElement.lastPromiseValue);\n",
              "  return Promise.resolve(next.value.promise).then((value) => {\n",
              "    // Cache the last promise value to make it available to the next\n",
              "    // step of the generator.\n",
              "    outputElement.lastPromiseValue = value;\n",
              "    return next.value.response;\n",
              "  });\n",
              "}\n",
              "\n",
              "/**\n",
              " * Generator function which is called between each async step of the upload\n",
              " * process.\n",
              " * @param {string} inputId Element ID of the input file picker element.\n",
              " * @param {string} outputId Element ID of the output display.\n",
              " * @return {!Iterable<!Object>} Iterable of next steps.\n",
              " */\n",
              "function* uploadFilesStep(inputId, outputId) {\n",
              "  const inputElement = document.getElementById(inputId);\n",
              "  inputElement.disabled = false;\n",
              "\n",
              "  const outputElement = document.getElementById(outputId);\n",
              "  outputElement.innerHTML = '';\n",
              "\n",
              "  const pickedPromise = new Promise((resolve) => {\n",
              "    inputElement.addEventListener('change', (e) => {\n",
              "      resolve(e.target.files);\n",
              "    });\n",
              "  });\n",
              "\n",
              "  const cancel = document.createElement('button');\n",
              "  inputElement.parentElement.appendChild(cancel);\n",
              "  cancel.textContent = 'Cancel upload';\n",
              "  const cancelPromise = new Promise((resolve) => {\n",
              "    cancel.onclick = () => {\n",
              "      resolve(null);\n",
              "    };\n",
              "  });\n",
              "\n",
              "  // Wait for the user to pick the files.\n",
              "  const files = yield {\n",
              "    promise: Promise.race([pickedPromise, cancelPromise]),\n",
              "    response: {\n",
              "      action: 'starting',\n",
              "    }\n",
              "  };\n",
              "\n",
              "  cancel.remove();\n",
              "\n",
              "  // Disable the input element since further picks are not allowed.\n",
              "  inputElement.disabled = true;\n",
              "\n",
              "  if (!files) {\n",
              "    return {\n",
              "      response: {\n",
              "        action: 'complete',\n",
              "      }\n",
              "    };\n",
              "  }\n",
              "\n",
              "  for (const file of files) {\n",
              "    const li = document.createElement('li');\n",
              "    li.append(span(file.name, {fontWeight: 'bold'}));\n",
              "    li.append(span(\n",
              "        `(${file.type || 'n/a'}) - ${file.size} bytes, ` +\n",
              "        `last modified: ${\n",
              "            file.lastModifiedDate ? file.lastModifiedDate.toLocaleDateString() :\n",
              "                                    'n/a'} - `));\n",
              "    const percent = span('0% done');\n",
              "    li.appendChild(percent);\n",
              "\n",
              "    outputElement.appendChild(li);\n",
              "\n",
              "    const fileDataPromise = new Promise((resolve) => {\n",
              "      const reader = new FileReader();\n",
              "      reader.onload = (e) => {\n",
              "        resolve(e.target.result);\n",
              "      };\n",
              "      reader.readAsArrayBuffer(file);\n",
              "    });\n",
              "    // Wait for the data to be ready.\n",
              "    let fileData = yield {\n",
              "      promise: fileDataPromise,\n",
              "      response: {\n",
              "        action: 'continue',\n",
              "      }\n",
              "    };\n",
              "\n",
              "    // Use a chunked sending to avoid message size limits. See b/62115660.\n",
              "    let position = 0;\n",
              "    do {\n",
              "      const length = Math.min(fileData.byteLength - position, MAX_PAYLOAD_SIZE);\n",
              "      const chunk = new Uint8Array(fileData, position, length);\n",
              "      position += length;\n",
              "\n",
              "      const base64 = btoa(String.fromCharCode.apply(null, chunk));\n",
              "      yield {\n",
              "        response: {\n",
              "          action: 'append',\n",
              "          file: file.name,\n",
              "          data: base64,\n",
              "        },\n",
              "      };\n",
              "\n",
              "      let percentDone = fileData.byteLength === 0 ?\n",
              "          100 :\n",
              "          Math.round((position / fileData.byteLength) * 100);\n",
              "      percent.textContent = `${percentDone}% done`;\n",
              "\n",
              "    } while (position < fileData.byteLength);\n",
              "  }\n",
              "\n",
              "  // All done.\n",
              "  yield {\n",
              "    response: {\n",
              "      action: 'complete',\n",
              "    }\n",
              "  };\n",
              "}\n",
              "\n",
              "scope.google = scope.google || {};\n",
              "scope.google.colab = scope.google.colab || {};\n",
              "scope.google.colab._files = {\n",
              "  _uploadFiles,\n",
              "  _uploadFilesContinue,\n",
              "};\n",
              "})(self);\n",
              "</script> "
            ]
          },
          "metadata": {}
        },
        {
          "output_type": "stream",
          "name": "stdout",
          "text": [
            "Saving URL parameters.png to URL parameters.png\n"
          ]
        }
      ]
    },
    {
      "cell_type": "code",
      "source": [
        "Image('URL parameters.png')"
      ],
      "metadata": {
        "colab": {
          "base_uri": "https://localhost:8080/",
          "height": 696
        },
        "id": "CyLc0TulzgJ7",
        "outputId": "a1cb0d5a-2ecf-4449-d9a5-c427a57fc52c"
      },
      "execution_count": 51,
      "outputs": [
        {
          "output_type": "execute_result",
          "data": {
            "image/png": "[encoded data removed]",
            "text/plain": [
              "<IPython.core.display.Image object>"
            ]
          },
          "metadata": {},
          "execution_count": 51
        }
      ]
    }
  ]
}