{
  "nbformat": 4,
  "nbformat_minor": 0,
  "metadata": {
    "colab": {
      "provenance": []
    },
    "kernelspec": {
      "name": "python3",
      "display_name": "Python 3"
    },
    "language_info": {
      "name": "python"
    }
  },
  "cells": [
    {
      "cell_type": "markdown",
      "source": [
        "#Python Oops\n",
        "\n",
        "#Theory Questions And Ans"
      ],
      "metadata": {
        "id": "TRzq5oryE1fW"
      }
    },
    {
      "cell_type": "markdown",
      "source": [
        "Q1. What is Object-Oriented Programming (OOP)?\n",
        "\n",
        "-  Object-Oriented Programming (OOP) is a programming paradigm that organizes code into objects, which combine data (attributes) and functions (methods). It focuses on concepts like encapsulation, inheritance, polymorphism, and abstraction, making programs more reusable, scalable, and easier to maintain.\n",
        "\n",
        "Q2. What is a class in OOP?\n",
        "\n",
        "-  In OOP, a class is a blueprint or template for creating objects.\n",
        "It defines the attributes (data) and methods (functions) that the objects created from it will have.Objects are instances of a class.\n",
        "\n",
        "Q3. What is an object in OOP?\n",
        "\n",
        "-  In OOP, an object is an instance of a class.\n",
        "It represents a real-world entity with state (attributes/values) and behavior (methods/functions) defined by its class.\n",
        "\n",
        "Q4. What is the difference between abstraction and encapsulation?\n",
        "\n",
        "-  Abstraction is the process of hiding implementation details and showing only essential features (focus on *what* an object does).\n",
        "\n",
        "-  Encapsulation is wrapping data and methods into a single unit (class) and controlling access using access modifiers (focus on *how* the data is protected).\n",
        "\n",
        "Q5.  What are dunder methods in Python?\n",
        "\n",
        "-  Dunder methods (or magic methods) in Python are special methods with double underscores (e.g., `__init__`, `__str__`) that define how objects behave in different situations like creation, printing, or operations.\n",
        "\n",
        "Q6. Explain the concept of inheritance in OOP?\n",
        "\n",
        "-  Inheritance in OOP is a concept where one class (child/derived) can use the properties and methods of another class (parent/base), allowing code reuse and creating hierarchical relationships.\n",
        "\n",
        "Q7. What is polymorphism in OOP?\n",
        "\n",
        "-  Polymorphism in OOP allows the same function or method name to work in different ways depending on the object or context.\n",
        "\n",
        "Q8.  How is encapsulation achieved in Python?\n",
        "\n",
        "-  Encapsulation in Python is achieved by restricting direct access to variables using private (`__var`) or protected (`_var`) conventions and controlling access through getter and setter methods.\n",
        "\n",
        "Q9.  What is a constructor in Python?\n",
        "\n",
        "-  In Python, a constructor is a special method `__init__()` that is automatically called when an object is created, used to initialize the object’s attributes.\n",
        "\n",
        "Q10. What are class and static methods in Python?\n",
        "\n",
        "-  Class methods use @classmethod and take cls as a parameter, working with the class itself.\n",
        "-  Static methods use @staticmethod, don’t take self or cls, and act like normal functions inside a class.\n",
        "\n",
        "Q11. What is method overloading in Python?\n",
        "\n",
        "-  In Python, method overloading means defining multiple methods with the same name but different parameters.\n",
        "However, Python doesn’t support true overloading; the latest defined method overrides the previous ones, and we usually achieve it using default arguments or args.\n",
        "\n",
        "Q12. What is method overriding in OOP?\n",
        "\n",
        "-  Method overriding in OOP happens when a child class provides a new implementation of a method that is already defined in its parent class, allowing customized behavior.\n",
        "\n",
        "Q13. What is a property decorator in Python?\n",
        "\n",
        "-  In Python, the @property decorator is used to define a method as a read-only attribute, letting you access it like a variable while still using method logic behind the scenes.\n",
        "\n",
        "Q14.  Why is polymorphism important in OOP?\n",
        "\n",
        "-  Polymorphism is important in OOP because it allows a single interface to handle different data types or classes, making code more flexible, reusable, and easier to maintain.\n",
        "\n",
        "Q15. What is an abstract class in Python?\n",
        "\n",
        "-  An abstract class in Python is a class that cannot be instantiated directly and may contain one or more abstract methods (declared but not implemented).\n",
        "It is defined using the abc module and serves as a blueprint for other classes.\n",
        "\n",
        "Q16. What are the advantages of OOP?\n",
        "\n",
        "-  The main advantages of OOP are:\n",
        "\n",
        "1. Reusability - Code can be reused through inheritance.\n",
        "2. Modularity - Programs are divided into classes/objects, making them organized.\n",
        "3. Scalability - Easier to expand and manage large projects.\n",
        "4. Encapsulation - Protects data by restricting direct access.\n",
        "5. Polymorphism - Same interface can work with different data types.\n",
        "6. Abstraction - Hides complexity, showing only essential details.\n",
        "\n",
        "Q17. What is the difference between a class variable and an instance variable?\n",
        "\n",
        "-  A class variable is shared across all objects of a class, while an instance variable belongs only to a specific object and can have different values for each instance.\n",
        "\n",
        "Q18.  What is multiple inheritance in Python?\n",
        "\n",
        "-  Multiple inheritance in Python means a class can inherit from more than one parent class, allowing it to use properties and methods from all parent classes.\n",
        "\n",
        "Q19. Explain the purpose of ‘’__str__’ and ‘__repr__’ ‘ methods in Python.\n",
        "\n",
        "-  In Python:\n",
        "\n",
        "-  __str__: Defines a human-readable string representation of an object (used with print()).\n",
        "- __repr__: Defines an unambiguous string representation, mainly for developers (used in the interpreter).\n",
        "\n",
        "  If __str__ is not defined, __repr__ is used as a fallback.\n",
        "\n",
        " Q20. What is the significance of the ‘super()’ function in Python?\n",
        "\n",
        " -  The super() function in Python calls a parent class’s method, helping reuse code and handle multiple inheritance properly.\n",
        "\n",
        " Q21.  What is the significance of the __del__ method in Python?\n",
        "\n",
        " -  The __del__ method in Python is a destructor that is called when an object is about to be destroyed, used to release resources or perform cleanup tasks.\n",
        "\n",
        " Q22. What is the difference between @staticmethod and @classmethod in Python?\n",
        "\n",
        " -  @staticmethod: Doesn’t take self or cls; acts like a normal function inside a class.\n",
        "-  @classmethod: Takes cls as a parameter and works with the class itself, not instances.\n",
        "\n",
        "Q23. How does polymorphism work in Python with inheritance?\n",
        "\n",
        "-  In Python, polymorphism with inheritance works when a child class overrides a parent class method, but both share the same method name.\n",
        "When called, Python decides which version to run based on the object’s class, allowing the same interface to behave differently.\n",
        "\n",
        "Q24. What is method chaining in Python OOP?\n",
        "\n",
        "-  Method chaining in Python OOP is when multiple methods are called in a single line on the same object, because each method returns the object itself (return self).\n",
        "Example: obj.method1().method2().method3().\n",
        "\n",
        "Q25. What is the purpose of the __call__ method in Python?\n",
        "\n",
        "-  The __call__ method in Python lets an object be called like a function.\n",
        "If a class defines __call__, its instances can be used with parentheses (), executing the code inside the method.\n",
        "\n",
        "\n",
        "\n",
        "\n",
        "\n",
        "\n",
        "\n",
        "\n",
        "\n",
        "\n",
        "\n",
        "\n",
        "\n",
        "\n",
        "\n",
        "\n",
        "\n",
        "\n",
        "\n",
        "  "
      ],
      "metadata": {
        "id": "0h0Bfr8OFJ7v"
      }
    },
    {
      "cell_type": "markdown",
      "source": [
        "# Practical Questions And Ans\n"
      ],
      "metadata": {
        "id": "sH1otl4iiu00"
      }
    },
    {
      "cell_type": "markdown",
      "source": [
        "Q1.  Create a parent class Animal with a method speak() that prints a generic message. Create a child class Dog\n",
        "that overrides the speak() method to print \"Bark!\""
      ],
      "metadata": {
        "id": "OZEBF7r5i-G0"
      }
    },
    {
      "cell_type": "code",
      "source": [
        "class Animal:\n",
        "   def speak(self):\n",
        "    print(\"this animal make a sound\")\n",
        "\n",
        "class Dog(Animal):\n",
        "  def speak(self):\n",
        "    print(\"Bark!\")\n",
        "\n",
        "a =Animal()\n",
        "a.speak()\n",
        "\n",
        "d = Dog()\n",
        "d.speak()\n"
      ],
      "metadata": {
        "colab": {
          "base_uri": "https://localhost:8080/"
        },
        "id": "raqZv2h6tWAX",
        "outputId": "317b29ac-f10e-4e4f-be4d-bd659290b3e4"
      },
      "execution_count": null,
      "outputs": [
        {
          "output_type": "stream",
          "name": "stdout",
          "text": [
            "this animal make a sound\n",
            "Bark!\n"
          ]
        }
      ]
    },
    {
      "cell_type": "markdown",
      "source": [
        "Q2.  Write a program to create an abstract class Shape with a method area(). Derive classes Circle and Rectangle from it and implement the area() method in both."
      ],
      "metadata": {
        "id": "jAnQc0Gm0eAY"
      }
    },
    {
      "cell_type": "code",
      "source": [
        "from abc import ABC, abstractmethod\n",
        "import math\n",
        "\n",
        "class shape(ABC):\n",
        "  @abstractmethod\n",
        "  def area(self):\n",
        "    pass\n",
        "\n",
        "class Circle(shape):\n",
        "  def __init__(self, r): self.r = r\n",
        "  def area(self): return math.pi * self.r**2\n",
        "\n",
        "class Rectangle(shape):\n",
        "  def __init__(self, length, w): self.length, self.w = length, w\n",
        "  def area(self): return self.length * self.w\n",
        "\n",
        "print(\"Circle Area:\", Circle(5).area())\n",
        "print(\"Rectangle Area:\", Rectangle(4, 6).area())"
      ],
      "metadata": {
        "colab": {
          "base_uri": "https://localhost:8080/"
        },
        "id": "mn4uSve40nnn",
        "outputId": "0566c98d-3e01-4734-c930-df2c00b8ba7c"
      },
      "execution_count": null,
      "outputs": [
        {
          "output_type": "stream",
          "name": "stdout",
          "text": [
            "Circle Area: 78.53981633974483\n",
            "Rectangle Area: 24\n"
          ]
        }
      ]
    },
    {
      "cell_type": "markdown",
      "source": [
        "Q3.  Implement a multi-level inheritance scenario where a class Vehicle has an attribute type. Derive a class Car and further derive a class ElectricCar that adds a battery attribute."
      ],
      "metadata": {
        "id": "loOpU1cB5IxP"
      }
    },
    {
      "cell_type": "code",
      "source": [
        "class Vehicle:\n",
        "  def __init__(self, v_type):\n",
        "      self.v_type = v_type\n",
        "\n",
        "class Car(Vehicle):\n",
        "  def __init__(self, v_type, brand):\n",
        "    super().__init__(v_type)\n",
        "    self.brand = brand\n",
        "\n",
        "class ElectricCar(Car):\n",
        "  def __init__(self, V_type, brand, battery):\n",
        "    super().__init__(V_type, brand)\n",
        "    self.battery = battery\n",
        "\n",
        "  def get_info(self):\n",
        "      print(f\"Type: {self.v_type}, brand: {self.brand}, Battery: {self.battery} kwh\")\n",
        "\n",
        "e1 = ElectricCar(\"Four Wheeler\", \"Tesla\", \"85 Kwh\")\n",
        "e1.get_info()"
      ],
      "metadata": {
        "id": "9xHD17GW5S9a",
        "colab": {
          "base_uri": "https://localhost:8080/"
        },
        "outputId": "5e4c1c93-b037-4bec-fb98-6b981dd5c2ce"
      },
      "execution_count": 35,
      "outputs": [
        {
          "output_type": "stream",
          "name": "stdout",
          "text": [
            "Type: Four Wheeler, brand: Tesla, Battery: 85 Kwh kwh\n"
          ]
        }
      ]
    },
    {
      "cell_type": "markdown",
      "source": [
        "Q4.  Demonstrate polymorphism by creating a base class Bird with a method fly(). Create two derived classes Sparrow and Penguin that override the fly() method."
      ],
      "metadata": {
        "id": "5RPtoKSkAQuo"
      }
    },
    {
      "cell_type": "code",
      "source": [
        "class Bird:\n",
        "  def fly(self):\n",
        "    print(\"Birds can fly in general.\")\n",
        "\n",
        "class Sparrow(Bird):\n",
        "  def fly(self):\n",
        "    def fly(self):\n",
        "      print(\"Sparrow can fly high in the sky.\")\n",
        "\n",
        "class Penguin(Bird):\n",
        "  def fly(self):\n",
        "    print(\"Penguins cannot fly they swim instead.\")\n",
        "\n",
        "birds = [Sparrow(), Penguin()]\n",
        "for b in birds:\n",
        "  b.fly()"
      ],
      "metadata": {
        "colab": {
          "base_uri": "https://localhost:8080/"
        },
        "id": "xS57sHdqAZkY",
        "outputId": "dc24ff15-7a23-42df-ee24-5fe4d1962afe"
      },
      "execution_count": 14,
      "outputs": [
        {
          "output_type": "stream",
          "name": "stdout",
          "text": [
            "Penguins cannot fly they swim instead.\n"
          ]
        }
      ]
    },
    {
      "cell_type": "markdown",
      "source": [
        "Q5.  Write a program to demonstrate encapsulation by creating a class BankAccount with private attributes balance and methods to deposit, withdraw, and check balance."
      ],
      "metadata": {
        "id": "TUnJSmHYBFwn"
      }
    },
    {
      "cell_type": "code",
      "source": [
        "class BankAccount:\n",
        "    def __init__(self, initial_balance=0):\n",
        "        self.__balance = initial_balance\n",
        "\n",
        "    def deposit(self, amount):\n",
        "        if amount > 0:\n",
        "            self.__balance += amount\n",
        "            print(f\"Deposited: {amount}\")\n",
        "        else:\n",
        "            print(\"Deposit amount must be positive.\")\n",
        "\n",
        "    def withdraw(self, amount):\n",
        "        if 0 < amount <= self.__balance:\n",
        "            self.__balance -= amount\n",
        "            print(f\"withdrew: {amount}\")\n",
        "        else:\n",
        "            print(\"Insufficient balance or invalid amount.\")\n",
        "    def check_balance(self):\n",
        "        print(f\"current_balance: {self.__balance}\")\n",
        "\n",
        "acc = BankAccount(1000)\n",
        "acc.deposit(500)\n",
        "acc.withdraw(200)\n",
        "acc.check_balance()"
      ],
      "metadata": {
        "colab": {
          "base_uri": "https://localhost:8080/"
        },
        "id": "Ioz533HJNnWR",
        "outputId": "c8c1efc0-0126-452f-f188-9904f9f90ff3"
      },
      "execution_count": 15,
      "outputs": [
        {
          "output_type": "stream",
          "name": "stdout",
          "text": [
            "Deposited: 500\n",
            "withdrew: 200\n",
            "current_balance: 1300\n"
          ]
        }
      ]
    },
    {
      "cell_type": "markdown",
      "source": [
        "Q6. . Demonstrate runtime polymorphism using a method play() in a base class Instrument. Derive classes Guitar and Piano that implement their own version of play()."
      ],
      "metadata": {
        "id": "PoOPZVK_TV6r"
      }
    },
    {
      "cell_type": "code",
      "source": [
        "class Instrument:\n",
        "  def play(self):\n",
        "    print(\"Playing an instrument...\")\n",
        "\n",
        "class Guitar(Instrument):\n",
        "  def play(self):\n",
        "      print(\"Strumming the guitar\")\n",
        "\n",
        "class Piano(Instrument):\n",
        "  def play(self):\n",
        "    print(\"Playing the piano\")\n",
        "\n",
        "instruments = [Guitar(), Piano()]\n",
        "\n",
        "for inst in instruments:\n",
        "  inst.play()\n",
        "\n"
      ],
      "metadata": {
        "colab": {
          "base_uri": "https://localhost:8080/"
        },
        "id": "P-GCR1w-Thm8",
        "outputId": "efce12c9-6136-4463-f6c8-3f6ef464a590"
      },
      "execution_count": null,
      "outputs": [
        {
          "output_type": "stream",
          "name": "stdout",
          "text": [
            "Strumming the guitar\n",
            "Playing the piano\n"
          ]
        }
      ]
    },
    {
      "cell_type": "markdown",
      "source": [
        "Q7.  Create a class MathOperations with a class method add_numbers() to add two numbers and a static method subtract_numbers() to subtract two numbers."
      ],
      "metadata": {
        "id": "fEOXHdQEV8ZK"
      }
    },
    {
      "cell_type": "code",
      "source": [
        "class MathOperations:\n",
        "  @classmethod\n",
        "  def add_numbers(cls, a, b):\n",
        "      return a + b\n",
        "\n",
        "  @staticmethod\n",
        "  def subtract_numbers(a, b):\n",
        "      return a - b\n",
        "print(\"Addition:\", MathOperations.add_numbers(10, 5))\n",
        "print(\"Subtraction:\", MathOperations.subtract_numbers(10, 5))\n"
      ],
      "metadata": {
        "colab": {
          "base_uri": "https://localhost:8080/"
        },
        "id": "taCk5rkgWFzm",
        "outputId": "2b5ccb12-e5a7-4cba-83ed-2dff95a7eb93"
      },
      "execution_count": null,
      "outputs": [
        {
          "output_type": "stream",
          "name": "stdout",
          "text": [
            "Addition: 15\n",
            "Subtraction: 5\n"
          ]
        }
      ]
    },
    {
      "cell_type": "markdown",
      "source": [
        "Q8. Implement a class Person with a class method to count the total number of persons created."
      ],
      "metadata": {
        "id": "k4dPXEfdYDAL"
      }
    },
    {
      "cell_type": "code",
      "source": [
        "class person:\n",
        "    count = 0\n",
        "\n",
        "    def __init__(self, name):\n",
        "        self.name = name\n",
        "        person.count += 1\n",
        "\n",
        "    @classmethod\n",
        "    def total_persons(cls):\n",
        "        return cls.count\n",
        "\n",
        "p1 = person(\"Rahul\")\n",
        "p2 = person(\"Amit\")\n",
        "p3 = person(\"Raju\")\n",
        "\n",
        "print(\"Total persons created:\", person.total_persons())\n"
      ],
      "metadata": {
        "colab": {
          "base_uri": "https://localhost:8080/"
        },
        "id": "4CKtArEkYMN8",
        "outputId": "4ba90ca8-dc21-4c97-9c78-5b290eb7d2fd"
      },
      "execution_count": null,
      "outputs": [
        {
          "output_type": "stream",
          "name": "stdout",
          "text": [
            "Total persons created: 3\n"
          ]
        }
      ]
    },
    {
      "cell_type": "markdown",
      "source": [
        "Q9.  Write a class Fraction with attributes numerator and denominator. Override the str method to display the fraction as \"numerator/denominator\"."
      ],
      "metadata": {
        "id": "Vyly4-B7aeO0"
      }
    },
    {
      "cell_type": "code",
      "source": [
        "class Fraction:\n",
        "    def __init__(self, numerator, denominator):\n",
        "        self.numerator = numerator\n",
        "        self.denominator = denominator\n",
        "\n",
        "    def __str__(self):\n",
        "        return f\"{self.numerator}/{self.denominator}\"\n",
        "\n",
        "f1 = Fraction(3, 4)\n",
        "f2 = Fraction(5, 8)\n",
        "\n",
        "print(f1)\n",
        "print(f2)"
      ],
      "metadata": {
        "colab": {
          "base_uri": "https://localhost:8080/"
        },
        "id": "DRD2L2rqbBoI",
        "outputId": "e4cd449f-b676-4785-a4c5-89b4bdb9a48c"
      },
      "execution_count": null,
      "outputs": [
        {
          "output_type": "stream",
          "name": "stdout",
          "text": [
            "3/4\n",
            "5/8\n"
          ]
        }
      ]
    },
    {
      "cell_type": "markdown",
      "source": [
        "Q10.  Demonstrate operator overloading by creating a class Vector and overriding the add method to add two vectors."
      ],
      "metadata": {
        "id": "oJIp1rYDeFPB"
      }
    },
    {
      "cell_type": "code",
      "source": [
        "class Vector:\n",
        "  def __init__(self, x, y):\n",
        "    self.x = x\n",
        "    self.y = y\n",
        "\n",
        "  def __add__(self, other):\n",
        "      return Vector(self.x + other.x, self.y + other.y)\n",
        "\n",
        "  def __str__(self):\n",
        "          return f\"Vector({self.x}, {self.y})\"\n",
        "\n",
        "v1 = Vector(2, 4)\n",
        "v2 = Vector(5, -3)\n",
        "v3 = v1 + v2\n",
        "\n",
        "print(v1)\n",
        "print(v2)\n",
        "print(v3)"
      ],
      "metadata": {
        "id": "VSqQCgzOeOjG",
        "colab": {
          "base_uri": "https://localhost:8080/"
        },
        "outputId": "9313457d-291e-4e88-a7a6-6e23a4ca5a8b"
      },
      "execution_count": null,
      "outputs": [
        {
          "output_type": "stream",
          "name": "stdout",
          "text": [
            "Vector(2, 4)\n",
            "Vector(5, -3)\n",
            "Vector(7, 1)\n"
          ]
        }
      ]
    },
    {
      "cell_type": "markdown",
      "source": [
        "Q11.  Create a class Person with attributes name and age. Add a method greet() that prints \"Hello, my name is {name} and I am {age} years old.\""
      ],
      "metadata": {
        "id": "SpS2Yoydiw3H"
      }
    },
    {
      "cell_type": "code",
      "source": [
        "class Person:\n",
        "    def __init__(self, name, age):\n",
        "        self.name = name\n",
        "        self.age = age\n",
        "\n",
        "    def greet(self):\n",
        "        print(f\"Hello, my name is {self.name} and I am {self.age} years old\")\n",
        "\n",
        "p1 = Person(\"Yash\", 24)\n",
        "p1.greet()"
      ],
      "metadata": {
        "colab": {
          "base_uri": "https://localhost:8080/"
        },
        "id": "eEEY0wFPi4nV",
        "outputId": "176b4914-9c69-4595-e47d-a001ccf2b7d1"
      },
      "execution_count": null,
      "outputs": [
        {
          "output_type": "stream",
          "name": "stdout",
          "text": [
            "Hello, my name is Yash and I am 24 years old\n"
          ]
        }
      ]
    },
    {
      "cell_type": "markdown",
      "source": [
        "Q12. Implement a class Student with attributes name and grades. Create a method average_grade() to compute the average of the grades."
      ],
      "metadata": {
        "id": "bHezDdkGom0e"
      }
    },
    {
      "cell_type": "code",
      "source": [
        "class Student:\n",
        "    def __init__(self, name, grades):\n",
        "        self.name = name\n",
        "        self.grades = grades\n",
        "\n",
        "    def average_grade(self):\n",
        "        if len(self.grades) == 0:\n",
        "            return 0\n",
        "        return sum(self.grades) / len(self.grades)\n",
        "\n",
        "s1 = Student(\"Aman\", [85, 90, 78, 92])\n",
        "s2 = Student(\"Neha\", [70, 80, 65])\n",
        "\n",
        "print(f\"{s1.name}'s average grade: {s1.average_grade()}\")\n",
        "print(f\"{s2.name}'s average grade: {s2.average_grade()}\")"
      ],
      "metadata": {
        "colab": {
          "base_uri": "https://localhost:8080/"
        },
        "id": "DuoYq-QFovIs",
        "outputId": "8722b82d-9738-408f-b673-3d95132784f4"
      },
      "execution_count": null,
      "outputs": [
        {
          "output_type": "stream",
          "name": "stdout",
          "text": [
            "Aman's average grade: 86.25\n",
            "Neha's average grade: 71.66666666666667\n"
          ]
        }
      ]
    },
    {
      "cell_type": "markdown",
      "source": [
        "Q13.  Create a class Rectangle with methods set_dimensions() to set the dimensions and area() to calculate the area."
      ],
      "metadata": {
        "id": "bNndRb8crC4c"
      }
    },
    {
      "cell_type": "code",
      "source": [
        "class Rectangle:\n",
        "    def __init__(self):\n",
        "      self.length = 0\n",
        "      self.width = 0\n",
        "\n",
        "    def set_dimensions(self, length, width):\n",
        "        self.length = length\n",
        "        self.width = width\n",
        "\n",
        "    def area(self):\n",
        "        return self.length * self.width\n",
        "\n",
        "rect = Rectangle()\n",
        "rect.set_dimensions(10, 5)\n",
        "print(\"Area of rectangle:\", rect.area())"
      ],
      "metadata": {
        "colab": {
          "base_uri": "https://localhost:8080/"
        },
        "id": "ADkMvwNcrpum",
        "outputId": "6b26ae7b-e4f3-42c8-f483-d8b60aa92769"
      },
      "execution_count": null,
      "outputs": [
        {
          "output_type": "stream",
          "name": "stdout",
          "text": [
            "Area of rectangle: 50\n"
          ]
        }
      ]
    },
    {
      "cell_type": "markdown",
      "source": [
        "Q14. Create a class Employee with a method calculate_salary() that computes the salary based on hours worked and hourly rate. Create a derived class Manager that adds a bonus to the salary."
      ],
      "metadata": {
        "id": "-CSwk0-RtdRv"
      }
    },
    {
      "cell_type": "code",
      "source": [
        "class Employee:\n",
        "    def __init__(self, name, hours_worked, hourly_rate):\n",
        "        self.name = name\n",
        "        self.hours_worked = hours_worked\n",
        "        self.hourly_rate = hourly_rate\n",
        "\n",
        "    def calculate_salary(self):\n",
        "        return self.hours_worked * self.hourly_rate\n",
        "\n",
        "class Manager(Employee):\n",
        "    def __init__(self, name, hours_worked, hourly_rate, bonus):\n",
        "        super().__init__(name, hours_worked, hourly_rate)\n",
        "        self.bonus = bonus\n",
        "\n",
        "    def calculate_salary(self):\n",
        "        base_salary = super().calculate_salary()\n",
        "        return base_salary + self.bonus\n",
        "\n",
        "emp1 = Employee(\"Amit\", 40, 200)\n",
        "mgr1 = Manager(\"Neha\", 40, 200, 500)\n",
        "\n",
        "print(f\"{emp1.name}'s Salary: {emp1.calculate_salary()}\")\n",
        "print(f\"{mgr1.name}'s Salary: {mgr1.calculate_salary()}\")"
      ],
      "metadata": {
        "colab": {
          "base_uri": "https://localhost:8080/"
        },
        "id": "dqG-4YZjtlpl",
        "outputId": "e4faf4cb-a58c-470d-ab86-f7274394f52c"
      },
      "execution_count": 21,
      "outputs": [
        {
          "output_type": "stream",
          "name": "stdout",
          "text": [
            "Amit's Salary: 8000\n",
            "Neha's Salary: 8500\n"
          ]
        }
      ]
    },
    {
      "cell_type": "markdown",
      "source": [
        "Q15.  Create a class Product with attributes name, price, and quantity. Implement a method total_price() that calculates the total price of the product."
      ],
      "metadata": {
        "id": "9LrlIxHj6bqi"
      }
    },
    {
      "cell_type": "code",
      "source": [
        "class Product:\n",
        "  def __init__(self, name, price, quantity):\n",
        "      self.name = name\n",
        "      self.price = price\n",
        "      self.quantity = quantity\n",
        "\n",
        "  def total_price(self):\n",
        "      return self.price * self.quantity\n",
        "\n",
        "p1 = Product(\"Laptop\", 5000, 2)\n",
        "p2 = Product(\"Mobile\", 15000, 3)\n",
        "\n",
        "print(f\"{p1.name} total price: {p1.total_price()}\")\n",
        "print(f\"{p2.name} total price: {p2.total_price()}\")"
      ],
      "metadata": {
        "colab": {
          "base_uri": "https://localhost:8080/"
        },
        "id": "fr8INekq6kI9",
        "outputId": "e3841d4f-732a-407c-9b70-ec6649936dc8"
      },
      "execution_count": null,
      "outputs": [
        {
          "output_type": "stream",
          "name": "stdout",
          "text": [
            "Laptop total price: 10000\n",
            "Mobile total price: 45000\n"
          ]
        }
      ]
    },
    {
      "cell_type": "markdown",
      "source": [
        "Q16. Create a class Animal with an abstract method sound(). Create two derived classes Cow and Sheep that implement the sound() method."
      ],
      "metadata": {
        "id": "QxzGnctH8lBF"
      }
    },
    {
      "cell_type": "code",
      "source": [
        "from abc import ABC, abstractmethod\n",
        "\n",
        "class Animal(ABC):\n",
        "  @abstractmethod\n",
        "  def sound(self):\n",
        "      pass\n",
        "\n",
        "class Cow(Animal):\n",
        "  def sound(self):\n",
        "      return\"Moo\"\n",
        "\n",
        "class Sheep(Animal):\n",
        "    def sound(self):\n",
        "        return\"Baa\"\n",
        "\n",
        "animal = [Cow(), Sheep()]\n",
        "\n",
        "for a in animal:\n",
        "    print(f\"{a.__class__.__name__} sound: {a.sound()}\")"
      ],
      "metadata": {
        "colab": {
          "base_uri": "https://localhost:8080/"
        },
        "id": "LOzChVJy8sst",
        "outputId": "5db387f5-64d6-4185-e157-5a8fa0e47290"
      },
      "execution_count": null,
      "outputs": [
        {
          "output_type": "stream",
          "name": "stdout",
          "text": [
            "Cow sound: Moo\n",
            "Sheep sound: Baa\n"
          ]
        }
      ]
    },
    {
      "cell_type": "markdown",
      "source": [
        "Q17. Create a class Book with attributes title, author, and year_published. Add a method get_book_info() that returns a formatted string with the book's details."
      ],
      "metadata": {
        "id": "dT3dYEJN-oQh"
      }
    },
    {
      "cell_type": "code",
      "source": [
        "class Book:\n",
        "  def __init__(self, title, author, year_published):\n",
        "      self.title = title\n",
        "      self.author = author\n",
        "      self.year_published = year_published\n",
        "\n",
        "  def get_book_info(self):\n",
        "      return f\"{self.title} by {self.author}, published in {self.year_published}\"\n",
        "\n",
        "b1 = Book(\"The Alchemist\", \"Paulo Coelho\", 1988)\n",
        "b2 = Book(\"Wings of fire\", \"A. P. J. Abdul Kalam\", 1999)\n",
        "\n",
        "print(b1.get_book_info())\n",
        "print(b2.get_book_info())"
      ],
      "metadata": {
        "colab": {
          "base_uri": "https://localhost:8080/"
        },
        "id": "1tT60nzX-wiZ",
        "outputId": "87b626bc-aeb7-444c-c657-0ef544e29015"
      },
      "execution_count": 24,
      "outputs": [
        {
          "output_type": "stream",
          "name": "stdout",
          "text": [
            "The Alchemist by Paulo Coelho, published in 1988\n",
            "Wings of fire by A. P. J. Abdul Kalam, published in 1999\n"
          ]
        }
      ]
    },
    {
      "cell_type": "markdown",
      "source": [
        "Q18.  Create a class House with attributes address and price. Create a derived class Mansion that adds an attribute number_of_rooms."
      ],
      "metadata": {
        "id": "90JvW64mBVgH"
      }
    },
    {
      "cell_type": "code",
      "source": [
        "class House:\n",
        "  def __init__(self, address, price):\n",
        "      self.address = address\n",
        "      self.price = price\n",
        "\n",
        "class Mansion(House):\n",
        "  def __init__(self, address, price, number_of_rooms):\n",
        "      super().__init__(address, price)\n",
        "      self.rooms = number_of_rooms\n",
        "\n",
        "h = House(\"123 Main St\", 500000)\n",
        "m = Mansion(\"456 Luxury Ave\", 20000000, 10)\n",
        "\n",
        "print(h.__dict__)\n",
        "print(m.__dict__)"
      ],
      "metadata": {
        "colab": {
          "base_uri": "https://localhost:8080/"
        },
        "id": "wpub1thP36IO",
        "outputId": "b6e704b0-cfeb-424f-d19c-4a3e23e1db72"
      },
      "execution_count": 4,
      "outputs": [
        {
          "output_type": "stream",
          "name": "stdout",
          "text": [
            "{'address': '123 Main St', 'price': 500000}\n",
            "{'address': '456 Luxury Ave', 'price': 20000000, 'rooms': 10}\n"
          ]
        }
      ]
    }
  ]
}