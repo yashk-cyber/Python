{
  "nbformat": 4,
  "nbformat_minor": 0,
  "metadata": {
    "colab": {
      "provenance": []
    },
    "kernelspec": {
      "name": "python3",
      "display_name": "Python 3"
    },
    "language_info": {
      "name": "python"
    }
  },
  "cells": [
    {
      "cell_type": "markdown",
      "source": [
        "#Data Types and  Structure\n"
      ],
      "metadata": {
        "id": "bwdpzoxojEsD"
      }
    },
    {
      "cell_type": "markdown",
      "source": [
        "# Theory Question Ans"
      ],
      "metadata": {
        "id": "ZyxCYgz2kLJy"
      }
    },
    {
      "cell_type": "markdown",
      "source": [
        "Q1.  What are data structures, and why are they important?\n",
        "\n",
        "Ans  - Data structures are organized ways to store, manage, and retrieve data efficiently. They are essential for optimizing performance, enabling quick data access, and solving complex problems effectively.\n",
        "\n",
        "Q2. Explain the difference between mutable and immutable data types with examples.\n",
        "\n",
        "Ans - Mutable data types can be changed after creation, while immutable ones cannot. For example, **lists** are mutable (`[1, 2, 3]` can be modified), but **tuples** are immutable (`(1, 2, 3)` cannot be changed after creation).\n",
        "\n",
        "Q3. What are the main differences between lists and tuples in Python?\n",
        "\n",
        "Ans -   The main dffrence between List and Tuples are:-\n",
        "1) List: - Mutable, dynamic size, slower, use [], more memory.\n",
        "\n",
        "2) Tuples: - -  Immutable, fixed size, faster, use (), memory-efficient.\n",
        "- Lists suit frequent edits; tuples suit fixed, read‑only data.\n",
        "\n",
        "Q4. Descibe how dictionaries store data.\n",
        "\n",
        "-  A dictionary uses a hash table where each key is hashed to find a bucket storing its key–value pair. Collisions are resolved via open addressing. Operations are average O(1), and from Python 3.7+, insertion order is preserved.\n",
        "\n",
        "Q5. Why might you use a set instead of a list in Python?\n",
        "\n",
        "-  A set stores unique, unordered elements and offers faster lookups on average due to its hash‑table implementation. Ideal when you need to remove duplicates, test membership quickly, or perform set operations like union/intersection efficiently.\n",
        "\n",
        "Q6. What is a string in Python, and how is it different from a list?\n",
        "-  string in python\n",
        "\n",
        "An immutable sequence of characters enclosed in quotes (`'...'` or `\"...\"`). Supports indexing, slicing, and various text methods, but changes create a new string.  \n",
        "\n",
        "-  Diffrence from a list\n",
        "\n",
        "Lists are mutable, can hold mixed data types, use `[]`, and allow in‑place modifications, unlike strings.\n",
        "\n",
        "Q7. How do tuples ensure data integrity in Python?\n",
        "\n",
        "- In Python, tuples are immutable sequences meaning their elements cannot be altered after creation. This immutability prevents accidental modification, ensuring data remains consistent and reliable — ideal for fixed collections that must stay unchanged during execution.\n",
        "\n",
        "Q8. What is a hash table, and how does it relate to dictionaries in Python?\n",
        "\n",
        "\n",
        "-  A hash table is a data structure that stores key - value pairs using a hash function to map keys to memory locations, enabling fast lookup insertions, and deletions. In Python, dictionaries are built on hash tables, allowing quick data access by computing a key's hash and retrieving its value efficiently.\n",
        "\n",
        "Q9.  Can lists contain different data types in Python?\n",
        "\n",
        "-  Yes, Python lists are heterogeneous, meaning they can store elements of different data types together, such as integers, strings, floats, or even other lists, all within a single list. This flexibility makes them highly versatile for varied data.\n",
        "\n",
        "Q10. Explain why strings are immutable in Python.\n",
        "\n",
        "-  Strings are immutable to enhance security consistency, and performance .Once created, they cannot be altered—any modification creates a new string—preventing unintended changes and optimizing memory usage.\n",
        "\n",
        "Q11. What advantages do dictionaries offer over lists for certain tasks?\n",
        "\n",
        "-  Dictionaries in Python allow fast access to values via unique keys, avoiding slow linear searches in lists. They support efficient insertions, deletions, and lookups, and naturally model key - value relationships for clearer, more direct data mapping.\n",
        "\n",
        "Q12. Describe a scenario where using a tuple would be preferable over a list.\n",
        "\n",
        "-  A tuple is ideal for storing fixed unchangeble data, such as GPS coordinates (28.4595 , 75.0266) for Gurugram. Since tuples are immutable, the values remain protected from accidental modification, ensuring long-term data integrity.\n",
        "\n",
        "Q13. How do sets handle duplicate values in Python?\n",
        "\n",
        "-  Sets automatically remove duplicates because they store elements in a hash table where each value must have a unique hash. If you try adding an existing element, it's simply ignored — keeping every item unique.\n",
        "\n",
        "Q14. How does the “in” keyword work differently for lists and dictionaries?\n",
        "\n",
        "-  in keyword — Lists vs Dictionaries in Python\n",
        "\n",
        "- Lists → Checks if a Value exists (linear search).  \n",
        "- Dictionaries → Checks if a key exists (hash table lookup).  \n",
        "- For values in dict, use: val in Dict.value()\n",
        "- Dict lookup is generally faster due to hashing.  \n",
        "\n",
        "Q15. Can you modify the elements of a tuple? Explain why or why not.\n",
        "\n",
        "- Tuple in python are immutable — once created, their elements can’t be changed, added, or removed. This immutability is by design, making tuples hashable (when containing only immutable types) and safe for use as dictionary keys. To “change” data, you must create a new tuple instead.\n",
        "\n",
        "Q16.  What is a nested dictionary, and give an example of its use case?\n",
        "\n",
        "- Nested Dictionary — a dictionary containing other dictionaries as values. It’s useful for representing complex, structured data.  \n",
        "\n",
        "Example :- Storing student records:\n",
        "\n",
        "students = {\"Alice\": {\"age\": 20, \"grade\": \"A\"}, \"Bob\": {\"age\": 22, \"grade\": \"B\"}}\n",
        "\n",
        "Q17. Describe the time complexity of accessing elements in a dictionary\n",
        "\n",
        "-  Dictionary accessing complexity\n",
        "\n",
        "\n",
        "Accessing elements by key in a Python dictionary is O(1) on average (due to hashing), but O(n) in worst-case scenarios like excessive hash collisions.\n",
        "\n",
        "Q18. In what situations are lists preferred over dictionaries?\n",
        "\n",
        "- When to prefer list over Dictionary\n",
        "\n",
        "Lists are ideal when:  \n",
        "\n",
        "- Order of elements matters.  \n",
        "- Data is simple and only values are stored.  \n",
        "- Sequential access or iteration is common.  \n",
        "- Index-based access is needed instead of key-based lookups.  \n",
        "\n",
        "Q19.  Why are dictionaries considered unordered, and how does that affect data retrieval?\n",
        "\n",
        "- Originally, dictionaries were considered Unordered because their internal aahash table storage places key–value pairs based on hash values, not sequence. This meant iteration order could differ from insertion order, so retrieval by position wasn’t possible or predictable.  \n",
        "\n",
        "From Python3.7 +, insertion order is preserved as an implementation detail, but logical operations still rely on keys, not positions — meaning you access values by their keys, and order is secondary to fast, O(1) lookups.\n",
        "\n",
        "Q20.  Explain the difference between a list and a dictionary in terms of data retrieval.\n",
        "\n",
        "-  List vs Dictionary - Data Retrieval\n",
        "\n",
        "- List: Access items by index (position). Lookup is O(1) if index known, but finding an item by value requires scanning (O(n)).  \n",
        "- Dictionary: Access items by key via hashing. Key lookup is typically *O(1)* and doesn’t depend on position.  \n",
        "- Impact: Lists suit ordered sequences; dictionaries excel at fast, key-based retrieval.  \n"
      ],
      "metadata": {
        "id": "xoD9xrbmjjFp"
      }
    },
    {
      "cell_type": "markdown",
      "source": [
        "#Practical Questions And Ans\n"
      ],
      "metadata": {
        "id": "pNmGZrwl9PND"
      }
    },
    {
      "cell_type": "markdown",
      "source": [],
      "metadata": {
        "id": "wnRjjrKCjXFr"
      }
    },
    {
      "cell_type": "markdown",
      "source": [
        "Q1.  Write a code to create a string with your name and print it."
      ],
      "metadata": {
        "id": "bR5ZHGmb-Gkp"
      }
    },
    {
      "cell_type": "code",
      "source": [
        "name = \"yash\"\n",
        "\n",
        "print(name)"
      ],
      "metadata": {
        "colab": {
          "base_uri": "https://localhost:8080/"
        },
        "id": "m3CCIh7c-S8O",
        "outputId": "a5eebcb3-69c2-4903-d0d7-d5109eb7cf1b"
      },
      "execution_count": null,
      "outputs": [
        {
          "output_type": "stream",
          "name": "stdout",
          "text": [
            "yash\n"
          ]
        }
      ]
    },
    {
      "cell_type": "markdown",
      "source": [
        "Q2.  Write a code to find the length of the string \"Hello World\"."
      ],
      "metadata": {
        "id": "9YUuDslJ_VHT"
      }
    },
    {
      "cell_type": "code",
      "source": [
        "text = \"Hello World\"\n",
        "length =len(text)\n",
        "print(\"length of the string:\", length)"
      ],
      "metadata": {
        "colab": {
          "base_uri": "https://localhost:8080/"
        },
        "id": "mjUDbdAeFIh4",
        "outputId": "433d4f89-5270-42c5-903b-d2dbae3b0e66"
      },
      "execution_count": 20,
      "outputs": [
        {
          "output_type": "stream",
          "name": "stdout",
          "text": [
            "length of the string: 11\n"
          ]
        }
      ]
    },
    {
      "cell_type": "markdown",
      "source": [
        "Q3.  Write a code to slice the first 3 characters from the string \"Python Programming\"."
      ],
      "metadata": {
        "id": "hWyeLZxWFsP0"
      }
    },
    {
      "cell_type": "code",
      "source": [
        "text = \"python programming\"\n",
        "first_three = text[:3]\n",
        "print(\"first 3 charcter are:\", first_three)"
      ],
      "metadata": {
        "colab": {
          "base_uri": "https://localhost:8080/"
        },
        "id": "UMI9mMiMF1X4",
        "outputId": "b4fdb30f-941f-4812-b73c-960fbc54ba9a"
      },
      "execution_count": null,
      "outputs": [
        {
          "output_type": "stream",
          "name": "stdout",
          "text": [
            "first 3 charcter are: pyt\n"
          ]
        }
      ]
    },
    {
      "cell_type": "markdown",
      "source": [
        "Q4. Write a code to convert the string \"hello\" to uppercase."
      ],
      "metadata": {
        "id": "WXEOzur0GtqB"
      }
    },
    {
      "cell_type": "code",
      "source": [
        "text = \"hello\"\n",
        "uppercase_text = text.upper()\n",
        "print(\"uppercase string:\", uppercase_text)"
      ],
      "metadata": {
        "colab": {
          "base_uri": "https://localhost:8080/"
        },
        "id": "P3gWJpEUG4fW",
        "outputId": "5dcdceac-0351-41f7-e5bc-5943c97fb5db"
      },
      "execution_count": null,
      "outputs": [
        {
          "output_type": "stream",
          "name": "stdout",
          "text": [
            "uppercase string: HELLO\n"
          ]
        }
      ]
    },
    {
      "cell_type": "markdown",
      "source": [
        "Q5.  Write a code to replace the word \"apple\" with \"orange\" in the string \"I like apple\"."
      ],
      "metadata": {
        "id": "Lja2WytGH4hi"
      }
    },
    {
      "cell_type": "code",
      "source": [
        "text = \"I Like apple\"\n",
        "new_text = text.replace(\"apple\", \"orange\")\n",
        "print(\"updated string:\", new_text)\n"
      ],
      "metadata": {
        "colab": {
          "base_uri": "https://localhost:8080/"
        },
        "id": "fGSj-9-QIBj0",
        "outputId": "97bd06d0-8d3d-4b24-cf5d-1257c999c310"
      },
      "execution_count": null,
      "outputs": [
        {
          "output_type": "stream",
          "name": "stdout",
          "text": [
            "updated string: I Like orange\n"
          ]
        }
      ]
    },
    {
      "cell_type": "markdown",
      "source": [
        "Q6.  Write a code to create a list with numbers 1 to 5 and print it."
      ],
      "metadata": {
        "id": "45a5lu89JP4h"
      }
    },
    {
      "cell_type": "code",
      "source": [
        "numbers = [1, 2, 3, 4, 5]\n",
        "print(\"list of numbers:\", numbers)"
      ],
      "metadata": {
        "colab": {
          "base_uri": "https://localhost:8080/"
        },
        "id": "9UVt4Z3nJW3V",
        "outputId": "d32259e7-c891-4e07-8d57-d4ce4183d62b"
      },
      "execution_count": null,
      "outputs": [
        {
          "output_type": "stream",
          "name": "stdout",
          "text": [
            "list of numbers: [1, 2, 3, 4, 5]\n"
          ]
        }
      ]
    },
    {
      "cell_type": "markdown",
      "source": [
        "Q7.  Write a code to append the number 10 to the list [1, 2, 3, 4, 5]."
      ],
      "metadata": {
        "id": "QFPVjRnxLjLk"
      }
    },
    {
      "cell_type": "code",
      "source": [
        "numbers = [1, 2, 3, 4, 5]\n",
        "numbers.append(10)\n",
        "print(\"updated list:\", numbers)"
      ],
      "metadata": {
        "colab": {
          "base_uri": "https://localhost:8080/"
        },
        "id": "KG1z-oKIL1yD",
        "outputId": "142adc9b-b7d2-43c0-dd54-d28d70575a89"
      },
      "execution_count": null,
      "outputs": [
        {
          "output_type": "stream",
          "name": "stdout",
          "text": [
            "updated list: [1, 2, 3, 4, 5, 10]\n"
          ]
        }
      ]
    },
    {
      "cell_type": "markdown",
      "source": [
        "Q8.  Write a code to remove the number 3 from the list [1, 2, 3, 4, 5]."
      ],
      "metadata": {
        "id": "5jLO2UPNMh0K"
      }
    },
    {
      "cell_type": "code",
      "source": [
        "number = [1, 2, 3, 4, 5]\n",
        "number.remove(3)\n",
        "print(\"updated list:\", number)"
      ],
      "metadata": {
        "colab": {
          "base_uri": "https://localhost:8080/"
        },
        "id": "4jRot9oPMqLx",
        "outputId": "5b19442e-976f-4fac-fbff-96d8bb0f6ea7"
      },
      "execution_count": null,
      "outputs": [
        {
          "output_type": "stream",
          "name": "stdout",
          "text": [
            "updated list: [1, 2, 4, 5]\n"
          ]
        }
      ]
    },
    {
      "cell_type": "markdown",
      "source": [
        "Q9.  Write a code to access the second element in the list ['a', 'b', 'c', 'd']."
      ],
      "metadata": {
        "id": "UgMyL0ANN-tF"
      }
    },
    {
      "cell_type": "code",
      "source": [
        "my_list = ['a', 'b', 'c', 'd']\n",
        "second_element = my_list[1]\n",
        "print(\"second element:\", second_element)"
      ],
      "metadata": {
        "colab": {
          "base_uri": "https://localhost:8080/"
        },
        "id": "iZpI2faTOH17",
        "outputId": "33bc7323-f258-4c2c-ddbb-d9adb342d8a1"
      },
      "execution_count": null,
      "outputs": [
        {
          "output_type": "stream",
          "name": "stdout",
          "text": [
            "second element: b\n"
          ]
        }
      ]
    },
    {
      "cell_type": "markdown",
      "source": [
        "Q10.  Write a code to reverse the list [10, 20, 30, 40, 50]."
      ],
      "metadata": {
        "id": "cvTo_N5QRCby"
      }
    },
    {
      "cell_type": "code",
      "source": [
        "my_list = [10, 20 , 30, 40, 50]\n",
        "reversed_list = my_list[:: -1]\n",
        "print(\"reversed list:\", reversed_list)"
      ],
      "metadata": {
        "colab": {
          "base_uri": "https://localhost:8080/"
        },
        "id": "jSroZNs3RJvd",
        "outputId": "f8a04ed0-6d8a-4fdc-b887-f728b3864203"
      },
      "execution_count": null,
      "outputs": [
        {
          "output_type": "stream",
          "name": "stdout",
          "text": [
            "reversed list: [50, 40, 30, 20, 10]\n"
          ]
        }
      ]
    },
    {
      "cell_type": "markdown",
      "source": [
        "Q11. Write a code to create a tuple with the elements 100, 200, 300 and print it."
      ],
      "metadata": {
        "id": "n-mzvihWV1FT"
      }
    },
    {
      "cell_type": "code",
      "source": [
        "my_tuple =(100, 200, 300)\n",
        "print(my_tuple)"
      ],
      "metadata": {
        "colab": {
          "base_uri": "https://localhost:8080/"
        },
        "id": "nTZH2i6_WHSu",
        "outputId": "ba525df3-f778-493f-8605-81c2a8d443c7"
      },
      "execution_count": null,
      "outputs": [
        {
          "output_type": "stream",
          "name": "stdout",
          "text": [
            "(100, 200, 300)\n"
          ]
        }
      ]
    },
    {
      "cell_type": "markdown",
      "source": [
        "Q12.  Write a code to access the second-to-last element of the tuple ('red', 'green', 'blue', 'yellow')."
      ],
      "metadata": {
        "id": "ZJ1bjnHDWtZa"
      }
    },
    {
      "cell_type": "code",
      "source": [
        "my_tuple = ('red', 'green', 'blue', 'yellow')\n",
        "second_last_element = my_tuple[-2]\n",
        "print(second_last_element)"
      ],
      "metadata": {
        "colab": {
          "base_uri": "https://localhost:8080/"
        },
        "id": "IgvIo2L_W5aI",
        "outputId": "55733933-17b2-48d3-cdda-5b6545eb0f7b"
      },
      "execution_count": null,
      "outputs": [
        {
          "output_type": "stream",
          "name": "stdout",
          "text": [
            "blue\n"
          ]
        }
      ]
    },
    {
      "cell_type": "markdown",
      "source": [
        "Q13. Write a code to find the minimum number in the tuple (10, 20, 5, 15)."
      ],
      "metadata": {
        "id": "DP-a-YuaYZvo"
      }
    },
    {
      "cell_type": "code",
      "source": [
        "my_tuple = (10, 20, 5, 15)\n",
        "minimum_number = min(my_tuple)\n",
        "print(minimum_number)"
      ],
      "metadata": {
        "colab": {
          "base_uri": "https://localhost:8080/"
        },
        "id": "k-nIl6Q-Ys3c",
        "outputId": "da748488-92af-4240-b1c0-9d529a6b918f"
      },
      "execution_count": null,
      "outputs": [
        {
          "output_type": "stream",
          "name": "stdout",
          "text": [
            "5\n"
          ]
        }
      ]
    },
    {
      "cell_type": "markdown",
      "source": [
        "Q14.  Write a code to find the index of the element \"cat\" in the tuple ('dog', 'cat', 'rabbit')."
      ],
      "metadata": {
        "id": "DlT6wMXXZH38"
      }
    },
    {
      "cell_type": "code",
      "source": [
        "my_tuple = ('dog', 'cat' , 'rabbit')\n",
        "index = my_tuple.index('cat')\n",
        "print(index)"
      ],
      "metadata": {
        "colab": {
          "base_uri": "https://localhost:8080/"
        },
        "id": "QS9HppMxZUxW",
        "outputId": "eb9086c3-d69b-4c3a-8f74-eb65143382ae"
      },
      "execution_count": null,
      "outputs": [
        {
          "output_type": "stream",
          "name": "stdout",
          "text": [
            "1\n"
          ]
        }
      ]
    },
    {
      "cell_type": "markdown",
      "source": [
        "Q15. Write a code to create a tuple containing three different fruits and check if \"kiwi\" is in it."
      ],
      "metadata": {
        "id": "bgGDUNuhaO4b"
      }
    },
    {
      "cell_type": "code",
      "source": [
        "my_tuple = ('apple,' 'banana', 'kiwi')\n",
        "if 'kiwi' in my_tuple:\n",
        " print(\"kiwi is in the tuple\")\n",
        "else:\n",
        "   print(\"kiwi is not in the tuple\")"
      ],
      "metadata": {
        "colab": {
          "base_uri": "https://localhost:8080/"
        },
        "id": "UK0UxTyvaXSU",
        "outputId": "287fe82f-55b2-41ae-eb6e-91f1e9168e2d"
      },
      "execution_count": null,
      "outputs": [
        {
          "output_type": "stream",
          "name": "stdout",
          "text": [
            "kiwi is in the tuple\n"
          ]
        }
      ]
    },
    {
      "cell_type": "markdown",
      "source": [
        "Q16.  Write a code to create a set with the elements 'a', 'b', 'c' and print it."
      ],
      "metadata": {
        "id": "_RYfVGBcc3DD"
      }
    },
    {
      "cell_type": "code",
      "source": [
        "my_set = {'a,', 'b', 'c'}\n",
        "print(my_set)"
      ],
      "metadata": {
        "colab": {
          "base_uri": "https://localhost:8080/"
        },
        "id": "pHcNAfhmc-xw",
        "outputId": "161d5513-dd9d-4a14-975c-1ab6413ba98a"
      },
      "execution_count": null,
      "outputs": [
        {
          "output_type": "stream",
          "name": "stdout",
          "text": [
            "{'a,', 'c', 'b'}\n"
          ]
        }
      ]
    },
    {
      "cell_type": "markdown",
      "source": [
        "Q17. Write a code to clear all elements from the set {1, 2, 3, 4, 5}."
      ],
      "metadata": {
        "id": "XQS4vJEAds8k"
      }
    },
    {
      "cell_type": "code",
      "source": [
        "my_set = {'1', '2', '3', '4', '5'}\n",
        "my_set.clear()\n",
        "print(my_set)"
      ],
      "metadata": {
        "colab": {
          "base_uri": "https://localhost:8080/"
        },
        "id": "tdRHJolmdzRe",
        "outputId": "398b0c73-cf1c-43b1-8f31-77ba381ba7be"
      },
      "execution_count": null,
      "outputs": [
        {
          "output_type": "stream",
          "name": "stdout",
          "text": [
            "set()\n"
          ]
        }
      ]
    },
    {
      "cell_type": "markdown",
      "source": [
        "Q18.  Write a code to remove the element 4 from the set {1, 2, 3, 4}."
      ],
      "metadata": {
        "id": "GQwoV194fkiu"
      }
    },
    {
      "cell_type": "code",
      "source": [
        "my_set = {'1','2','3', '4'}\n",
        "my_set.remove('4')\n",
        "print(my_set)\n"
      ],
      "metadata": {
        "colab": {
          "base_uri": "https://localhost:8080/"
        },
        "id": "ciSVrRGcfvjq",
        "outputId": "83732177-4012-4474-d1ad-92291c08e05a"
      },
      "execution_count": null,
      "outputs": [
        {
          "output_type": "stream",
          "name": "stdout",
          "text": [
            "{'2', '3', '1'}\n"
          ]
        }
      ]
    },
    {
      "cell_type": "markdown",
      "source": [
        "Q19. Write a code to find the union of two sets {1, 2, 3} and {3, 4, 5}."
      ],
      "metadata": {
        "id": "1DUJ5c_Gglcs"
      }
    },
    {
      "cell_type": "code",
      "source": [
        "my_set1 = {'1', '2', '3'}\n",
        "my_set2 = {'3', '4', '5'}\n",
        "union_set = my_set1.union(my_set2)\n",
        "print(union_set)"
      ],
      "metadata": {
        "colab": {
          "base_uri": "https://localhost:8080/"
        },
        "id": "TO4jo_hFg41l",
        "outputId": "5d6157f2-dca0-4927-b31b-4714f0efe41c"
      },
      "execution_count": null,
      "outputs": [
        {
          "output_type": "stream",
          "name": "stdout",
          "text": [
            "{'4', '3', '5', '1', '2'}\n"
          ]
        }
      ]
    },
    {
      "cell_type": "markdown",
      "source": [
        "Q20.  Write a code to find the intersection of two sets {1, 2, 3} and {2, 3, 4}."
      ],
      "metadata": {
        "id": "-FwwTkC7hwz_"
      }
    },
    {
      "cell_type": "code",
      "source": [
        "my_set1 = {'1', '2', '3'}\n",
        "my_set2 = {'2', '3', '4'}\n",
        "intersection_set = my_set1.intersection(my_set2)\n",
        "print(intersection_set)"
      ],
      "metadata": {
        "colab": {
          "base_uri": "https://localhost:8080/"
        },
        "id": "2oLKMJOZh4vp",
        "outputId": "3ae089c6-0207-4c9c-efce-18ef3f40e61e"
      },
      "execution_count": null,
      "outputs": [
        {
          "output_type": "stream",
          "name": "stdout",
          "text": [
            "{'2', '3'}\n"
          ]
        }
      ]
    },
    {
      "cell_type": "markdown",
      "source": [
        "Q21.  Write a code to create a dictionary with the keys \"name\", \"age\", and \"city\", and print it."
      ],
      "metadata": {
        "id": "l5BJEt59i1F_"
      }
    },
    {
      "cell_type": "code",
      "source": [
        "my_dict = {\"name\": \"yash\", \"age\": 24, \"city\": \"jamalpur\"}\n",
        "print(my_dict)"
      ],
      "metadata": {
        "colab": {
          "base_uri": "https://localhost:8080/"
        },
        "id": "28NWlBIvi7sl",
        "outputId": "f16fd542-4354-4324-8ff4-40ab827f062c"
      },
      "execution_count": null,
      "outputs": [
        {
          "output_type": "stream",
          "name": "stdout",
          "text": [
            "{'name': 'yash', 'age': 24, 'city': 'jamalpur'}\n"
          ]
        }
      ]
    },
    {
      "cell_type": "markdown",
      "source": [
        "Q22.  Write a code to add a new key-value pair \"country\": \"USA\" to the dictionary {'name': 'John', 'age': 25}."
      ],
      "metadata": {
        "id": "5jgKemBMkkKd"
      }
    },
    {
      "cell_type": "code",
      "source": [
        "my_dict = {'name': 'john', 'age': 25}\n",
        "my_dict[\"country\"] = \"usa\"\n",
        "print(my_dict)"
      ],
      "metadata": {
        "colab": {
          "base_uri": "https://localhost:8080/"
        },
        "id": "mA28nRY2ksId",
        "outputId": "3cf6962c-9cb2-4f25-ee8d-a18fe7b7aee0"
      },
      "execution_count": null,
      "outputs": [
        {
          "output_type": "stream",
          "name": "stdout",
          "text": [
            "{'name': 'john', 'age': 25, 'country': 'usa'}\n"
          ]
        }
      ]
    },
    {
      "cell_type": "markdown",
      "source": [
        "Q23. Write a code to access the value associated with the key \"name\" in the dictionary {'name': 'Alice', 'age': 30}."
      ],
      "metadata": {
        "id": "WVYQHYN7l9TI"
      }
    },
    {
      "cell_type": "code",
      "source": [
        "my_dict = {'name': 'Alice', 'age': 30}\n",
        "print(my_dict[\"name\"])"
      ],
      "metadata": {
        "colab": {
          "base_uri": "https://localhost:8080/"
        },
        "id": "ILdYmm0SmA63",
        "outputId": "c95c14d3-763d-400c-9faa-30125ce54a83"
      },
      "execution_count": null,
      "outputs": [
        {
          "output_type": "stream",
          "name": "stdout",
          "text": [
            "Alice\n"
          ]
        }
      ]
    },
    {
      "cell_type": "markdown",
      "source": [
        "Q24. Write a code to remove the key \"age\" from the dictionary {'name': 'Bob', 'age': 22, 'city': 'New York'}."
      ],
      "metadata": {
        "id": "aa3ogbiAoHyU"
      }
    },
    {
      "cell_type": "code",
      "source": [
        "my_dict = {'name': 'Bob', 'age': '22', 'city': 'New York'}\n",
        "my_dict.pop(\"age\")\n",
        "print(my_dict)"
      ],
      "metadata": {
        "colab": {
          "base_uri": "https://localhost:8080/"
        },
        "id": "rXsK_gY2oK0L",
        "outputId": "b20d2135-d0bd-4053-d5d7-3a1a501e52ba"
      },
      "execution_count": null,
      "outputs": [
        {
          "output_type": "stream",
          "name": "stdout",
          "text": [
            "{'name': 'Bob', 'city': 'New York'}\n"
          ]
        }
      ]
    },
    {
      "cell_type": "markdown",
      "source": [
        "Q25.  Write a code to check if the key \"city\" exists in the dictionary {'name': 'Alice', 'city': 'Paris'}."
      ],
      "metadata": {
        "id": "jKVZL301pb4o"
      }
    },
    {
      "cell_type": "code",
      "source": [
        "my_dict = {'name': 'Alice', 'city': 'paris'}\n",
        "if \"city\" in my_dict:\n",
        "  print(\"city is in the dictionary\")\n",
        "else:\n",
        "  print(\"city is not in my dictionary\")"
      ],
      "metadata": {
        "colab": {
          "base_uri": "https://localhost:8080/"
        },
        "id": "rb-6Siy-pjRh",
        "outputId": "cf9fc299-9251-477b-b964-66cb9dd87855"
      },
      "execution_count": null,
      "outputs": [
        {
          "output_type": "stream",
          "name": "stdout",
          "text": [
            "city is in the dictionary\n"
          ]
        }
      ]
    },
    {
      "cell_type": "markdown",
      "source": [
        "Q26. Write a code to create a list, a tuple, and a dictionary, and print them all."
      ],
      "metadata": {
        "id": "ZSOXN-x2rFg-"
      }
    },
    {
      "cell_type": "code",
      "source": [
        "my_list = [1, 2, 3, 4, 5]\n",
        "my_tuple = ('apple', 'banana', 'papaya')\n",
        "my_dict = {'name': \"yash\", 'city': \"jamalpur\", 'age': 24}\n",
        "\n",
        "print(\"list:\", my_list)\n",
        "print(\"tuple:\", my_tuple)\n",
        "print(\"Dictionary:\", my_dict)"
      ],
      "metadata": {
        "colab": {
          "base_uri": "https://localhost:8080/"
        },
        "id": "B1nUB23OrMcZ",
        "outputId": "054af054-6736-4635-cb18-9122f5b685d5"
      },
      "execution_count": null,
      "outputs": [
        {
          "output_type": "stream",
          "name": "stdout",
          "text": [
            "list: [1, 2, 3, 4, 5]\n",
            "tuple: ('apple', 'banana', 'papaya')\n",
            "Dictionary: {'name': 'yash', 'city': 'jamalpur', 'age': 24}\n"
          ]
        }
      ]
    },
    {
      "cell_type": "markdown",
      "source": [
        "Q27. Write a code to create a list of 5 random numbers between 1 and 100, sort it in ascending order, and print the result (replaced)."
      ],
      "metadata": {
        "id": "sWM0mo4fur_x"
      }
    },
    {
      "cell_type": "code",
      "source": [
        "my_list = [10, 25, 5, 55, 50]\n",
        "my_list.sort()\n",
        "print(my_list)"
      ],
      "metadata": {
        "colab": {
          "base_uri": "https://localhost:8080/"
        },
        "id": "BbRLzPThtqkV",
        "outputId": "86355ba9-76b9-47fb-ce32-3c0e13be62b8"
      },
      "execution_count": 1,
      "outputs": [
        {
          "output_type": "stream",
          "name": "stdout",
          "text": [
            "[5, 10, 25, 50, 55]\n"
          ]
        }
      ]
    },
    {
      "cell_type": "markdown",
      "source": [
        "Q28. Write a code to create a list with strings and print the element at the third index."
      ],
      "metadata": {
        "id": "tC3RZ-7zuV75"
      }
    },
    {
      "cell_type": "code",
      "source": [
        "my_list = ['apple', 'banana', 'grapes', 'pumpkin']\n",
        "third_element = my_list[2]\n",
        "print(third_element)"
      ],
      "metadata": {
        "colab": {
          "base_uri": "https://localhost:8080/"
        },
        "id": "UqfAbilgudWJ",
        "outputId": "ca1f929f-e620-4cde-ab01-9db316952528"
      },
      "execution_count": 6,
      "outputs": [
        {
          "output_type": "stream",
          "name": "stdout",
          "text": [
            "grapes\n"
          ]
        }
      ]
    },
    {
      "cell_type": "markdown",
      "source": [
        "Q29.  Write a code to combine two dictionaries into one and print the result."
      ],
      "metadata": {
        "id": "2Ysv61ezwTCU"
      }
    },
    {
      "cell_type": "code",
      "source": [
        "my_dict1 = {\"name\": \"Yash\", \"age\": 24 }\n",
        "my_dict2 = {\"city\": \"jamalpur\", \"country\": \"india\"}\n",
        "combine_dict = {**my_dict1, **my_dict2}\n",
        "print(\"Combined Dictionary:\", combine_dict)"
      ],
      "metadata": {
        "colab": {
          "base_uri": "https://localhost:8080/"
        },
        "id": "Qq8vIdb2wosr",
        "outputId": "8eb9551f-762f-403a-b0a9-e0a2db5bbe1f"
      },
      "execution_count": 17,
      "outputs": [
        {
          "output_type": "stream",
          "name": "stdout",
          "text": [
            "Combined Dictionary: {'name': 'Yash', 'age': 24, 'city': 'jamalpur', 'country': 'india'}\n"
          ]
        }
      ]
    },
    {
      "cell_type": "markdown",
      "source": [
        "Q30. Write a code to convert a list of strings into a set."
      ],
      "metadata": {
        "id": "TT3yT3U64UjN"
      }
    },
    {
      "cell_type": "code",
      "source": [
        "my_list = ['apple', 'banana', 'grapes', 'orange']\n",
        "my_set = set(my_list)\n",
        "print(\"set:\", my_set)"
      ],
      "metadata": {
        "colab": {
          "base_uri": "https://localhost:8080/"
        },
        "id": "HUFymcxZ4coA",
        "outputId": "3d90f92c-a124-454a-b725-1209c8a820fc"
      },
      "execution_count": 19,
      "outputs": [
        {
          "output_type": "stream",
          "name": "stdout",
          "text": [
            "set: {'grapes', 'banana', 'apple', 'orange'}\n"
          ]
        }
      ]
    }
  ]
}